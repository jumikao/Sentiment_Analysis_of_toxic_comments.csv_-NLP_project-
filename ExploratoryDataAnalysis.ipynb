{
  "cells": [
    {
      "cell_type": "markdown",
      "metadata": {
        "id": "view-in-github",
        "colab_type": "text"
      },
      "source": [
        "<a href=\"https://colab.research.google.com/github/jumikao/Sentiment_Analysis_of_toxic_comments.csv/blob/main/ExploratoryDataAnalysis.ipynb\" target=\"_parent\"><img src=\"https://colab.research.google.com/assets/colab-badge.svg\" alt=\"Open In Colab\"/></a>"
      ]
    },
    {
      "cell_type": "markdown",
      "metadata": {
        "id": "oQiSodQNTxpb"
      },
      "source": [
        "# 1. DATA DESCRIPTION"
      ]
    },
    {
      "cell_type": "markdown",
      "metadata": {
        "id": "un1cHIqWUGBg"
      },
      "source": [
        "At the end of 2017, the Civil Comments platform shut down and chose to make their ~2m public comments from their platform available in a lasting open archive so that researchers could understand and improve civility in online conversations for years to come. Jigsaw (part of Google) sponsored this effort and extended annotation of this data by human raters for various toxic conversational attributes.\n",
        "\n",
        "Features\n",
        "Comment_text: This is the data in string format which we have to use to find the toxicity.\n",
        "\n",
        "target: Target values which are to be predicted (has values between 0 and 1)\n",
        "\n",
        "Data also has additional toxicity subtype attributes: (Model does not have to predict these)\n",
        "severe_toxicity\n",
        "obscene\n",
        "threat\n",
        "insult\n",
        "identity_attack\n",
        "sexual_explicit\n",
        "\n",
        "Comment_text data also has identity attributes carved out from it, some of which are:\n",
        "male\n",
        "female\n",
        "homosexual_gay_or_lesbian\n",
        "christian\n",
        "jewish\n",
        "muslim\n",
        "black\n",
        "white\n",
        "asian\n",
        "latino\n",
        "psychiatric_or_mental_illness\n",
        "\n",
        "Apart from above features the train data also provides meta-data from jigsaw like:\n",
        "toxicity_annotator_count\n",
        "identity_anotator_count\n",
        "article_id\n",
        "funny\n",
        "sad\n",
        "wow\n",
        "likes\n",
        "disagree\n",
        "publication_id\n",
        "parent_id\n",
        "article_id\n",
        "created_date"
      ]
    },
    {
      "cell_type": "markdown",
      "metadata": {
        "id": "srIz46Fzq_c6"
      },
      "source": [
        "Task description\n",
        "\n",
        "The task is to build a model that recognizes toxicity and minimizes this type of unintended bias with respect to mentions of identities. You can proceed with one of two possible approches:\n",
        "\n",
        "treat the problem of toxicity detection as a classification problem, where target feature with value higher than 0.5 is treated as a toxic\n",
        "\n",
        "or try to predict exact toxicity score between 0 and 1\n",
        "\n",
        "There are multiple possible ways of handling this task. You can go with different architectures, strategies. Try to start with something easy just to make it work, to not get stucked. Also, propose appropriate evaluation metric depends on what approach will you choose (e.g. classification, linear regression)."
      ]
    },
    {
      "cell_type": "markdown",
      "metadata": {
        "id": "CNjFcTTRT1Y-"
      },
      "source": [
        "# 2. DATA COLLECTION"
      ]
    },
    {
      "cell_type": "code",
      "execution_count": null,
      "metadata": {
        "id": "k3DMK-S9Vr2r",
        "colab": {
          "base_uri": "https://localhost:8080/"
        },
        "outputId": "bd3bfcc8-4d4f-4679-ebb2-e26dc79944f7"
      },
      "outputs": [
        {
          "output_type": "stream",
          "name": "stdout",
          "text": [
            "Drive already mounted at /content/drive; to attempt to forcibly remount, call drive.mount(\"/content/drive\", force_remount=True).\n"
          ]
        }
      ],
      "source": [
        "from google.colab import drive\n",
        "drive.mount('/content/drive')"
      ]
    },
    {
      "cell_type": "code",
      "execution_count": null,
      "metadata": {
        "id": "UwpzXWaRVwnT"
      },
      "outputs": [],
      "source": [
        "import pandas as pd\n",
        "\n",
        "plik_df = pd.read_csv(r'/content/drive/MyDrive/toxic_comments.csv')"
      ]
    },
    {
      "cell_type": "code",
      "execution_count": null,
      "metadata": {
        "id": "kZgAhz6QYQKw",
        "colab": {
          "base_uri": "https://localhost:8080/"
        },
        "outputId": "8d1505e9-cad4-41e5-eb5e-4e7ca5b9da1b"
      },
      "outputs": [
        {
          "output_type": "stream",
          "name": "stdout",
          "text": [
            "<class 'pandas.core.frame.DataFrame'>\n",
            "RangeIndex: 1804874 entries, 0 to 1804873\n",
            "Data columns (total 45 columns):\n",
            " #   Column                               Dtype  \n",
            "---  ------                               -----  \n",
            " 0   id                                   int64  \n",
            " 1   target                               float64\n",
            " 2   comment_text                         object \n",
            " 3   severe_toxicity                      float64\n",
            " 4   obscene                              float64\n",
            " 5   identity_attack                      float64\n",
            " 6   insult                               float64\n",
            " 7   threat                               float64\n",
            " 8   asian                                float64\n",
            " 9   atheist                              float64\n",
            " 10  bisexual                             float64\n",
            " 11  black                                float64\n",
            " 12  buddhist                             float64\n",
            " 13  christian                            float64\n",
            " 14  female                               float64\n",
            " 15  heterosexual                         float64\n",
            " 16  hindu                                float64\n",
            " 17  homosexual_gay_or_lesbian            float64\n",
            " 18  intellectual_or_learning_disability  float64\n",
            " 19  jewish                               float64\n",
            " 20  latino                               float64\n",
            " 21  male                                 float64\n",
            " 22  muslim                               float64\n",
            " 23  other_disability                     float64\n",
            " 24  other_gender                         float64\n",
            " 25  other_race_or_ethnicity              float64\n",
            " 26  other_religion                       float64\n",
            " 27  other_sexual_orientation             float64\n",
            " 28  physical_disability                  float64\n",
            " 29  psychiatric_or_mental_illness        float64\n",
            " 30  transgender                          float64\n",
            " 31  white                                float64\n",
            " 32  created_date                         object \n",
            " 33  publication_id                       int64  \n",
            " 34  parent_id                            float64\n",
            " 35  article_id                           int64  \n",
            " 36  rating                               object \n",
            " 37  funny                                int64  \n",
            " 38  wow                                  int64  \n",
            " 39  sad                                  int64  \n",
            " 40  likes                                int64  \n",
            " 41  disagree                             int64  \n",
            " 42  sexual_explicit                      float64\n",
            " 43  identity_annotator_count             int64  \n",
            " 44  toxicity_annotator_count             int64  \n",
            "dtypes: float64(32), int64(10), object(3)\n",
            "memory usage: 619.7+ MB\n"
          ]
        }
      ],
      "source": [
        "plik_df.info()"
      ]
    },
    {
      "cell_type": "code",
      "execution_count": null,
      "metadata": {
        "id": "NYJQcHXPZiSt",
        "colab": {
          "base_uri": "https://localhost:8080/",
          "height": 821
        },
        "outputId": "7b225c33-88e9-4f8a-9bdf-4ffb1532a1dc"
      },
      "outputs": [
        {
          "output_type": "execute_result",
          "data": {
            "text/plain": [
              "        id    target                                       comment_text  \\\n",
              "0    59848  0.000000  This is so cool. It's like, 'would you want yo...   \n",
              "1    59849  0.000000  Thank you!! This would make my life a lot less...   \n",
              "2    59852  0.000000  This is such an urgent design problem; kudos t...   \n",
              "3    59855  0.000000  Is this something I'll be able to install on m...   \n",
              "4    59856  0.893617               haha you guys are a bunch of losers.   \n",
              "5    59859  0.666667                               ur a sh*tty comment.   \n",
              "6    59861  0.457627                        hahahahahahahahhha suck it.   \n",
              "7    59863  0.000000                                FFFFUUUUUUUUUUUUUUU   \n",
              "8   239575  0.000000  The ranchers seem motivated by mostly by greed...   \n",
              "9   239576  0.000000  It was a great show. Not a combo I'd of expect...   \n",
              "10  239578  0.000000                            Wow, that sounds great.   \n",
              "11  239579  0.440000  This is a great story. Man. I wonder if the pe...   \n",
              "12  239582  0.000000     This seems like a step in the right direction.   \n",
              "13  239583  0.600000  It's ridiculous that these guys are being call...   \n",
              "14  239584  0.500000  This story gets more ridiculous by the hour! A...   \n",
              "\n",
              "    severe_toxicity   obscene  identity_attack    insult  threat  asian  \\\n",
              "0          0.000000  0.000000         0.000000  0.000000     0.0    NaN   \n",
              "1          0.000000  0.000000         0.000000  0.000000     0.0    NaN   \n",
              "2          0.000000  0.000000         0.000000  0.000000     0.0    NaN   \n",
              "3          0.000000  0.000000         0.000000  0.000000     0.0    NaN   \n",
              "4          0.021277  0.000000         0.021277  0.872340     0.0    0.0   \n",
              "5          0.047619  0.638095         0.000000  0.333333     0.0    NaN   \n",
              "6          0.050847  0.305085         0.000000  0.254237     0.0    NaN   \n",
              "7          0.000000  0.000000         0.000000  0.000000     0.0    NaN   \n",
              "8          0.000000  0.000000         0.000000  0.000000     0.0    NaN   \n",
              "9          0.000000  0.000000         0.000000  0.000000     0.0    NaN   \n",
              "10         0.000000  0.000000         0.000000  0.000000     0.0    NaN   \n",
              "11         0.000000  0.293333         0.000000  0.320000     0.0    0.0   \n",
              "12         0.000000  0.000000         0.000000  0.000000     0.0    NaN   \n",
              "13         0.000000  0.100000         0.000000  0.600000     0.1    NaN   \n",
              "14         0.000000  0.000000         0.000000  0.300000     0.0    NaN   \n",
              "\n",
              "    atheist  ...  article_id    rating  funny  wow  sad  likes  disagree  \\\n",
              "0       NaN  ...        2006  rejected      0    0    0      0         0   \n",
              "1       NaN  ...        2006  rejected      0    0    0      0         0   \n",
              "2       NaN  ...        2006  rejected      0    0    0      0         0   \n",
              "3       NaN  ...        2006  rejected      0    0    0      0         0   \n",
              "4       0.0  ...        2006  rejected      0    0    0      1         0   \n",
              "5       NaN  ...        2006  rejected      0    0    0      0         0   \n",
              "6       NaN  ...        2006  rejected      0    0    0      0         0   \n",
              "7       NaN  ...        2006  rejected      0    0    0      0         0   \n",
              "8       NaN  ...       26662  approved      0    0    0      0         0   \n",
              "9       NaN  ...       26650  approved      0    0    0      1         0   \n",
              "10      NaN  ...       26650  approved      0    0    0      0         0   \n",
              "11      0.0  ...       26650  approved      0    0    0      1         0   \n",
              "12      NaN  ...       26795  approved      0    0    0      5         0   \n",
              "13      NaN  ...       26670  approved      0    0    0      3         0   \n",
              "14      NaN  ...       26670  approved      0    0    0      9         0   \n",
              "\n",
              "    sexual_explicit  identity_annotator_count  toxicity_annotator_count  \n",
              "0          0.000000                         0                         4  \n",
              "1          0.000000                         0                         4  \n",
              "2          0.000000                         0                         4  \n",
              "3          0.000000                         0                         4  \n",
              "4          0.000000                         4                        47  \n",
              "5          0.009524                         0                       105  \n",
              "6          0.220339                         0                        59  \n",
              "7          0.000000                         0                         4  \n",
              "8          0.000000                         0                         4  \n",
              "9          0.000000                         0                         4  \n",
              "10         0.000000                         0                         4  \n",
              "11         0.040000                        10                        75  \n",
              "12         0.000000                         0                         4  \n",
              "13         0.000000                         0                        10  \n",
              "14         0.000000                         0                        10  \n",
              "\n",
              "[15 rows x 45 columns]"
            ],
            "text/html": [
              "\n",
              "  <div id=\"df-8933cfda-0f9a-49a0-ad28-f35373cdfac7\">\n",
              "    <div class=\"colab-df-container\">\n",
              "      <div>\n",
              "<style scoped>\n",
              "    .dataframe tbody tr th:only-of-type {\n",
              "        vertical-align: middle;\n",
              "    }\n",
              "\n",
              "    .dataframe tbody tr th {\n",
              "        vertical-align: top;\n",
              "    }\n",
              "\n",
              "    .dataframe thead th {\n",
              "        text-align: right;\n",
              "    }\n",
              "</style>\n",
              "<table border=\"1\" class=\"dataframe\">\n",
              "  <thead>\n",
              "    <tr style=\"text-align: right;\">\n",
              "      <th></th>\n",
              "      <th>id</th>\n",
              "      <th>target</th>\n",
              "      <th>comment_text</th>\n",
              "      <th>severe_toxicity</th>\n",
              "      <th>obscene</th>\n",
              "      <th>identity_attack</th>\n",
              "      <th>insult</th>\n",
              "      <th>threat</th>\n",
              "      <th>asian</th>\n",
              "      <th>atheist</th>\n",
              "      <th>...</th>\n",
              "      <th>article_id</th>\n",
              "      <th>rating</th>\n",
              "      <th>funny</th>\n",
              "      <th>wow</th>\n",
              "      <th>sad</th>\n",
              "      <th>likes</th>\n",
              "      <th>disagree</th>\n",
              "      <th>sexual_explicit</th>\n",
              "      <th>identity_annotator_count</th>\n",
              "      <th>toxicity_annotator_count</th>\n",
              "    </tr>\n",
              "  </thead>\n",
              "  <tbody>\n",
              "    <tr>\n",
              "      <th>0</th>\n",
              "      <td>59848</td>\n",
              "      <td>0.000000</td>\n",
              "      <td>This is so cool. It's like, 'would you want yo...</td>\n",
              "      <td>0.000000</td>\n",
              "      <td>0.000000</td>\n",
              "      <td>0.000000</td>\n",
              "      <td>0.000000</td>\n",
              "      <td>0.0</td>\n",
              "      <td>NaN</td>\n",
              "      <td>NaN</td>\n",
              "      <td>...</td>\n",
              "      <td>2006</td>\n",
              "      <td>rejected</td>\n",
              "      <td>0</td>\n",
              "      <td>0</td>\n",
              "      <td>0</td>\n",
              "      <td>0</td>\n",
              "      <td>0</td>\n",
              "      <td>0.000000</td>\n",
              "      <td>0</td>\n",
              "      <td>4</td>\n",
              "    </tr>\n",
              "    <tr>\n",
              "      <th>1</th>\n",
              "      <td>59849</td>\n",
              "      <td>0.000000</td>\n",
              "      <td>Thank you!! This would make my life a lot less...</td>\n",
              "      <td>0.000000</td>\n",
              "      <td>0.000000</td>\n",
              "      <td>0.000000</td>\n",
              "      <td>0.000000</td>\n",
              "      <td>0.0</td>\n",
              "      <td>NaN</td>\n",
              "      <td>NaN</td>\n",
              "      <td>...</td>\n",
              "      <td>2006</td>\n",
              "      <td>rejected</td>\n",
              "      <td>0</td>\n",
              "      <td>0</td>\n",
              "      <td>0</td>\n",
              "      <td>0</td>\n",
              "      <td>0</td>\n",
              "      <td>0.000000</td>\n",
              "      <td>0</td>\n",
              "      <td>4</td>\n",
              "    </tr>\n",
              "    <tr>\n",
              "      <th>2</th>\n",
              "      <td>59852</td>\n",
              "      <td>0.000000</td>\n",
              "      <td>This is such an urgent design problem; kudos t...</td>\n",
              "      <td>0.000000</td>\n",
              "      <td>0.000000</td>\n",
              "      <td>0.000000</td>\n",
              "      <td>0.000000</td>\n",
              "      <td>0.0</td>\n",
              "      <td>NaN</td>\n",
              "      <td>NaN</td>\n",
              "      <td>...</td>\n",
              "      <td>2006</td>\n",
              "      <td>rejected</td>\n",
              "      <td>0</td>\n",
              "      <td>0</td>\n",
              "      <td>0</td>\n",
              "      <td>0</td>\n",
              "      <td>0</td>\n",
              "      <td>0.000000</td>\n",
              "      <td>0</td>\n",
              "      <td>4</td>\n",
              "    </tr>\n",
              "    <tr>\n",
              "      <th>3</th>\n",
              "      <td>59855</td>\n",
              "      <td>0.000000</td>\n",
              "      <td>Is this something I'll be able to install on m...</td>\n",
              "      <td>0.000000</td>\n",
              "      <td>0.000000</td>\n",
              "      <td>0.000000</td>\n",
              "      <td>0.000000</td>\n",
              "      <td>0.0</td>\n",
              "      <td>NaN</td>\n",
              "      <td>NaN</td>\n",
              "      <td>...</td>\n",
              "      <td>2006</td>\n",
              "      <td>rejected</td>\n",
              "      <td>0</td>\n",
              "      <td>0</td>\n",
              "      <td>0</td>\n",
              "      <td>0</td>\n",
              "      <td>0</td>\n",
              "      <td>0.000000</td>\n",
              "      <td>0</td>\n",
              "      <td>4</td>\n",
              "    </tr>\n",
              "    <tr>\n",
              "      <th>4</th>\n",
              "      <td>59856</td>\n",
              "      <td>0.893617</td>\n",
              "      <td>haha you guys are a bunch of losers.</td>\n",
              "      <td>0.021277</td>\n",
              "      <td>0.000000</td>\n",
              "      <td>0.021277</td>\n",
              "      <td>0.872340</td>\n",
              "      <td>0.0</td>\n",
              "      <td>0.0</td>\n",
              "      <td>0.0</td>\n",
              "      <td>...</td>\n",
              "      <td>2006</td>\n",
              "      <td>rejected</td>\n",
              "      <td>0</td>\n",
              "      <td>0</td>\n",
              "      <td>0</td>\n",
              "      <td>1</td>\n",
              "      <td>0</td>\n",
              "      <td>0.000000</td>\n",
              "      <td>4</td>\n",
              "      <td>47</td>\n",
              "    </tr>\n",
              "    <tr>\n",
              "      <th>5</th>\n",
              "      <td>59859</td>\n",
              "      <td>0.666667</td>\n",
              "      <td>ur a sh*tty comment.</td>\n",
              "      <td>0.047619</td>\n",
              "      <td>0.638095</td>\n",
              "      <td>0.000000</td>\n",
              "      <td>0.333333</td>\n",
              "      <td>0.0</td>\n",
              "      <td>NaN</td>\n",
              "      <td>NaN</td>\n",
              "      <td>...</td>\n",
              "      <td>2006</td>\n",
              "      <td>rejected</td>\n",
              "      <td>0</td>\n",
              "      <td>0</td>\n",
              "      <td>0</td>\n",
              "      <td>0</td>\n",
              "      <td>0</td>\n",
              "      <td>0.009524</td>\n",
              "      <td>0</td>\n",
              "      <td>105</td>\n",
              "    </tr>\n",
              "    <tr>\n",
              "      <th>6</th>\n",
              "      <td>59861</td>\n",
              "      <td>0.457627</td>\n",
              "      <td>hahahahahahahahhha suck it.</td>\n",
              "      <td>0.050847</td>\n",
              "      <td>0.305085</td>\n",
              "      <td>0.000000</td>\n",
              "      <td>0.254237</td>\n",
              "      <td>0.0</td>\n",
              "      <td>NaN</td>\n",
              "      <td>NaN</td>\n",
              "      <td>...</td>\n",
              "      <td>2006</td>\n",
              "      <td>rejected</td>\n",
              "      <td>0</td>\n",
              "      <td>0</td>\n",
              "      <td>0</td>\n",
              "      <td>0</td>\n",
              "      <td>0</td>\n",
              "      <td>0.220339</td>\n",
              "      <td>0</td>\n",
              "      <td>59</td>\n",
              "    </tr>\n",
              "    <tr>\n",
              "      <th>7</th>\n",
              "      <td>59863</td>\n",
              "      <td>0.000000</td>\n",
              "      <td>FFFFUUUUUUUUUUUUUUU</td>\n",
              "      <td>0.000000</td>\n",
              "      <td>0.000000</td>\n",
              "      <td>0.000000</td>\n",
              "      <td>0.000000</td>\n",
              "      <td>0.0</td>\n",
              "      <td>NaN</td>\n",
              "      <td>NaN</td>\n",
              "      <td>...</td>\n",
              "      <td>2006</td>\n",
              "      <td>rejected</td>\n",
              "      <td>0</td>\n",
              "      <td>0</td>\n",
              "      <td>0</td>\n",
              "      <td>0</td>\n",
              "      <td>0</td>\n",
              "      <td>0.000000</td>\n",
              "      <td>0</td>\n",
              "      <td>4</td>\n",
              "    </tr>\n",
              "    <tr>\n",
              "      <th>8</th>\n",
              "      <td>239575</td>\n",
              "      <td>0.000000</td>\n",
              "      <td>The ranchers seem motivated by mostly by greed...</td>\n",
              "      <td>0.000000</td>\n",
              "      <td>0.000000</td>\n",
              "      <td>0.000000</td>\n",
              "      <td>0.000000</td>\n",
              "      <td>0.0</td>\n",
              "      <td>NaN</td>\n",
              "      <td>NaN</td>\n",
              "      <td>...</td>\n",
              "      <td>26662</td>\n",
              "      <td>approved</td>\n",
              "      <td>0</td>\n",
              "      <td>0</td>\n",
              "      <td>0</td>\n",
              "      <td>0</td>\n",
              "      <td>0</td>\n",
              "      <td>0.000000</td>\n",
              "      <td>0</td>\n",
              "      <td>4</td>\n",
              "    </tr>\n",
              "    <tr>\n",
              "      <th>9</th>\n",
              "      <td>239576</td>\n",
              "      <td>0.000000</td>\n",
              "      <td>It was a great show. Not a combo I'd of expect...</td>\n",
              "      <td>0.000000</td>\n",
              "      <td>0.000000</td>\n",
              "      <td>0.000000</td>\n",
              "      <td>0.000000</td>\n",
              "      <td>0.0</td>\n",
              "      <td>NaN</td>\n",
              "      <td>NaN</td>\n",
              "      <td>...</td>\n",
              "      <td>26650</td>\n",
              "      <td>approved</td>\n",
              "      <td>0</td>\n",
              "      <td>0</td>\n",
              "      <td>0</td>\n",
              "      <td>1</td>\n",
              "      <td>0</td>\n",
              "      <td>0.000000</td>\n",
              "      <td>0</td>\n",
              "      <td>4</td>\n",
              "    </tr>\n",
              "    <tr>\n",
              "      <th>10</th>\n",
              "      <td>239578</td>\n",
              "      <td>0.000000</td>\n",
              "      <td>Wow, that sounds great.</td>\n",
              "      <td>0.000000</td>\n",
              "      <td>0.000000</td>\n",
              "      <td>0.000000</td>\n",
              "      <td>0.000000</td>\n",
              "      <td>0.0</td>\n",
              "      <td>NaN</td>\n",
              "      <td>NaN</td>\n",
              "      <td>...</td>\n",
              "      <td>26650</td>\n",
              "      <td>approved</td>\n",
              "      <td>0</td>\n",
              "      <td>0</td>\n",
              "      <td>0</td>\n",
              "      <td>0</td>\n",
              "      <td>0</td>\n",
              "      <td>0.000000</td>\n",
              "      <td>0</td>\n",
              "      <td>4</td>\n",
              "    </tr>\n",
              "    <tr>\n",
              "      <th>11</th>\n",
              "      <td>239579</td>\n",
              "      <td>0.440000</td>\n",
              "      <td>This is a great story. Man. I wonder if the pe...</td>\n",
              "      <td>0.000000</td>\n",
              "      <td>0.293333</td>\n",
              "      <td>0.000000</td>\n",
              "      <td>0.320000</td>\n",
              "      <td>0.0</td>\n",
              "      <td>0.0</td>\n",
              "      <td>0.0</td>\n",
              "      <td>...</td>\n",
              "      <td>26650</td>\n",
              "      <td>approved</td>\n",
              "      <td>0</td>\n",
              "      <td>0</td>\n",
              "      <td>0</td>\n",
              "      <td>1</td>\n",
              "      <td>0</td>\n",
              "      <td>0.040000</td>\n",
              "      <td>10</td>\n",
              "      <td>75</td>\n",
              "    </tr>\n",
              "    <tr>\n",
              "      <th>12</th>\n",
              "      <td>239582</td>\n",
              "      <td>0.000000</td>\n",
              "      <td>This seems like a step in the right direction.</td>\n",
              "      <td>0.000000</td>\n",
              "      <td>0.000000</td>\n",
              "      <td>0.000000</td>\n",
              "      <td>0.000000</td>\n",
              "      <td>0.0</td>\n",
              "      <td>NaN</td>\n",
              "      <td>NaN</td>\n",
              "      <td>...</td>\n",
              "      <td>26795</td>\n",
              "      <td>approved</td>\n",
              "      <td>0</td>\n",
              "      <td>0</td>\n",
              "      <td>0</td>\n",
              "      <td>5</td>\n",
              "      <td>0</td>\n",
              "      <td>0.000000</td>\n",
              "      <td>0</td>\n",
              "      <td>4</td>\n",
              "    </tr>\n",
              "    <tr>\n",
              "      <th>13</th>\n",
              "      <td>239583</td>\n",
              "      <td>0.600000</td>\n",
              "      <td>It's ridiculous that these guys are being call...</td>\n",
              "      <td>0.000000</td>\n",
              "      <td>0.100000</td>\n",
              "      <td>0.000000</td>\n",
              "      <td>0.600000</td>\n",
              "      <td>0.1</td>\n",
              "      <td>NaN</td>\n",
              "      <td>NaN</td>\n",
              "      <td>...</td>\n",
              "      <td>26670</td>\n",
              "      <td>approved</td>\n",
              "      <td>0</td>\n",
              "      <td>0</td>\n",
              "      <td>0</td>\n",
              "      <td>3</td>\n",
              "      <td>0</td>\n",
              "      <td>0.000000</td>\n",
              "      <td>0</td>\n",
              "      <td>10</td>\n",
              "    </tr>\n",
              "    <tr>\n",
              "      <th>14</th>\n",
              "      <td>239584</td>\n",
              "      <td>0.500000</td>\n",
              "      <td>This story gets more ridiculous by the hour! A...</td>\n",
              "      <td>0.000000</td>\n",
              "      <td>0.000000</td>\n",
              "      <td>0.000000</td>\n",
              "      <td>0.300000</td>\n",
              "      <td>0.0</td>\n",
              "      <td>NaN</td>\n",
              "      <td>NaN</td>\n",
              "      <td>...</td>\n",
              "      <td>26670</td>\n",
              "      <td>approved</td>\n",
              "      <td>0</td>\n",
              "      <td>0</td>\n",
              "      <td>0</td>\n",
              "      <td>9</td>\n",
              "      <td>0</td>\n",
              "      <td>0.000000</td>\n",
              "      <td>0</td>\n",
              "      <td>10</td>\n",
              "    </tr>\n",
              "  </tbody>\n",
              "</table>\n",
              "<p>15 rows × 45 columns</p>\n",
              "</div>\n",
              "      <button class=\"colab-df-convert\" onclick=\"convertToInteractive('df-8933cfda-0f9a-49a0-ad28-f35373cdfac7')\"\n",
              "              title=\"Convert this dataframe to an interactive table.\"\n",
              "              style=\"display:none;\">\n",
              "        \n",
              "  <svg xmlns=\"http://www.w3.org/2000/svg\" height=\"24px\"viewBox=\"0 0 24 24\"\n",
              "       width=\"24px\">\n",
              "    <path d=\"M0 0h24v24H0V0z\" fill=\"none\"/>\n",
              "    <path d=\"M18.56 5.44l.94 2.06.94-2.06 2.06-.94-2.06-.94-.94-2.06-.94 2.06-2.06.94zm-11 1L8.5 8.5l.94-2.06 2.06-.94-2.06-.94L8.5 2.5l-.94 2.06-2.06.94zm10 10l.94 2.06.94-2.06 2.06-.94-2.06-.94-.94-2.06-.94 2.06-2.06.94z\"/><path d=\"M17.41 7.96l-1.37-1.37c-.4-.4-.92-.59-1.43-.59-.52 0-1.04.2-1.43.59L10.3 9.45l-7.72 7.72c-.78.78-.78 2.05 0 2.83L4 21.41c.39.39.9.59 1.41.59.51 0 1.02-.2 1.41-.59l7.78-7.78 2.81-2.81c.8-.78.8-2.07 0-2.86zM5.41 20L4 18.59l7.72-7.72 1.47 1.35L5.41 20z\"/>\n",
              "  </svg>\n",
              "      </button>\n",
              "      \n",
              "  <style>\n",
              "    .colab-df-container {\n",
              "      display:flex;\n",
              "      flex-wrap:wrap;\n",
              "      gap: 12px;\n",
              "    }\n",
              "\n",
              "    .colab-df-convert {\n",
              "      background-color: #E8F0FE;\n",
              "      border: none;\n",
              "      border-radius: 50%;\n",
              "      cursor: pointer;\n",
              "      display: none;\n",
              "      fill: #1967D2;\n",
              "      height: 32px;\n",
              "      padding: 0 0 0 0;\n",
              "      width: 32px;\n",
              "    }\n",
              "\n",
              "    .colab-df-convert:hover {\n",
              "      background-color: #E2EBFA;\n",
              "      box-shadow: 0px 1px 2px rgba(60, 64, 67, 0.3), 0px 1px 3px 1px rgba(60, 64, 67, 0.15);\n",
              "      fill: #174EA6;\n",
              "    }\n",
              "\n",
              "    [theme=dark] .colab-df-convert {\n",
              "      background-color: #3B4455;\n",
              "      fill: #D2E3FC;\n",
              "    }\n",
              "\n",
              "    [theme=dark] .colab-df-convert:hover {\n",
              "      background-color: #434B5C;\n",
              "      box-shadow: 0px 1px 3px 1px rgba(0, 0, 0, 0.15);\n",
              "      filter: drop-shadow(0px 1px 2px rgba(0, 0, 0, 0.3));\n",
              "      fill: #FFFFFF;\n",
              "    }\n",
              "  </style>\n",
              "\n",
              "      <script>\n",
              "        const buttonEl =\n",
              "          document.querySelector('#df-8933cfda-0f9a-49a0-ad28-f35373cdfac7 button.colab-df-convert');\n",
              "        buttonEl.style.display =\n",
              "          google.colab.kernel.accessAllowed ? 'block' : 'none';\n",
              "\n",
              "        async function convertToInteractive(key) {\n",
              "          const element = document.querySelector('#df-8933cfda-0f9a-49a0-ad28-f35373cdfac7');\n",
              "          const dataTable =\n",
              "            await google.colab.kernel.invokeFunction('convertToInteractive',\n",
              "                                                     [key], {});\n",
              "          if (!dataTable) return;\n",
              "\n",
              "          const docLinkHtml = 'Like what you see? Visit the ' +\n",
              "            '<a target=\"_blank\" href=https://colab.research.google.com/notebooks/data_table.ipynb>data table notebook</a>'\n",
              "            + ' to learn more about interactive tables.';\n",
              "          element.innerHTML = '';\n",
              "          dataTable['output_type'] = 'display_data';\n",
              "          await google.colab.output.renderOutput(dataTable, element);\n",
              "          const docLink = document.createElement('div');\n",
              "          docLink.innerHTML = docLinkHtml;\n",
              "          element.appendChild(docLink);\n",
              "        }\n",
              "      </script>\n",
              "    </div>\n",
              "  </div>\n",
              "  "
            ]
          },
          "metadata": {},
          "execution_count": 4
        }
      ],
      "source": [
        "plik_df.head(15)"
      ]
    },
    {
      "cell_type": "code",
      "execution_count": null,
      "metadata": {
        "id": "yfe3wbYiZuGk",
        "colab": {
          "base_uri": "https://localhost:8080/",
          "height": 36
        },
        "outputId": "4dcaeab9-67ab-472d-cc20-a915bea21ec9"
      },
      "outputs": [
        {
          "output_type": "execute_result",
          "data": {
            "text/plain": [
              "'haha you guys are a bunch of losers.'"
            ],
            "application/vnd.google.colaboratory.intrinsic+json": {
              "type": "string"
            }
          },
          "metadata": {},
          "execution_count": 5
        }
      ],
      "source": [
        "plik_df[\"comment_text\"][4]"
      ]
    },
    {
      "cell_type": "code",
      "execution_count": null,
      "metadata": {
        "id": "9Bz_JdTmif3Y",
        "colab": {
          "base_uri": "https://localhost:8080/"
        },
        "outputId": "ba4f6905-ad82-4e54-eb76-9b5cb3a7b0b9"
      },
      "outputs": [
        {
          "output_type": "execute_result",
          "data": {
            "text/plain": [
              "id                                     1804874\n",
              "target                                 1804874\n",
              "comment_text                           1804874\n",
              "severe_toxicity                        1804874\n",
              "obscene                                1804874\n",
              "identity_attack                        1804874\n",
              "insult                                 1804874\n",
              "threat                                 1804874\n",
              "asian                                   405130\n",
              "atheist                                 405130\n",
              "bisexual                                405130\n",
              "black                                   405130\n",
              "buddhist                                405130\n",
              "christian                               405130\n",
              "female                                  405130\n",
              "heterosexual                            405130\n",
              "hindu                                   405130\n",
              "homosexual_gay_or_lesbian               405130\n",
              "intellectual_or_learning_disability     405130\n",
              "jewish                                  405130\n",
              "latino                                  405130\n",
              "male                                    405130\n",
              "muslim                                  405130\n",
              "other_disability                        405130\n",
              "other_gender                            405130\n",
              "other_race_or_ethnicity                 405130\n",
              "other_religion                          405130\n",
              "other_sexual_orientation                405130\n",
              "physical_disability                     405130\n",
              "psychiatric_or_mental_illness           405130\n",
              "transgender                             405130\n",
              "white                                   405130\n",
              "created_date                           1804874\n",
              "publication_id                         1804874\n",
              "parent_id                              1026228\n",
              "article_id                             1804874\n",
              "rating                                 1804874\n",
              "funny                                  1804874\n",
              "wow                                    1804874\n",
              "sad                                    1804874\n",
              "likes                                  1804874\n",
              "disagree                               1804874\n",
              "sexual_explicit                        1804874\n",
              "identity_annotator_count               1804874\n",
              "toxicity_annotator_count               1804874\n",
              "dtype: int64"
            ]
          },
          "metadata": {},
          "execution_count": 6
        }
      ],
      "source": [
        "plik_df.count()"
      ]
    },
    {
      "cell_type": "markdown",
      "metadata": {
        "id": "tic2npE4YhBF"
      },
      "source": [
        "# 3. DATA CLEANING"
      ]
    },
    {
      "cell_type": "markdown",
      "metadata": {
        "id": "rWv6UEHhaY__"
      },
      "source": [
        "## Columns check - \"object\""
      ]
    },
    {
      "cell_type": "code",
      "execution_count": null,
      "metadata": {
        "id": "VTUK2HLJasA3",
        "colab": {
          "base_uri": "https://localhost:8080/"
        },
        "outputId": "214edd50-6210-4f2f-9718-31a0afc75792"
      },
      "outputs": [
        {
          "output_type": "execute_result",
          "data": {
            "text/plain": [
              "array(['2015-09-29 10:50:41.987077+00', '2015-09-29 10:50:42.870083+00',\n",
              "       '2015-09-29 10:50:45.222647+00', ...,\n",
              "       '2017-11-11 00:59:02.840713+00', '2017-11-11 01:01:10.153692+00',\n",
              "       '2017-11-11 01:01:10.822969+00'], dtype=object)"
            ]
          },
          "metadata": {},
          "execution_count": 7
        }
      ],
      "source": [
        "plik_df[\"created_date\"].unique()  #daty są stringami"
      ]
    },
    {
      "cell_type": "code",
      "execution_count": null,
      "metadata": {
        "id": "8fD790qQciqh",
        "colab": {
          "base_uri": "https://localhost:8080/"
        },
        "outputId": "701f5aea-c7a8-4acc-c89f-391fec8048fd"
      },
      "outputs": [
        {
          "output_type": "execute_result",
          "data": {
            "text/plain": [
              "array(['rejected', 'approved'], dtype=object)"
            ]
          },
          "metadata": {},
          "execution_count": 8
        }
      ],
      "source": [
        "plik_df[\"rating\"].unique()"
      ]
    },
    {
      "cell_type": "code",
      "execution_count": null,
      "metadata": {
        "id": "yD7B_zUcj-Bz",
        "colab": {
          "base_uri": "https://localhost:8080/",
          "height": 36
        },
        "outputId": "425f56a0-f9b1-4975-c88f-4305f4d12e47"
      },
      "outputs": [
        {
          "output_type": "execute_result",
          "data": {
            "text/plain": [
              "'2015-09-29 10:50:41'"
            ],
            "application/vnd.google.colaboratory.intrinsic+json": {
              "type": "string"
            }
          },
          "metadata": {},
          "execution_count": 9
        }
      ],
      "source": [
        "from datetime import datetime\n",
        "\n",
        "#wyciąganie pierwszych 19 znaków z daty\n",
        "date_time_str= '2015-09-29 10:50:41.987077+00'\n",
        "date_time_str2= date_time_str[0:19]\n",
        "date_time_str2"
      ]
    },
    {
      "cell_type": "code",
      "execution_count": null,
      "metadata": {
        "id": "o2dnsjSRYDrn",
        "colab": {
          "base_uri": "https://localhost:8080/"
        },
        "outputId": "4fbbf685-df8b-4493-f458-8652380435e1"
      },
      "outputs": [
        {
          "output_type": "execute_result",
          "data": {
            "text/plain": [
              "datetime.datetime(2015, 9, 29, 10, 50, 41)"
            ]
          },
          "metadata": {},
          "execution_count": 10
        }
      ],
      "source": [
        "#zamiana formatu danych\n",
        "date_time_object= datetime.strptime(date_time_str2, '%Y-%m-%d %H:%M:%S')\n",
        "date_time_object"
      ]
    },
    {
      "cell_type": "code",
      "execution_count": null,
      "metadata": {
        "id": "_4i3BF7Fmi9Q"
      },
      "outputs": [],
      "source": [
        "#utworzenie nowej kolumny 'short created_date' z poprawnie zapisanym formatem daty (datetime, a nie str(object))\n",
        "plik_df['short created_date'] = plik_df.apply(lambda row: datetime.strptime(row['created_date'][0:19], '%Y-%m-%d %H:%M:%S'), axis=1)"
      ]
    },
    {
      "cell_type": "code",
      "execution_count": null,
      "metadata": {
        "id": "mmdsjFKfUZnA",
        "colab": {
          "base_uri": "https://localhost:8080/"
        },
        "outputId": "b4d68fa9-c111-44d8-ef60-113752292406"
      },
      "outputs": [
        {
          "output_type": "execute_result",
          "data": {
            "text/plain": [
              "Timestamp('2015-09-29 10:50:50')"
            ]
          },
          "metadata": {},
          "execution_count": 12
        }
      ],
      "source": [
        "plik_df['short created_date'][5]"
      ]
    },
    {
      "cell_type": "code",
      "execution_count": null,
      "metadata": {
        "id": "chBVoAkWUdy5",
        "colab": {
          "base_uri": "https://localhost:8080/",
          "height": 647
        },
        "outputId": "6d4cc206-0c2d-42b6-b2ad-dba4adc3f692"
      },
      "outputs": [
        {
          "output_type": "execute_result",
          "data": {
            "text/plain": [
              "       id    target                                       comment_text  \\\n",
              "0   59848  0.000000  This is so cool. It's like, 'would you want yo...   \n",
              "1   59849  0.000000  Thank you!! This would make my life a lot less...   \n",
              "2   59852  0.000000  This is such an urgent design problem; kudos t...   \n",
              "3   59855  0.000000  Is this something I'll be able to install on m...   \n",
              "4   59856  0.893617               haha you guys are a bunch of losers.   \n",
              "5   59859  0.666667                               ur a sh*tty comment.   \n",
              "6   59861  0.457627                        hahahahahahahahhha suck it.   \n",
              "7   59863  0.000000                                FFFFUUUUUUUUUUUUUUU   \n",
              "8  239575  0.000000  The ranchers seem motivated by mostly by greed...   \n",
              "9  239576  0.000000  It was a great show. Not a combo I'd of expect...   \n",
              "\n",
              "   severe_toxicity   obscene  identity_attack    insult  threat  asian  \\\n",
              "0         0.000000  0.000000         0.000000  0.000000     0.0    NaN   \n",
              "1         0.000000  0.000000         0.000000  0.000000     0.0    NaN   \n",
              "2         0.000000  0.000000         0.000000  0.000000     0.0    NaN   \n",
              "3         0.000000  0.000000         0.000000  0.000000     0.0    NaN   \n",
              "4         0.021277  0.000000         0.021277  0.872340     0.0    0.0   \n",
              "5         0.047619  0.638095         0.000000  0.333333     0.0    NaN   \n",
              "6         0.050847  0.305085         0.000000  0.254237     0.0    NaN   \n",
              "7         0.000000  0.000000         0.000000  0.000000     0.0    NaN   \n",
              "8         0.000000  0.000000         0.000000  0.000000     0.0    NaN   \n",
              "9         0.000000  0.000000         0.000000  0.000000     0.0    NaN   \n",
              "\n",
              "   atheist  ...    rating  funny  wow  sad  likes  disagree  sexual_explicit  \\\n",
              "0      NaN  ...  rejected      0    0    0      0         0         0.000000   \n",
              "1      NaN  ...  rejected      0    0    0      0         0         0.000000   \n",
              "2      NaN  ...  rejected      0    0    0      0         0         0.000000   \n",
              "3      NaN  ...  rejected      0    0    0      0         0         0.000000   \n",
              "4      0.0  ...  rejected      0    0    0      1         0         0.000000   \n",
              "5      NaN  ...  rejected      0    0    0      0         0         0.009524   \n",
              "6      NaN  ...  rejected      0    0    0      0         0         0.220339   \n",
              "7      NaN  ...  rejected      0    0    0      0         0         0.000000   \n",
              "8      NaN  ...  approved      0    0    0      0         0         0.000000   \n",
              "9      NaN  ...  approved      0    0    0      1         0         0.000000   \n",
              "\n",
              "   identity_annotator_count  toxicity_annotator_count  short created_date  \n",
              "0                         0                         4 2015-09-29 10:50:41  \n",
              "1                         0                         4 2015-09-29 10:50:42  \n",
              "2                         0                         4 2015-09-29 10:50:45  \n",
              "3                         0                         4 2015-09-29 10:50:47  \n",
              "4                         4                        47 2015-09-29 10:50:48  \n",
              "5                         0                       105 2015-09-29 10:50:50  \n",
              "6                         0                        59 2015-09-29 10:50:52  \n",
              "7                         0                         4 2015-09-29 10:50:54  \n",
              "8                         0                         4 2016-01-13 18:01:05  \n",
              "9                         0                         4 2016-01-13 18:11:21  \n",
              "\n",
              "[10 rows x 46 columns]"
            ],
            "text/html": [
              "\n",
              "  <div id=\"df-0b523752-1629-45ab-85ba-3daa7da54aa2\">\n",
              "    <div class=\"colab-df-container\">\n",
              "      <div>\n",
              "<style scoped>\n",
              "    .dataframe tbody tr th:only-of-type {\n",
              "        vertical-align: middle;\n",
              "    }\n",
              "\n",
              "    .dataframe tbody tr th {\n",
              "        vertical-align: top;\n",
              "    }\n",
              "\n",
              "    .dataframe thead th {\n",
              "        text-align: right;\n",
              "    }\n",
              "</style>\n",
              "<table border=\"1\" class=\"dataframe\">\n",
              "  <thead>\n",
              "    <tr style=\"text-align: right;\">\n",
              "      <th></th>\n",
              "      <th>id</th>\n",
              "      <th>target</th>\n",
              "      <th>comment_text</th>\n",
              "      <th>severe_toxicity</th>\n",
              "      <th>obscene</th>\n",
              "      <th>identity_attack</th>\n",
              "      <th>insult</th>\n",
              "      <th>threat</th>\n",
              "      <th>asian</th>\n",
              "      <th>atheist</th>\n",
              "      <th>...</th>\n",
              "      <th>rating</th>\n",
              "      <th>funny</th>\n",
              "      <th>wow</th>\n",
              "      <th>sad</th>\n",
              "      <th>likes</th>\n",
              "      <th>disagree</th>\n",
              "      <th>sexual_explicit</th>\n",
              "      <th>identity_annotator_count</th>\n",
              "      <th>toxicity_annotator_count</th>\n",
              "      <th>short created_date</th>\n",
              "    </tr>\n",
              "  </thead>\n",
              "  <tbody>\n",
              "    <tr>\n",
              "      <th>0</th>\n",
              "      <td>59848</td>\n",
              "      <td>0.000000</td>\n",
              "      <td>This is so cool. It's like, 'would you want yo...</td>\n",
              "      <td>0.000000</td>\n",
              "      <td>0.000000</td>\n",
              "      <td>0.000000</td>\n",
              "      <td>0.000000</td>\n",
              "      <td>0.0</td>\n",
              "      <td>NaN</td>\n",
              "      <td>NaN</td>\n",
              "      <td>...</td>\n",
              "      <td>rejected</td>\n",
              "      <td>0</td>\n",
              "      <td>0</td>\n",
              "      <td>0</td>\n",
              "      <td>0</td>\n",
              "      <td>0</td>\n",
              "      <td>0.000000</td>\n",
              "      <td>0</td>\n",
              "      <td>4</td>\n",
              "      <td>2015-09-29 10:50:41</td>\n",
              "    </tr>\n",
              "    <tr>\n",
              "      <th>1</th>\n",
              "      <td>59849</td>\n",
              "      <td>0.000000</td>\n",
              "      <td>Thank you!! This would make my life a lot less...</td>\n",
              "      <td>0.000000</td>\n",
              "      <td>0.000000</td>\n",
              "      <td>0.000000</td>\n",
              "      <td>0.000000</td>\n",
              "      <td>0.0</td>\n",
              "      <td>NaN</td>\n",
              "      <td>NaN</td>\n",
              "      <td>...</td>\n",
              "      <td>rejected</td>\n",
              "      <td>0</td>\n",
              "      <td>0</td>\n",
              "      <td>0</td>\n",
              "      <td>0</td>\n",
              "      <td>0</td>\n",
              "      <td>0.000000</td>\n",
              "      <td>0</td>\n",
              "      <td>4</td>\n",
              "      <td>2015-09-29 10:50:42</td>\n",
              "    </tr>\n",
              "    <tr>\n",
              "      <th>2</th>\n",
              "      <td>59852</td>\n",
              "      <td>0.000000</td>\n",
              "      <td>This is such an urgent design problem; kudos t...</td>\n",
              "      <td>0.000000</td>\n",
              "      <td>0.000000</td>\n",
              "      <td>0.000000</td>\n",
              "      <td>0.000000</td>\n",
              "      <td>0.0</td>\n",
              "      <td>NaN</td>\n",
              "      <td>NaN</td>\n",
              "      <td>...</td>\n",
              "      <td>rejected</td>\n",
              "      <td>0</td>\n",
              "      <td>0</td>\n",
              "      <td>0</td>\n",
              "      <td>0</td>\n",
              "      <td>0</td>\n",
              "      <td>0.000000</td>\n",
              "      <td>0</td>\n",
              "      <td>4</td>\n",
              "      <td>2015-09-29 10:50:45</td>\n",
              "    </tr>\n",
              "    <tr>\n",
              "      <th>3</th>\n",
              "      <td>59855</td>\n",
              "      <td>0.000000</td>\n",
              "      <td>Is this something I'll be able to install on m...</td>\n",
              "      <td>0.000000</td>\n",
              "      <td>0.000000</td>\n",
              "      <td>0.000000</td>\n",
              "      <td>0.000000</td>\n",
              "      <td>0.0</td>\n",
              "      <td>NaN</td>\n",
              "      <td>NaN</td>\n",
              "      <td>...</td>\n",
              "      <td>rejected</td>\n",
              "      <td>0</td>\n",
              "      <td>0</td>\n",
              "      <td>0</td>\n",
              "      <td>0</td>\n",
              "      <td>0</td>\n",
              "      <td>0.000000</td>\n",
              "      <td>0</td>\n",
              "      <td>4</td>\n",
              "      <td>2015-09-29 10:50:47</td>\n",
              "    </tr>\n",
              "    <tr>\n",
              "      <th>4</th>\n",
              "      <td>59856</td>\n",
              "      <td>0.893617</td>\n",
              "      <td>haha you guys are a bunch of losers.</td>\n",
              "      <td>0.021277</td>\n",
              "      <td>0.000000</td>\n",
              "      <td>0.021277</td>\n",
              "      <td>0.872340</td>\n",
              "      <td>0.0</td>\n",
              "      <td>0.0</td>\n",
              "      <td>0.0</td>\n",
              "      <td>...</td>\n",
              "      <td>rejected</td>\n",
              "      <td>0</td>\n",
              "      <td>0</td>\n",
              "      <td>0</td>\n",
              "      <td>1</td>\n",
              "      <td>0</td>\n",
              "      <td>0.000000</td>\n",
              "      <td>4</td>\n",
              "      <td>47</td>\n",
              "      <td>2015-09-29 10:50:48</td>\n",
              "    </tr>\n",
              "    <tr>\n",
              "      <th>5</th>\n",
              "      <td>59859</td>\n",
              "      <td>0.666667</td>\n",
              "      <td>ur a sh*tty comment.</td>\n",
              "      <td>0.047619</td>\n",
              "      <td>0.638095</td>\n",
              "      <td>0.000000</td>\n",
              "      <td>0.333333</td>\n",
              "      <td>0.0</td>\n",
              "      <td>NaN</td>\n",
              "      <td>NaN</td>\n",
              "      <td>...</td>\n",
              "      <td>rejected</td>\n",
              "      <td>0</td>\n",
              "      <td>0</td>\n",
              "      <td>0</td>\n",
              "      <td>0</td>\n",
              "      <td>0</td>\n",
              "      <td>0.009524</td>\n",
              "      <td>0</td>\n",
              "      <td>105</td>\n",
              "      <td>2015-09-29 10:50:50</td>\n",
              "    </tr>\n",
              "    <tr>\n",
              "      <th>6</th>\n",
              "      <td>59861</td>\n",
              "      <td>0.457627</td>\n",
              "      <td>hahahahahahahahhha suck it.</td>\n",
              "      <td>0.050847</td>\n",
              "      <td>0.305085</td>\n",
              "      <td>0.000000</td>\n",
              "      <td>0.254237</td>\n",
              "      <td>0.0</td>\n",
              "      <td>NaN</td>\n",
              "      <td>NaN</td>\n",
              "      <td>...</td>\n",
              "      <td>rejected</td>\n",
              "      <td>0</td>\n",
              "      <td>0</td>\n",
              "      <td>0</td>\n",
              "      <td>0</td>\n",
              "      <td>0</td>\n",
              "      <td>0.220339</td>\n",
              "      <td>0</td>\n",
              "      <td>59</td>\n",
              "      <td>2015-09-29 10:50:52</td>\n",
              "    </tr>\n",
              "    <tr>\n",
              "      <th>7</th>\n",
              "      <td>59863</td>\n",
              "      <td>0.000000</td>\n",
              "      <td>FFFFUUUUUUUUUUUUUUU</td>\n",
              "      <td>0.000000</td>\n",
              "      <td>0.000000</td>\n",
              "      <td>0.000000</td>\n",
              "      <td>0.000000</td>\n",
              "      <td>0.0</td>\n",
              "      <td>NaN</td>\n",
              "      <td>NaN</td>\n",
              "      <td>...</td>\n",
              "      <td>rejected</td>\n",
              "      <td>0</td>\n",
              "      <td>0</td>\n",
              "      <td>0</td>\n",
              "      <td>0</td>\n",
              "      <td>0</td>\n",
              "      <td>0.000000</td>\n",
              "      <td>0</td>\n",
              "      <td>4</td>\n",
              "      <td>2015-09-29 10:50:54</td>\n",
              "    </tr>\n",
              "    <tr>\n",
              "      <th>8</th>\n",
              "      <td>239575</td>\n",
              "      <td>0.000000</td>\n",
              "      <td>The ranchers seem motivated by mostly by greed...</td>\n",
              "      <td>0.000000</td>\n",
              "      <td>0.000000</td>\n",
              "      <td>0.000000</td>\n",
              "      <td>0.000000</td>\n",
              "      <td>0.0</td>\n",
              "      <td>NaN</td>\n",
              "      <td>NaN</td>\n",
              "      <td>...</td>\n",
              "      <td>approved</td>\n",
              "      <td>0</td>\n",
              "      <td>0</td>\n",
              "      <td>0</td>\n",
              "      <td>0</td>\n",
              "      <td>0</td>\n",
              "      <td>0.000000</td>\n",
              "      <td>0</td>\n",
              "      <td>4</td>\n",
              "      <td>2016-01-13 18:01:05</td>\n",
              "    </tr>\n",
              "    <tr>\n",
              "      <th>9</th>\n",
              "      <td>239576</td>\n",
              "      <td>0.000000</td>\n",
              "      <td>It was a great show. Not a combo I'd of expect...</td>\n",
              "      <td>0.000000</td>\n",
              "      <td>0.000000</td>\n",
              "      <td>0.000000</td>\n",
              "      <td>0.000000</td>\n",
              "      <td>0.0</td>\n",
              "      <td>NaN</td>\n",
              "      <td>NaN</td>\n",
              "      <td>...</td>\n",
              "      <td>approved</td>\n",
              "      <td>0</td>\n",
              "      <td>0</td>\n",
              "      <td>0</td>\n",
              "      <td>1</td>\n",
              "      <td>0</td>\n",
              "      <td>0.000000</td>\n",
              "      <td>0</td>\n",
              "      <td>4</td>\n",
              "      <td>2016-01-13 18:11:21</td>\n",
              "    </tr>\n",
              "  </tbody>\n",
              "</table>\n",
              "<p>10 rows × 46 columns</p>\n",
              "</div>\n",
              "      <button class=\"colab-df-convert\" onclick=\"convertToInteractive('df-0b523752-1629-45ab-85ba-3daa7da54aa2')\"\n",
              "              title=\"Convert this dataframe to an interactive table.\"\n",
              "              style=\"display:none;\">\n",
              "        \n",
              "  <svg xmlns=\"http://www.w3.org/2000/svg\" height=\"24px\"viewBox=\"0 0 24 24\"\n",
              "       width=\"24px\">\n",
              "    <path d=\"M0 0h24v24H0V0z\" fill=\"none\"/>\n",
              "    <path d=\"M18.56 5.44l.94 2.06.94-2.06 2.06-.94-2.06-.94-.94-2.06-.94 2.06-2.06.94zm-11 1L8.5 8.5l.94-2.06 2.06-.94-2.06-.94L8.5 2.5l-.94 2.06-2.06.94zm10 10l.94 2.06.94-2.06 2.06-.94-2.06-.94-.94-2.06-.94 2.06-2.06.94z\"/><path d=\"M17.41 7.96l-1.37-1.37c-.4-.4-.92-.59-1.43-.59-.52 0-1.04.2-1.43.59L10.3 9.45l-7.72 7.72c-.78.78-.78 2.05 0 2.83L4 21.41c.39.39.9.59 1.41.59.51 0 1.02-.2 1.41-.59l7.78-7.78 2.81-2.81c.8-.78.8-2.07 0-2.86zM5.41 20L4 18.59l7.72-7.72 1.47 1.35L5.41 20z\"/>\n",
              "  </svg>\n",
              "      </button>\n",
              "      \n",
              "  <style>\n",
              "    .colab-df-container {\n",
              "      display:flex;\n",
              "      flex-wrap:wrap;\n",
              "      gap: 12px;\n",
              "    }\n",
              "\n",
              "    .colab-df-convert {\n",
              "      background-color: #E8F0FE;\n",
              "      border: none;\n",
              "      border-radius: 50%;\n",
              "      cursor: pointer;\n",
              "      display: none;\n",
              "      fill: #1967D2;\n",
              "      height: 32px;\n",
              "      padding: 0 0 0 0;\n",
              "      width: 32px;\n",
              "    }\n",
              "\n",
              "    .colab-df-convert:hover {\n",
              "      background-color: #E2EBFA;\n",
              "      box-shadow: 0px 1px 2px rgba(60, 64, 67, 0.3), 0px 1px 3px 1px rgba(60, 64, 67, 0.15);\n",
              "      fill: #174EA6;\n",
              "    }\n",
              "\n",
              "    [theme=dark] .colab-df-convert {\n",
              "      background-color: #3B4455;\n",
              "      fill: #D2E3FC;\n",
              "    }\n",
              "\n",
              "    [theme=dark] .colab-df-convert:hover {\n",
              "      background-color: #434B5C;\n",
              "      box-shadow: 0px 1px 3px 1px rgba(0, 0, 0, 0.15);\n",
              "      filter: drop-shadow(0px 1px 2px rgba(0, 0, 0, 0.3));\n",
              "      fill: #FFFFFF;\n",
              "    }\n",
              "  </style>\n",
              "\n",
              "      <script>\n",
              "        const buttonEl =\n",
              "          document.querySelector('#df-0b523752-1629-45ab-85ba-3daa7da54aa2 button.colab-df-convert');\n",
              "        buttonEl.style.display =\n",
              "          google.colab.kernel.accessAllowed ? 'block' : 'none';\n",
              "\n",
              "        async function convertToInteractive(key) {\n",
              "          const element = document.querySelector('#df-0b523752-1629-45ab-85ba-3daa7da54aa2');\n",
              "          const dataTable =\n",
              "            await google.colab.kernel.invokeFunction('convertToInteractive',\n",
              "                                                     [key], {});\n",
              "          if (!dataTable) return;\n",
              "\n",
              "          const docLinkHtml = 'Like what you see? Visit the ' +\n",
              "            '<a target=\"_blank\" href=https://colab.research.google.com/notebooks/data_table.ipynb>data table notebook</a>'\n",
              "            + ' to learn more about interactive tables.';\n",
              "          element.innerHTML = '';\n",
              "          dataTable['output_type'] = 'display_data';\n",
              "          await google.colab.output.renderOutput(dataTable, element);\n",
              "          const docLink = document.createElement('div');\n",
              "          docLink.innerHTML = docLinkHtml;\n",
              "          element.appendChild(docLink);\n",
              "        }\n",
              "      </script>\n",
              "    </div>\n",
              "  </div>\n",
              "  "
            ]
          },
          "metadata": {},
          "execution_count": 13
        }
      ],
      "source": [
        "plik_df.head(10)"
      ]
    },
    {
      "cell_type": "markdown",
      "metadata": {
        "id": "rvZ-_Z2PaVtP"
      },
      "source": [
        "## Duplicates check"
      ]
    },
    {
      "cell_type": "code",
      "execution_count": null,
      "metadata": {
        "id": "VPYXM4sCdFAr",
        "colab": {
          "base_uri": "https://localhost:8080/"
        },
        "outputId": "7db06119-ac2e-471c-9a4e-2b8676a00769"
      },
      "outputs": [
        {
          "output_type": "stream",
          "name": "stdout",
          "text": [
            "False\n"
          ]
        }
      ],
      "source": [
        "print(any(plik_df.duplicated())) "
      ]
    },
    {
      "cell_type": "markdown",
      "metadata": {
        "id": "tORC0G6EaNcZ"
      },
      "source": [
        "## NAN Values check"
      ]
    },
    {
      "cell_type": "code",
      "execution_count": null,
      "metadata": {
        "id": "51FwGIfOdlLj",
        "colab": {
          "base_uri": "https://localhost:8080/"
        },
        "outputId": "4c5ac35f-9d7a-401e-ce86-48cd81842c65"
      },
      "outputs": [
        {
          "output_type": "stream",
          "name": "stdout",
          "text": [
            "True\n"
          ]
        }
      ],
      "source": [
        "print(any(plik_df.isna())) "
      ]
    },
    {
      "cell_type": "code",
      "execution_count": null,
      "metadata": {
        "id": "TutQJ81ueEa1",
        "colab": {
          "base_uri": "https://localhost:8080/"
        },
        "outputId": "3c5c04b0-494a-4e0a-c080-539b10f05966"
      },
      "outputs": [
        {
          "output_type": "execute_result",
          "data": {
            "text/plain": [
              "['asian',\n",
              " 'atheist',\n",
              " 'bisexual',\n",
              " 'black',\n",
              " 'buddhist',\n",
              " 'christian',\n",
              " 'female',\n",
              " 'heterosexual',\n",
              " 'hindu',\n",
              " 'homosexual_gay_or_lesbian',\n",
              " 'intellectual_or_learning_disability',\n",
              " 'jewish',\n",
              " 'latino',\n",
              " 'male',\n",
              " 'muslim',\n",
              " 'other_disability',\n",
              " 'other_gender',\n",
              " 'other_race_or_ethnicity',\n",
              " 'other_religion',\n",
              " 'other_sexual_orientation',\n",
              " 'physical_disability',\n",
              " 'psychiatric_or_mental_illness',\n",
              " 'transgender',\n",
              " 'white',\n",
              " 'parent_id']"
            ]
          },
          "metadata": {},
          "execution_count": 16
        }
      ],
      "source": [
        "#Które kolumny zawierają NaN-y? Ile jest NaN-ów?\n",
        "nan_values_columns=plik_df.columns[plik_df.isna().any()].tolist()\n",
        "nan_values_columns"
      ]
    },
    {
      "cell_type": "code",
      "execution_count": null,
      "metadata": {
        "id": "CCbkJqGKg67E",
        "colab": {
          "base_uri": "https://localhost:8080/"
        },
        "outputId": "9eb28e90-bc20-4409-ccd3-135d945fe565"
      },
      "outputs": [
        {
          "output_type": "execute_result",
          "data": {
            "text/plain": [
              "id                                     1804874\n",
              "target                                 1804874\n",
              "comment_text                           1804874\n",
              "severe_toxicity                        1804874\n",
              "obscene                                1804874\n",
              "identity_attack                        1804874\n",
              "insult                                 1804874\n",
              "threat                                 1804874\n",
              "asian                                   405130\n",
              "atheist                                 405130\n",
              "bisexual                                405130\n",
              "black                                   405130\n",
              "buddhist                                405130\n",
              "christian                               405130\n",
              "female                                  405130\n",
              "heterosexual                            405130\n",
              "hindu                                   405130\n",
              "homosexual_gay_or_lesbian               405130\n",
              "intellectual_or_learning_disability     405130\n",
              "jewish                                  405130\n",
              "latino                                  405130\n",
              "male                                    405130\n",
              "muslim                                  405130\n",
              "other_disability                        405130\n",
              "other_gender                            405130\n",
              "other_race_or_ethnicity                 405130\n",
              "other_religion                          405130\n",
              "other_sexual_orientation                405130\n",
              "physical_disability                     405130\n",
              "psychiatric_or_mental_illness           405130\n",
              "transgender                             405130\n",
              "white                                   405130\n",
              "created_date                           1804874\n",
              "publication_id                         1804874\n",
              "parent_id                              1026228\n",
              "article_id                             1804874\n",
              "rating                                 1804874\n",
              "funny                                  1804874\n",
              "wow                                    1804874\n",
              "sad                                    1804874\n",
              "likes                                  1804874\n",
              "disagree                               1804874\n",
              "sexual_explicit                        1804874\n",
              "identity_annotator_count               1804874\n",
              "toxicity_annotator_count               1804874\n",
              "short created_date                     1804874\n",
              "dtype: int64"
            ]
          },
          "metadata": {},
          "execution_count": 17
        }
      ],
      "source": [
        "plik_df.count()"
      ]
    },
    {
      "cell_type": "code",
      "execution_count": null,
      "metadata": {
        "id": "Kqsb2b8tY20q"
      },
      "outputs": [],
      "source": [
        "#NaNy występują jako brak podania wartości dla danej kolumny. Ponieważ większość kolumn przyjmuje klucz: 0-brak wartości, 1-wartość istnieje, uzupełniamy NaNy zerami.\n",
        "\n",
        "df=plik_df.fillna(0)"
      ]
    },
    {
      "cell_type": "code",
      "execution_count": null,
      "metadata": {
        "id": "3eCzNEg1ZeGb"
      },
      "outputs": [],
      "source": [
        "#df.head(15)"
      ]
    },
    {
      "cell_type": "code",
      "execution_count": null,
      "metadata": {
        "id": "dqt88r--Ziz4"
      },
      "outputs": [],
      "source": [
        "#df.count()       #1804874 records for each column"
      ]
    },
    {
      "cell_type": "markdown",
      "metadata": {
        "id": "rajLUA7NnK0f"
      },
      "source": [
        "# 4. DATA ENGINEERING"
      ]
    },
    {
      "cell_type": "markdown",
      "metadata": {
        "id": "20_KmZdHZ2AA"
      },
      "source": [
        "# One-hot encoding dla kolumny \"rating\""
      ]
    },
    {
      "cell_type": "code",
      "execution_count": null,
      "metadata": {
        "id": "giYNz0XXZ0HX"
      },
      "outputs": [],
      "source": [
        "#one-hot encoding stwarza kolumnę 'rating-encode' z danymi dla kolumny 'rating' w formacie liczbowym \n",
        "#rejected-1, approved-0\n",
        "\n",
        "lista=[]\n",
        "for i in range(len(df)):\n",
        "  if df['rating'][i]==\"rejected\":\n",
        "    lista.append(1)\n",
        "  else:\n",
        "    lista.append(0)\n",
        "df['rating_encode']=lista"
      ]
    },
    {
      "cell_type": "code",
      "execution_count": null,
      "metadata": {
        "id": "bYWp9BD9Z0WN"
      },
      "outputs": [],
      "source": [
        "#df.head()"
      ]
    },
    {
      "cell_type": "code",
      "execution_count": null,
      "metadata": {
        "id": "aJjrK9dCeLdv",
        "colab": {
          "base_uri": "https://localhost:8080/",
          "height": 36
        },
        "outputId": "79b6838c-0bfb-4e0d-f13d-8e2fd768a90d"
      },
      "outputs": [
        {
          "output_type": "execute_result",
          "data": {
            "text/plain": [
              "'rejected'"
            ],
            "application/vnd.google.colaboratory.intrinsic+json": {
              "type": "string"
            }
          },
          "metadata": {},
          "execution_count": 23
        }
      ],
      "source": [
        "df['rating'][4]"
      ]
    },
    {
      "cell_type": "code",
      "execution_count": null,
      "metadata": {
        "id": "cgwIUDH8eOpz",
        "colab": {
          "base_uri": "https://localhost:8080/"
        },
        "outputId": "dbd95f98-d6a3-4da0-9478-efcb5f097421"
      },
      "outputs": [
        {
          "output_type": "execute_result",
          "data": {
            "text/plain": [
              "1"
            ]
          },
          "metadata": {},
          "execution_count": 24
        }
      ],
      "source": [
        "df['rating_encode'][4]"
      ]
    },
    {
      "cell_type": "markdown",
      "metadata": {
        "id": "PJi8zmjhfEe3"
      },
      "source": [
        "# Sprawdzenie korelacji i wybór zmiennych do df"
      ]
    },
    {
      "cell_type": "code",
      "execution_count": null,
      "metadata": {
        "id": "Ns3hxgWrnKE1"
      },
      "outputs": [],
      "source": [
        "#liczenie korelacji między zmiennymi - count_corr\n",
        "count_corr=df.corr()"
      ]
    },
    {
      "cell_type": "code",
      "execution_count": null,
      "metadata": {
        "id": "zCMfbDSyrf5r",
        "colab": {
          "base_uri": "https://localhost:8080/",
          "height": 1000
        },
        "outputId": "aefb3942-b415-456d-c0ba-e84ebf2c8eac"
      },
      "outputs": [
        {
          "output_type": "execute_result",
          "data": {
            "text/plain": [
              "<matplotlib.axes._subplots.AxesSubplot at 0x7f208ba1ad10>"
            ]
          },
          "metadata": {},
          "execution_count": 26
        },
        {
          "output_type": "display_data",
          "data": {
            "text/plain": [
              "<Figure size 1080x1080 with 2 Axes>"
            ],
            "image/png": "[encoded data removed]"
          },
          "metadata": {
            "needs_background": "light"
          }
        }
      ],
      "source": [
        "#heatmap\n",
        "\n",
        "import matplotlib.pyplot as plt\n",
        "import seaborn as sns\n",
        "\n",
        "plt.figure(figsize=(15, 15))\n",
        "sns.heatmap(count_corr)"
      ]
    },
    {
      "cell_type": "code",
      "execution_count": null,
      "metadata": {
        "id": "N5y2rPFOsJLy"
      },
      "outputs": [],
      "source": [
        "#występuje wysoka korelacja \"target\" z:\n",
        "# severe_toxicity\n",
        "# obscene\n",
        "# identity_attack\n",
        "# insult\n",
        "# threat\n",
        "# identity_annotator_count\n",
        "# toxicity_annotator_count\n",
        "# sexual_explicit\n",
        "# te kolumny będące gotowym rozwiązaniem usuwamy na potrzeby tej pracy.  "
      ]
    },
    {
      "cell_type": "markdown",
      "metadata": {
        "id": "0F-IQFNKfXtU"
      },
      "source": [
        "Przygotowanie tabeli do treningu danych z pominięciem niepotrzebnych kolumn"
      ]
    },
    {
      "cell_type": "code",
      "execution_count": null,
      "metadata": {
        "id": "Gn57GZ_hffjc"
      },
      "outputs": [],
      "source": [
        "#usuwanie niepotrzebnych kolumn\n",
        "df=df.drop(columns=['severe_toxicity','obscene','identity_attack','insult','threat','identity_annotator_count','toxicity_annotator_count','rating','created_date','sexual_explicit'])"
      ]
    },
    {
      "cell_type": "code",
      "execution_count": null,
      "metadata": {
        "id": "-fqkalj1g1H2",
        "colab": {
          "base_uri": "https://localhost:8080/",
          "height": 453
        },
        "outputId": "255abedd-128a-4d6e-b354-0a16f70c84f3"
      },
      "outputs": [
        {
          "output_type": "execute_result",
          "data": {
            "text/plain": [
              "      id    target                                       comment_text  asian  \\\n",
              "0  59848  0.000000  This is so cool. It's like, 'would you want yo...    0.0   \n",
              "1  59849  0.000000  Thank you!! This would make my life a lot less...    0.0   \n",
              "2  59852  0.000000  This is such an urgent design problem; kudos t...    0.0   \n",
              "3  59855  0.000000  Is this something I'll be able to install on m...    0.0   \n",
              "4  59856  0.893617               haha you guys are a bunch of losers.    0.0   \n",
              "\n",
              "   atheist  bisexual  black  buddhist  christian  female  ...  publication_id  \\\n",
              "0      0.0       0.0    0.0       0.0        0.0     0.0  ...               2   \n",
              "1      0.0       0.0    0.0       0.0        0.0     0.0  ...               2   \n",
              "2      0.0       0.0    0.0       0.0        0.0     0.0  ...               2   \n",
              "3      0.0       0.0    0.0       0.0        0.0     0.0  ...               2   \n",
              "4      0.0       0.0    0.0       0.0        0.0     0.0  ...               2   \n",
              "\n",
              "   parent_id  article_id  funny  wow  sad  likes  disagree  \\\n",
              "0        0.0        2006      0    0    0      0         0   \n",
              "1        0.0        2006      0    0    0      0         0   \n",
              "2        0.0        2006      0    0    0      0         0   \n",
              "3        0.0        2006      0    0    0      0         0   \n",
              "4        0.0        2006      0    0    0      1         0   \n",
              "\n",
              "   short created_date  rating_encode  \n",
              "0 2015-09-29 10:50:41              1  \n",
              "1 2015-09-29 10:50:42              1  \n",
              "2 2015-09-29 10:50:45              1  \n",
              "3 2015-09-29 10:50:47              1  \n",
              "4 2015-09-29 10:50:48              1  \n",
              "\n",
              "[5 rows x 37 columns]"
            ],
            "text/html": [
              "\n",
              "  <div id=\"df-f98c2789-3725-40e4-94a7-12705e78cec2\">\n",
              "    <div class=\"colab-df-container\">\n",
              "      <div>\n",
              "<style scoped>\n",
              "    .dataframe tbody tr th:only-of-type {\n",
              "        vertical-align: middle;\n",
              "    }\n",
              "\n",
              "    .dataframe tbody tr th {\n",
              "        vertical-align: top;\n",
              "    }\n",
              "\n",
              "    .dataframe thead th {\n",
              "        text-align: right;\n",
              "    }\n",
              "</style>\n",
              "<table border=\"1\" class=\"dataframe\">\n",
              "  <thead>\n",
              "    <tr style=\"text-align: right;\">\n",
              "      <th></th>\n",
              "      <th>id</th>\n",
              "      <th>target</th>\n",
              "      <th>comment_text</th>\n",
              "      <th>asian</th>\n",
              "      <th>atheist</th>\n",
              "      <th>bisexual</th>\n",
              "      <th>black</th>\n",
              "      <th>buddhist</th>\n",
              "      <th>christian</th>\n",
              "      <th>female</th>\n",
              "      <th>...</th>\n",
              "      <th>publication_id</th>\n",
              "      <th>parent_id</th>\n",
              "      <th>article_id</th>\n",
              "      <th>funny</th>\n",
              "      <th>wow</th>\n",
              "      <th>sad</th>\n",
              "      <th>likes</th>\n",
              "      <th>disagree</th>\n",
              "      <th>short created_date</th>\n",
              "      <th>rating_encode</th>\n",
              "    </tr>\n",
              "  </thead>\n",
              "  <tbody>\n",
              "    <tr>\n",
              "      <th>0</th>\n",
              "      <td>59848</td>\n",
              "      <td>0.000000</td>\n",
              "      <td>This is so cool. It's like, 'would you want yo...</td>\n",
              "      <td>0.0</td>\n",
              "      <td>0.0</td>\n",
              "      <td>0.0</td>\n",
              "      <td>0.0</td>\n",
              "      <td>0.0</td>\n",
              "      <td>0.0</td>\n",
              "      <td>0.0</td>\n",
              "      <td>...</td>\n",
              "      <td>2</td>\n",
              "      <td>0.0</td>\n",
              "      <td>2006</td>\n",
              "      <td>0</td>\n",
              "      <td>0</td>\n",
              "      <td>0</td>\n",
              "      <td>0</td>\n",
              "      <td>0</td>\n",
              "      <td>2015-09-29 10:50:41</td>\n",
              "      <td>1</td>\n",
              "    </tr>\n",
              "    <tr>\n",
              "      <th>1</th>\n",
              "      <td>59849</td>\n",
              "      <td>0.000000</td>\n",
              "      <td>Thank you!! This would make my life a lot less...</td>\n",
              "      <td>0.0</td>\n",
              "      <td>0.0</td>\n",
              "      <td>0.0</td>\n",
              "      <td>0.0</td>\n",
              "      <td>0.0</td>\n",
              "      <td>0.0</td>\n",
              "      <td>0.0</td>\n",
              "      <td>...</td>\n",
              "      <td>2</td>\n",
              "      <td>0.0</td>\n",
              "      <td>2006</td>\n",
              "      <td>0</td>\n",
              "      <td>0</td>\n",
              "      <td>0</td>\n",
              "      <td>0</td>\n",
              "      <td>0</td>\n",
              "      <td>2015-09-29 10:50:42</td>\n",
              "      <td>1</td>\n",
              "    </tr>\n",
              "    <tr>\n",
              "      <th>2</th>\n",
              "      <td>59852</td>\n",
              "      <td>0.000000</td>\n",
              "      <td>This is such an urgent design problem; kudos t...</td>\n",
              "      <td>0.0</td>\n",
              "      <td>0.0</td>\n",
              "      <td>0.0</td>\n",
              "      <td>0.0</td>\n",
              "      <td>0.0</td>\n",
              "      <td>0.0</td>\n",
              "      <td>0.0</td>\n",
              "      <td>...</td>\n",
              "      <td>2</td>\n",
              "      <td>0.0</td>\n",
              "      <td>2006</td>\n",
              "      <td>0</td>\n",
              "      <td>0</td>\n",
              "      <td>0</td>\n",
              "      <td>0</td>\n",
              "      <td>0</td>\n",
              "      <td>2015-09-29 10:50:45</td>\n",
              "      <td>1</td>\n",
              "    </tr>\n",
              "    <tr>\n",
              "      <th>3</th>\n",
              "      <td>59855</td>\n",
              "      <td>0.000000</td>\n",
              "      <td>Is this something I'll be able to install on m...</td>\n",
              "      <td>0.0</td>\n",
              "      <td>0.0</td>\n",
              "      <td>0.0</td>\n",
              "      <td>0.0</td>\n",
              "      <td>0.0</td>\n",
              "      <td>0.0</td>\n",
              "      <td>0.0</td>\n",
              "      <td>...</td>\n",
              "      <td>2</td>\n",
              "      <td>0.0</td>\n",
              "      <td>2006</td>\n",
              "      <td>0</td>\n",
              "      <td>0</td>\n",
              "      <td>0</td>\n",
              "      <td>0</td>\n",
              "      <td>0</td>\n",
              "      <td>2015-09-29 10:50:47</td>\n",
              "      <td>1</td>\n",
              "    </tr>\n",
              "    <tr>\n",
              "      <th>4</th>\n",
              "      <td>59856</td>\n",
              "      <td>0.893617</td>\n",
              "      <td>haha you guys are a bunch of losers.</td>\n",
              "      <td>0.0</td>\n",
              "      <td>0.0</td>\n",
              "      <td>0.0</td>\n",
              "      <td>0.0</td>\n",
              "      <td>0.0</td>\n",
              "      <td>0.0</td>\n",
              "      <td>0.0</td>\n",
              "      <td>...</td>\n",
              "      <td>2</td>\n",
              "      <td>0.0</td>\n",
              "      <td>2006</td>\n",
              "      <td>0</td>\n",
              "      <td>0</td>\n",
              "      <td>0</td>\n",
              "      <td>1</td>\n",
              "      <td>0</td>\n",
              "      <td>2015-09-29 10:50:48</td>\n",
              "      <td>1</td>\n",
              "    </tr>\n",
              "  </tbody>\n",
              "</table>\n",
              "<p>5 rows × 37 columns</p>\n",
              "</div>\n",
              "      <button class=\"colab-df-convert\" onclick=\"convertToInteractive('df-f98c2789-3725-40e4-94a7-12705e78cec2')\"\n",
              "              title=\"Convert this dataframe to an interactive table.\"\n",
              "              style=\"display:none;\">\n",
              "        \n",
              "  <svg xmlns=\"http://www.w3.org/2000/svg\" height=\"24px\"viewBox=\"0 0 24 24\"\n",
              "       width=\"24px\">\n",
              "    <path d=\"M0 0h24v24H0V0z\" fill=\"none\"/>\n",
              "    <path d=\"M18.56 5.44l.94 2.06.94-2.06 2.06-.94-2.06-.94-.94-2.06-.94 2.06-2.06.94zm-11 1L8.5 8.5l.94-2.06 2.06-.94-2.06-.94L8.5 2.5l-.94 2.06-2.06.94zm10 10l.94 2.06.94-2.06 2.06-.94-2.06-.94-.94-2.06-.94 2.06-2.06.94z\"/><path d=\"M17.41 7.96l-1.37-1.37c-.4-.4-.92-.59-1.43-.59-.52 0-1.04.2-1.43.59L10.3 9.45l-7.72 7.72c-.78.78-.78 2.05 0 2.83L4 21.41c.39.39.9.59 1.41.59.51 0 1.02-.2 1.41-.59l7.78-7.78 2.81-2.81c.8-.78.8-2.07 0-2.86zM5.41 20L4 18.59l7.72-7.72 1.47 1.35L5.41 20z\"/>\n",
              "  </svg>\n",
              "      </button>\n",
              "      \n",
              "  <style>\n",
              "    .colab-df-container {\n",
              "      display:flex;\n",
              "      flex-wrap:wrap;\n",
              "      gap: 12px;\n",
              "    }\n",
              "\n",
              "    .colab-df-convert {\n",
              "      background-color: #E8F0FE;\n",
              "      border: none;\n",
              "      border-radius: 50%;\n",
              "      cursor: pointer;\n",
              "      display: none;\n",
              "      fill: #1967D2;\n",
              "      height: 32px;\n",
              "      padding: 0 0 0 0;\n",
              "      width: 32px;\n",
              "    }\n",
              "\n",
              "    .colab-df-convert:hover {\n",
              "      background-color: #E2EBFA;\n",
              "      box-shadow: 0px 1px 2px rgba(60, 64, 67, 0.3), 0px 1px 3px 1px rgba(60, 64, 67, 0.15);\n",
              "      fill: #174EA6;\n",
              "    }\n",
              "\n",
              "    [theme=dark] .colab-df-convert {\n",
              "      background-color: #3B4455;\n",
              "      fill: #D2E3FC;\n",
              "    }\n",
              "\n",
              "    [theme=dark] .colab-df-convert:hover {\n",
              "      background-color: #434B5C;\n",
              "      box-shadow: 0px 1px 3px 1px rgba(0, 0, 0, 0.15);\n",
              "      filter: drop-shadow(0px 1px 2px rgba(0, 0, 0, 0.3));\n",
              "      fill: #FFFFFF;\n",
              "    }\n",
              "  </style>\n",
              "\n",
              "      <script>\n",
              "        const buttonEl =\n",
              "          document.querySelector('#df-f98c2789-3725-40e4-94a7-12705e78cec2 button.colab-df-convert');\n",
              "        buttonEl.style.display =\n",
              "          google.colab.kernel.accessAllowed ? 'block' : 'none';\n",
              "\n",
              "        async function convertToInteractive(key) {\n",
              "          const element = document.querySelector('#df-f98c2789-3725-40e4-94a7-12705e78cec2');\n",
              "          const dataTable =\n",
              "            await google.colab.kernel.invokeFunction('convertToInteractive',\n",
              "                                                     [key], {});\n",
              "          if (!dataTable) return;\n",
              "\n",
              "          const docLinkHtml = 'Like what you see? Visit the ' +\n",
              "            '<a target=\"_blank\" href=https://colab.research.google.com/notebooks/data_table.ipynb>data table notebook</a>'\n",
              "            + ' to learn more about interactive tables.';\n",
              "          element.innerHTML = '';\n",
              "          dataTable['output_type'] = 'display_data';\n",
              "          await google.colab.output.renderOutput(dataTable, element);\n",
              "          const docLink = document.createElement('div');\n",
              "          docLink.innerHTML = docLinkHtml;\n",
              "          element.appendChild(docLink);\n",
              "        }\n",
              "      </script>\n",
              "    </div>\n",
              "  </div>\n",
              "  "
            ]
          },
          "metadata": {},
          "execution_count": 29
        }
      ],
      "source": [
        "df.head()"
      ]
    },
    {
      "cell_type": "markdown",
      "metadata": {
        "id": "16D4TtQEGEf3"
      },
      "source": [
        "# Sprawdzenie, czy zbiór jest zbalansowany (hejt/nie-hejt)"
      ]
    },
    {
      "cell_type": "code",
      "execution_count": null,
      "metadata": {
        "id": "VF1Mtm_TGctu"
      },
      "outputs": [],
      "source": [
        "rejected_comments=df[df['rating_encode']==1]  \n",
        "\n",
        "#rejected_comments.info()\n",
        "rejected_comments_number=120116"
      ]
    },
    {
      "cell_type": "code",
      "source": [
        "rejected_comments\n"
      ],
      "metadata": {
        "id": "6EhnuGJFxHCR",
        "colab": {
          "base_uri": "https://localhost:8080/",
          "height": 678
        },
        "outputId": "51e9aec1-36dc-4622-ea3f-2fee598c0d1e"
      },
      "execution_count": null,
      "outputs": [
        {
          "output_type": "execute_result",
          "data": {
            "text/plain": [
              "              id    target                                       comment_text  \\\n",
              "0          59848  0.000000  This is so cool. It's like, 'would you want yo...   \n",
              "1          59849  0.000000  Thank you!! This would make my life a lot less...   \n",
              "2          59852  0.000000  This is such an urgent design problem; kudos t...   \n",
              "3          59855  0.000000  Is this something I'll be able to install on m...   \n",
              "4          59856  0.893617               haha you guys are a bunch of losers.   \n",
              "...          ...       ...                                                ...   \n",
              "1804796  6333791  0.166667              Look at the socks.  What is he, five?   \n",
              "1804797  6333792  0.000000  Find this guy. http://www.crazydaysandnights.n...   \n",
              "1804806  6333814  0.000000  Not a shred of evidence so far in this witch h...   \n",
              "1804821  6333836  0.000000  You sure love your youtubes...and voting for y...   \n",
              "1804827  6333847  0.000000  Like this?\\n\\nhttp://www.crazydaysandnights.ne...   \n",
              "\n",
              "         asian  atheist  bisexual  black  buddhist  christian  female  ...  \\\n",
              "0          0.0      0.0       0.0    0.0       0.0        0.0     0.0  ...   \n",
              "1          0.0      0.0       0.0    0.0       0.0        0.0     0.0  ...   \n",
              "2          0.0      0.0       0.0    0.0       0.0        0.0     0.0  ...   \n",
              "3          0.0      0.0       0.0    0.0       0.0        0.0     0.0  ...   \n",
              "4          0.0      0.0       0.0    0.0       0.0        0.0     0.0  ...   \n",
              "...        ...      ...       ...    ...       ...        ...     ...  ...   \n",
              "1804796    0.0      0.0       0.0    0.0       0.0        0.0     0.0  ...   \n",
              "1804797    0.0      0.0       0.0    0.0       0.0        0.0     0.0  ...   \n",
              "1804806    0.0      0.0       0.0    0.0       0.0        0.0     0.0  ...   \n",
              "1804821    0.0      0.0       0.0    0.0       0.0        0.0     0.0  ...   \n",
              "1804827    0.0      0.0       0.0    0.0       0.0        0.0     0.0  ...   \n",
              "\n",
              "         publication_id  parent_id  article_id  funny  wow  sad  likes  \\\n",
              "0                     2        0.0        2006      0    0    0      0   \n",
              "1                     2        0.0        2006      0    0    0      0   \n",
              "2                     2        0.0        2006      0    0    0      0   \n",
              "3                     2        0.0        2006      0    0    0      0   \n",
              "4                     2        0.0        2006      0    0    0      1   \n",
              "...                 ...        ...         ...    ...  ...  ...    ...   \n",
              "1804796              54        0.0      399287      0    0    0      0   \n",
              "1804797              54        0.0      394068      0    0    0      0   \n",
              "1804806              54        0.0      399536      0    0    0      0   \n",
              "1804821              54  6278354.0      394068      0    0    0      0   \n",
              "1804827              54  6239196.0      394068      0    0    0      0   \n",
              "\n",
              "         disagree  short created_date  rating_encode  \n",
              "0               0 2015-09-29 10:50:41              1  \n",
              "1               0 2015-09-29 10:50:42              1  \n",
              "2               0 2015-09-29 10:50:45              1  \n",
              "3               0 2015-09-29 10:50:47              1  \n",
              "4               0 2015-09-29 10:50:48              1  \n",
              "...           ...                 ...            ...  \n",
              "1804796         0 2017-11-11 00:27:46              1  \n",
              "1804797         0 2017-11-11 00:26:01              1  \n",
              "1804806         0 2017-11-11 00:30:15              1  \n",
              "1804821         0 2017-11-11 00:33:13              1  \n",
              "1804827         0 2017-11-11 00:34:40              1  \n",
              "\n",
              "[120116 rows x 37 columns]"
            ],
            "text/html": [
              "\n",
              "  <div id=\"df-b25162d0-17bf-4427-aeb5-729289a51f8d\">\n",
              "    <div class=\"colab-df-container\">\n",
              "      <div>\n",
              "<style scoped>\n",
              "    .dataframe tbody tr th:only-of-type {\n",
              "        vertical-align: middle;\n",
              "    }\n",
              "\n",
              "    .dataframe tbody tr th {\n",
              "        vertical-align: top;\n",
              "    }\n",
              "\n",
              "    .dataframe thead th {\n",
              "        text-align: right;\n",
              "    }\n",
              "</style>\n",
              "<table border=\"1\" class=\"dataframe\">\n",
              "  <thead>\n",
              "    <tr style=\"text-align: right;\">\n",
              "      <th></th>\n",
              "      <th>id</th>\n",
              "      <th>target</th>\n",
              "      <th>comment_text</th>\n",
              "      <th>asian</th>\n",
              "      <th>atheist</th>\n",
              "      <th>bisexual</th>\n",
              "      <th>black</th>\n",
              "      <th>buddhist</th>\n",
              "      <th>christian</th>\n",
              "      <th>female</th>\n",
              "      <th>...</th>\n",
              "      <th>publication_id</th>\n",
              "      <th>parent_id</th>\n",
              "      <th>article_id</th>\n",
              "      <th>funny</th>\n",
              "      <th>wow</th>\n",
              "      <th>sad</th>\n",
              "      <th>likes</th>\n",
              "      <th>disagree</th>\n",
              "      <th>short created_date</th>\n",
              "      <th>rating_encode</th>\n",
              "    </tr>\n",
              "  </thead>\n",
              "  <tbody>\n",
              "    <tr>\n",
              "      <th>0</th>\n",
              "      <td>59848</td>\n",
              "      <td>0.000000</td>\n",
              "      <td>This is so cool. It's like, 'would you want yo...</td>\n",
              "      <td>0.0</td>\n",
              "      <td>0.0</td>\n",
              "      <td>0.0</td>\n",
              "      <td>0.0</td>\n",
              "      <td>0.0</td>\n",
              "      <td>0.0</td>\n",
              "      <td>0.0</td>\n",
              "      <td>...</td>\n",
              "      <td>2</td>\n",
              "      <td>0.0</td>\n",
              "      <td>2006</td>\n",
              "      <td>0</td>\n",
              "      <td>0</td>\n",
              "      <td>0</td>\n",
              "      <td>0</td>\n",
              "      <td>0</td>\n",
              "      <td>2015-09-29 10:50:41</td>\n",
              "      <td>1</td>\n",
              "    </tr>\n",
              "    <tr>\n",
              "      <th>1</th>\n",
              "      <td>59849</td>\n",
              "      <td>0.000000</td>\n",
              "      <td>Thank you!! This would make my life a lot less...</td>\n",
              "      <td>0.0</td>\n",
              "      <td>0.0</td>\n",
              "      <td>0.0</td>\n",
              "      <td>0.0</td>\n",
              "      <td>0.0</td>\n",
              "      <td>0.0</td>\n",
              "      <td>0.0</td>\n",
              "      <td>...</td>\n",
              "      <td>2</td>\n",
              "      <td>0.0</td>\n",
              "      <td>2006</td>\n",
              "      <td>0</td>\n",
              "      <td>0</td>\n",
              "      <td>0</td>\n",
              "      <td>0</td>\n",
              "      <td>0</td>\n",
              "      <td>2015-09-29 10:50:42</td>\n",
              "      <td>1</td>\n",
              "    </tr>\n",
              "    <tr>\n",
              "      <th>2</th>\n",
              "      <td>59852</td>\n",
              "      <td>0.000000</td>\n",
              "      <td>This is such an urgent design problem; kudos t...</td>\n",
              "      <td>0.0</td>\n",
              "      <td>0.0</td>\n",
              "      <td>0.0</td>\n",
              "      <td>0.0</td>\n",
              "      <td>0.0</td>\n",
              "      <td>0.0</td>\n",
              "      <td>0.0</td>\n",
              "      <td>...</td>\n",
              "      <td>2</td>\n",
              "      <td>0.0</td>\n",
              "      <td>2006</td>\n",
              "      <td>0</td>\n",
              "      <td>0</td>\n",
              "      <td>0</td>\n",
              "      <td>0</td>\n",
              "      <td>0</td>\n",
              "      <td>2015-09-29 10:50:45</td>\n",
              "      <td>1</td>\n",
              "    </tr>\n",
              "    <tr>\n",
              "      <th>3</th>\n",
              "      <td>59855</td>\n",
              "      <td>0.000000</td>\n",
              "      <td>Is this something I'll be able to install on m...</td>\n",
              "      <td>0.0</td>\n",
              "      <td>0.0</td>\n",
              "      <td>0.0</td>\n",
              "      <td>0.0</td>\n",
              "      <td>0.0</td>\n",
              "      <td>0.0</td>\n",
              "      <td>0.0</td>\n",
              "      <td>...</td>\n",
              "      <td>2</td>\n",
              "      <td>0.0</td>\n",
              "      <td>2006</td>\n",
              "      <td>0</td>\n",
              "      <td>0</td>\n",
              "      <td>0</td>\n",
              "      <td>0</td>\n",
              "      <td>0</td>\n",
              "      <td>2015-09-29 10:50:47</td>\n",
              "      <td>1</td>\n",
              "    </tr>\n",
              "    <tr>\n",
              "      <th>4</th>\n",
              "      <td>59856</td>\n",
              "      <td>0.893617</td>\n",
              "      <td>haha you guys are a bunch of losers.</td>\n",
              "      <td>0.0</td>\n",
              "      <td>0.0</td>\n",
              "      <td>0.0</td>\n",
              "      <td>0.0</td>\n",
              "      <td>0.0</td>\n",
              "      <td>0.0</td>\n",
              "      <td>0.0</td>\n",
              "      <td>...</td>\n",
              "      <td>2</td>\n",
              "      <td>0.0</td>\n",
              "      <td>2006</td>\n",
              "      <td>0</td>\n",
              "      <td>0</td>\n",
              "      <td>0</td>\n",
              "      <td>1</td>\n",
              "      <td>0</td>\n",
              "      <td>2015-09-29 10:50:48</td>\n",
              "      <td>1</td>\n",
              "    </tr>\n",
              "    <tr>\n",
              "      <th>...</th>\n",
              "      <td>...</td>\n",
              "      <td>...</td>\n",
              "      <td>...</td>\n",
              "      <td>...</td>\n",
              "      <td>...</td>\n",
              "      <td>...</td>\n",
              "      <td>...</td>\n",
              "      <td>...</td>\n",
              "      <td>...</td>\n",
              "      <td>...</td>\n",
              "      <td>...</td>\n",
              "      <td>...</td>\n",
              "      <td>...</td>\n",
              "      <td>...</td>\n",
              "      <td>...</td>\n",
              "      <td>...</td>\n",
              "      <td>...</td>\n",
              "      <td>...</td>\n",
              "      <td>...</td>\n",
              "      <td>...</td>\n",
              "      <td>...</td>\n",
              "    </tr>\n",
              "    <tr>\n",
              "      <th>1804796</th>\n",
              "      <td>6333791</td>\n",
              "      <td>0.166667</td>\n",
              "      <td>Look at the socks.  What is he, five?</td>\n",
              "      <td>0.0</td>\n",
              "      <td>0.0</td>\n",
              "      <td>0.0</td>\n",
              "      <td>0.0</td>\n",
              "      <td>0.0</td>\n",
              "      <td>0.0</td>\n",
              "      <td>0.0</td>\n",
              "      <td>...</td>\n",
              "      <td>54</td>\n",
              "      <td>0.0</td>\n",
              "      <td>399287</td>\n",
              "      <td>0</td>\n",
              "      <td>0</td>\n",
              "      <td>0</td>\n",
              "      <td>0</td>\n",
              "      <td>0</td>\n",
              "      <td>2017-11-11 00:27:46</td>\n",
              "      <td>1</td>\n",
              "    </tr>\n",
              "    <tr>\n",
              "      <th>1804797</th>\n",
              "      <td>6333792</td>\n",
              "      <td>0.000000</td>\n",
              "      <td>Find this guy. http://www.crazydaysandnights.n...</td>\n",
              "      <td>0.0</td>\n",
              "      <td>0.0</td>\n",
              "      <td>0.0</td>\n",
              "      <td>0.0</td>\n",
              "      <td>0.0</td>\n",
              "      <td>0.0</td>\n",
              "      <td>0.0</td>\n",
              "      <td>...</td>\n",
              "      <td>54</td>\n",
              "      <td>0.0</td>\n",
              "      <td>394068</td>\n",
              "      <td>0</td>\n",
              "      <td>0</td>\n",
              "      <td>0</td>\n",
              "      <td>0</td>\n",
              "      <td>0</td>\n",
              "      <td>2017-11-11 00:26:01</td>\n",
              "      <td>1</td>\n",
              "    </tr>\n",
              "    <tr>\n",
              "      <th>1804806</th>\n",
              "      <td>6333814</td>\n",
              "      <td>0.000000</td>\n",
              "      <td>Not a shred of evidence so far in this witch h...</td>\n",
              "      <td>0.0</td>\n",
              "      <td>0.0</td>\n",
              "      <td>0.0</td>\n",
              "      <td>0.0</td>\n",
              "      <td>0.0</td>\n",
              "      <td>0.0</td>\n",
              "      <td>0.0</td>\n",
              "      <td>...</td>\n",
              "      <td>54</td>\n",
              "      <td>0.0</td>\n",
              "      <td>399536</td>\n",
              "      <td>0</td>\n",
              "      <td>0</td>\n",
              "      <td>0</td>\n",
              "      <td>0</td>\n",
              "      <td>0</td>\n",
              "      <td>2017-11-11 00:30:15</td>\n",
              "      <td>1</td>\n",
              "    </tr>\n",
              "    <tr>\n",
              "      <th>1804821</th>\n",
              "      <td>6333836</td>\n",
              "      <td>0.000000</td>\n",
              "      <td>You sure love your youtubes...and voting for y...</td>\n",
              "      <td>0.0</td>\n",
              "      <td>0.0</td>\n",
              "      <td>0.0</td>\n",
              "      <td>0.0</td>\n",
              "      <td>0.0</td>\n",
              "      <td>0.0</td>\n",
              "      <td>0.0</td>\n",
              "      <td>...</td>\n",
              "      <td>54</td>\n",
              "      <td>6278354.0</td>\n",
              "      <td>394068</td>\n",
              "      <td>0</td>\n",
              "      <td>0</td>\n",
              "      <td>0</td>\n",
              "      <td>0</td>\n",
              "      <td>0</td>\n",
              "      <td>2017-11-11 00:33:13</td>\n",
              "      <td>1</td>\n",
              "    </tr>\n",
              "    <tr>\n",
              "      <th>1804827</th>\n",
              "      <td>6333847</td>\n",
              "      <td>0.000000</td>\n",
              "      <td>Like this?\\n\\nhttp://www.crazydaysandnights.ne...</td>\n",
              "      <td>0.0</td>\n",
              "      <td>0.0</td>\n",
              "      <td>0.0</td>\n",
              "      <td>0.0</td>\n",
              "      <td>0.0</td>\n",
              "      <td>0.0</td>\n",
              "      <td>0.0</td>\n",
              "      <td>...</td>\n",
              "      <td>54</td>\n",
              "      <td>6239196.0</td>\n",
              "      <td>394068</td>\n",
              "      <td>0</td>\n",
              "      <td>0</td>\n",
              "      <td>0</td>\n",
              "      <td>0</td>\n",
              "      <td>0</td>\n",
              "      <td>2017-11-11 00:34:40</td>\n",
              "      <td>1</td>\n",
              "    </tr>\n",
              "  </tbody>\n",
              "</table>\n",
              "<p>120116 rows × 37 columns</p>\n",
              "</div>\n",
              "      <button class=\"colab-df-convert\" onclick=\"convertToInteractive('df-b25162d0-17bf-4427-aeb5-729289a51f8d')\"\n",
              "              title=\"Convert this dataframe to an interactive table.\"\n",
              "              style=\"display:none;\">\n",
              "        \n",
              "  <svg xmlns=\"http://www.w3.org/2000/svg\" height=\"24px\"viewBox=\"0 0 24 24\"\n",
              "       width=\"24px\">\n",
              "    <path d=\"M0 0h24v24H0V0z\" fill=\"none\"/>\n",
              "    <path d=\"M18.56 5.44l.94 2.06.94-2.06 2.06-.94-2.06-.94-.94-2.06-.94 2.06-2.06.94zm-11 1L8.5 8.5l.94-2.06 2.06-.94-2.06-.94L8.5 2.5l-.94 2.06-2.06.94zm10 10l.94 2.06.94-2.06 2.06-.94-2.06-.94-.94-2.06-.94 2.06-2.06.94z\"/><path d=\"M17.41 7.96l-1.37-1.37c-.4-.4-.92-.59-1.43-.59-.52 0-1.04.2-1.43.59L10.3 9.45l-7.72 7.72c-.78.78-.78 2.05 0 2.83L4 21.41c.39.39.9.59 1.41.59.51 0 1.02-.2 1.41-.59l7.78-7.78 2.81-2.81c.8-.78.8-2.07 0-2.86zM5.41 20L4 18.59l7.72-7.72 1.47 1.35L5.41 20z\"/>\n",
              "  </svg>\n",
              "      </button>\n",
              "      \n",
              "  <style>\n",
              "    .colab-df-container {\n",
              "      display:flex;\n",
              "      flex-wrap:wrap;\n",
              "      gap: 12px;\n",
              "    }\n",
              "\n",
              "    .colab-df-convert {\n",
              "      background-color: #E8F0FE;\n",
              "      border: none;\n",
              "      border-radius: 50%;\n",
              "      cursor: pointer;\n",
              "      display: none;\n",
              "      fill: #1967D2;\n",
              "      height: 32px;\n",
              "      padding: 0 0 0 0;\n",
              "      width: 32px;\n",
              "    }\n",
              "\n",
              "    .colab-df-convert:hover {\n",
              "      background-color: #E2EBFA;\n",
              "      box-shadow: 0px 1px 2px rgba(60, 64, 67, 0.3), 0px 1px 3px 1px rgba(60, 64, 67, 0.15);\n",
              "      fill: #174EA6;\n",
              "    }\n",
              "\n",
              "    [theme=dark] .colab-df-convert {\n",
              "      background-color: #3B4455;\n",
              "      fill: #D2E3FC;\n",
              "    }\n",
              "\n",
              "    [theme=dark] .colab-df-convert:hover {\n",
              "      background-color: #434B5C;\n",
              "      box-shadow: 0px 1px 3px 1px rgba(0, 0, 0, 0.15);\n",
              "      filter: drop-shadow(0px 1px 2px rgba(0, 0, 0, 0.3));\n",
              "      fill: #FFFFFF;\n",
              "    }\n",
              "  </style>\n",
              "\n",
              "      <script>\n",
              "        const buttonEl =\n",
              "          document.querySelector('#df-b25162d0-17bf-4427-aeb5-729289a51f8d button.colab-df-convert');\n",
              "        buttonEl.style.display =\n",
              "          google.colab.kernel.accessAllowed ? 'block' : 'none';\n",
              "\n",
              "        async function convertToInteractive(key) {\n",
              "          const element = document.querySelector('#df-b25162d0-17bf-4427-aeb5-729289a51f8d');\n",
              "          const dataTable =\n",
              "            await google.colab.kernel.invokeFunction('convertToInteractive',\n",
              "                                                     [key], {});\n",
              "          if (!dataTable) return;\n",
              "\n",
              "          const docLinkHtml = 'Like what you see? Visit the ' +\n",
              "            '<a target=\"_blank\" href=https://colab.research.google.com/notebooks/data_table.ipynb>data table notebook</a>'\n",
              "            + ' to learn more about interactive tables.';\n",
              "          element.innerHTML = '';\n",
              "          dataTable['output_type'] = 'display_data';\n",
              "          await google.colab.output.renderOutput(dataTable, element);\n",
              "          const docLink = document.createElement('div');\n",
              "          docLink.innerHTML = docLinkHtml;\n",
              "          element.appendChild(docLink);\n",
              "        }\n",
              "      </script>\n",
              "    </div>\n",
              "  </div>\n",
              "  "
            ]
          },
          "metadata": {},
          "execution_count": 31
        }
      ]
    },
    {
      "cell_type": "code",
      "execution_count": null,
      "metadata": {
        "id": "dX0RXkKQGzdY"
      },
      "outputs": [],
      "source": [
        "approved_comments=df[df['rating_encode']==0]\n",
        "#approved_comments.info()\n",
        "approved_comments_number=1684758"
      ]
    },
    {
      "cell_type": "code",
      "execution_count": null,
      "metadata": {
        "id": "TlKa8gfGRorx",
        "colab": {
          "base_uri": "https://localhost:8080/"
        },
        "outputId": "ae7a52de-c239-436e-8317-5234394b1cd1"
      },
      "outputs": [
        {
          "output_type": "stream",
          "name": "stdout",
          "text": [
            "Liczba hejtów:  120116 vs Liczba nie-hejtów : 1684758\n"
          ]
        }
      ],
      "source": [
        "print(\"Liczba hejtów: \", len(df[df['rating_encode']==1]  ), \"vs\", \"Liczba nie-hejtów :\", len(df[df['rating_encode']==0]  ) )"
      ]
    },
    {
      "cell_type": "markdown",
      "metadata": {
        "id": "pkZMEop3MvSY"
      },
      "source": [
        "Zbiór nie jest zbalansowany. Należy zoptymalizować zbiór do analizy na 50/50. W tym celu wybieramy 120 116 nie-hejtów komentarzy do analizy (approved_comments)"
      ]
    },
    {
      "cell_type": "code",
      "execution_count": null,
      "metadata": {
        "id": "EdsSb36TM4mE",
        "colab": {
          "base_uri": "https://localhost:8080/"
        },
        "outputId": "c3951d64-7c3a-4400-abeb-e49218953622"
      },
      "outputs": [
        {
          "output_type": "execute_result",
          "data": {
            "text/plain": [
              "120116"
            ]
          },
          "metadata": {},
          "execution_count": 34
        }
      ],
      "source": [
        "approved_comments=df[df['rating_encode']==0]\n",
        "\n",
        "approved_comments.reset_index(drop=True, inplace=True)                              #resetowanie indeksów w tabeli\n",
        "\n",
        "approved_comments=approved_comments.drop(approved_comments.loc[120116:].index)      #usuwamy komentarze od numeru 120116 i wyżej \n",
        "\n",
        "len(approved_comments)"
      ]
    },
    {
      "cell_type": "code",
      "execution_count": null,
      "metadata": {
        "id": "sQMHf6_jSIuE",
        "colab": {
          "base_uri": "https://localhost:8080/"
        },
        "outputId": "9f414ff1-0c8d-4e12-a0c5-54535fe3d896"
      },
      "outputs": [
        {
          "output_type": "execute_result",
          "data": {
            "text/plain": [
              "240232"
            ]
          },
          "metadata": {},
          "execution_count": 35
        }
      ],
      "source": [
        "balanced_df= rejected_comments.append(approved_comments)\n",
        "len(balanced_df)"
      ]
    },
    {
      "cell_type": "code",
      "execution_count": null,
      "metadata": {
        "id": "r4eh1QmfSTAM",
        "colab": {
          "base_uri": "https://localhost:8080/",
          "height": 453
        },
        "outputId": "ea53430e-696c-430a-9cb7-083e105b6a38"
      },
      "outputs": [
        {
          "output_type": "execute_result",
          "data": {
            "text/plain": [
              "        id  target                                       comment_text  asian  \\\n",
              "0   585691     0.3              Wait'll Trump grabs you by the p___y.    0.0   \n",
              "1   366690     0.4  The law in Oregon makes it a lot easier. If th...    0.0   \n",
              "2  1041257     0.0  Sophistry Dermot Sophistry; u r better than that.    0.0   \n",
              "3  6265824     0.4  \"Meanwhile, the real America and Catholics lov...    0.0   \n",
              "4   578380     0.0  just for a second, imagine Alaska without the ...    0.0   \n",
              "\n",
              "   atheist  bisexual  black  buddhist  christian  female  ...  publication_id  \\\n",
              "0      0.0       0.0    0.0       0.0        0.0     0.0  ...              21   \n",
              "1      0.0       0.0    0.0       0.0        0.0     0.0  ...              21   \n",
              "2      0.0       0.0    0.0       0.0        0.0     0.0  ...              21   \n",
              "3      0.0       0.0    0.0       0.0        0.6     0.0  ...              53   \n",
              "4      0.0       0.0    0.0       0.0        0.0     0.0  ...              21   \n",
              "\n",
              "   parent_id  article_id  funny  wow  sad  likes  disagree  \\\n",
              "0   585645.0      151042      0    0    0      0         0   \n",
              "1   366242.0      140043      0    0    0      0         0   \n",
              "2  1040873.0      314624      0    0    0      0         0   \n",
              "3  6265203.0      395749      0    0    0      0         0   \n",
              "4        0.0      150454      0    0    0      0         0   \n",
              "\n",
              "   short created_date  rating_encode  \n",
              "0 2016-11-09 07:06:59              1  \n",
              "1 2016-06-27 20:42:10              0  \n",
              "2 2017-02-24 20:28:56              1  \n",
              "3 2017-11-01 15:18:11              1  \n",
              "4 2016-11-05 17:21:41              1  \n",
              "\n",
              "[5 rows x 37 columns]"
            ],
            "text/html": [
              "\n",
              "  <div id=\"df-d0022678-df9e-4147-9c5a-2546a9eb1c94\">\n",
              "    <div class=\"colab-df-container\">\n",
              "      <div>\n",
              "<style scoped>\n",
              "    .dataframe tbody tr th:only-of-type {\n",
              "        vertical-align: middle;\n",
              "    }\n",
              "\n",
              "    .dataframe tbody tr th {\n",
              "        vertical-align: top;\n",
              "    }\n",
              "\n",
              "    .dataframe thead th {\n",
              "        text-align: right;\n",
              "    }\n",
              "</style>\n",
              "<table border=\"1\" class=\"dataframe\">\n",
              "  <thead>\n",
              "    <tr style=\"text-align: right;\">\n",
              "      <th></th>\n",
              "      <th>id</th>\n",
              "      <th>target</th>\n",
              "      <th>comment_text</th>\n",
              "      <th>asian</th>\n",
              "      <th>atheist</th>\n",
              "      <th>bisexual</th>\n",
              "      <th>black</th>\n",
              "      <th>buddhist</th>\n",
              "      <th>christian</th>\n",
              "      <th>female</th>\n",
              "      <th>...</th>\n",
              "      <th>publication_id</th>\n",
              "      <th>parent_id</th>\n",
              "      <th>article_id</th>\n",
              "      <th>funny</th>\n",
              "      <th>wow</th>\n",
              "      <th>sad</th>\n",
              "      <th>likes</th>\n",
              "      <th>disagree</th>\n",
              "      <th>short created_date</th>\n",
              "      <th>rating_encode</th>\n",
              "    </tr>\n",
              "  </thead>\n",
              "  <tbody>\n",
              "    <tr>\n",
              "      <th>0</th>\n",
              "      <td>585691</td>\n",
              "      <td>0.3</td>\n",
              "      <td>Wait'll Trump grabs you by the p___y.</td>\n",
              "      <td>0.0</td>\n",
              "      <td>0.0</td>\n",
              "      <td>0.0</td>\n",
              "      <td>0.0</td>\n",
              "      <td>0.0</td>\n",
              "      <td>0.0</td>\n",
              "      <td>0.0</td>\n",
              "      <td>...</td>\n",
              "      <td>21</td>\n",
              "      <td>585645.0</td>\n",
              "      <td>151042</td>\n",
              "      <td>0</td>\n",
              "      <td>0</td>\n",
              "      <td>0</td>\n",
              "      <td>0</td>\n",
              "      <td>0</td>\n",
              "      <td>2016-11-09 07:06:59</td>\n",
              "      <td>1</td>\n",
              "    </tr>\n",
              "    <tr>\n",
              "      <th>1</th>\n",
              "      <td>366690</td>\n",
              "      <td>0.4</td>\n",
              "      <td>The law in Oregon makes it a lot easier. If th...</td>\n",
              "      <td>0.0</td>\n",
              "      <td>0.0</td>\n",
              "      <td>0.0</td>\n",
              "      <td>0.0</td>\n",
              "      <td>0.0</td>\n",
              "      <td>0.0</td>\n",
              "      <td>0.0</td>\n",
              "      <td>...</td>\n",
              "      <td>21</td>\n",
              "      <td>366242.0</td>\n",
              "      <td>140043</td>\n",
              "      <td>0</td>\n",
              "      <td>0</td>\n",
              "      <td>0</td>\n",
              "      <td>0</td>\n",
              "      <td>0</td>\n",
              "      <td>2016-06-27 20:42:10</td>\n",
              "      <td>0</td>\n",
              "    </tr>\n",
              "    <tr>\n",
              "      <th>2</th>\n",
              "      <td>1041257</td>\n",
              "      <td>0.0</td>\n",
              "      <td>Sophistry Dermot Sophistry; u r better than that.</td>\n",
              "      <td>0.0</td>\n",
              "      <td>0.0</td>\n",
              "      <td>0.0</td>\n",
              "      <td>0.0</td>\n",
              "      <td>0.0</td>\n",
              "      <td>0.0</td>\n",
              "      <td>0.0</td>\n",
              "      <td>...</td>\n",
              "      <td>21</td>\n",
              "      <td>1040873.0</td>\n",
              "      <td>314624</td>\n",
              "      <td>0</td>\n",
              "      <td>0</td>\n",
              "      <td>0</td>\n",
              "      <td>0</td>\n",
              "      <td>0</td>\n",
              "      <td>2017-02-24 20:28:56</td>\n",
              "      <td>1</td>\n",
              "    </tr>\n",
              "    <tr>\n",
              "      <th>3</th>\n",
              "      <td>6265824</td>\n",
              "      <td>0.4</td>\n",
              "      <td>\"Meanwhile, the real America and Catholics lov...</td>\n",
              "      <td>0.0</td>\n",
              "      <td>0.0</td>\n",
              "      <td>0.0</td>\n",
              "      <td>0.0</td>\n",
              "      <td>0.0</td>\n",
              "      <td>0.6</td>\n",
              "      <td>0.0</td>\n",
              "      <td>...</td>\n",
              "      <td>53</td>\n",
              "      <td>6265203.0</td>\n",
              "      <td>395749</td>\n",
              "      <td>0</td>\n",
              "      <td>0</td>\n",
              "      <td>0</td>\n",
              "      <td>0</td>\n",
              "      <td>0</td>\n",
              "      <td>2017-11-01 15:18:11</td>\n",
              "      <td>1</td>\n",
              "    </tr>\n",
              "    <tr>\n",
              "      <th>4</th>\n",
              "      <td>578380</td>\n",
              "      <td>0.0</td>\n",
              "      <td>just for a second, imagine Alaska without the ...</td>\n",
              "      <td>0.0</td>\n",
              "      <td>0.0</td>\n",
              "      <td>0.0</td>\n",
              "      <td>0.0</td>\n",
              "      <td>0.0</td>\n",
              "      <td>0.0</td>\n",
              "      <td>0.0</td>\n",
              "      <td>...</td>\n",
              "      <td>21</td>\n",
              "      <td>0.0</td>\n",
              "      <td>150454</td>\n",
              "      <td>0</td>\n",
              "      <td>0</td>\n",
              "      <td>0</td>\n",
              "      <td>0</td>\n",
              "      <td>0</td>\n",
              "      <td>2016-11-05 17:21:41</td>\n",
              "      <td>1</td>\n",
              "    </tr>\n",
              "  </tbody>\n",
              "</table>\n",
              "<p>5 rows × 37 columns</p>\n",
              "</div>\n",
              "      <button class=\"colab-df-convert\" onclick=\"convertToInteractive('df-d0022678-df9e-4147-9c5a-2546a9eb1c94')\"\n",
              "              title=\"Convert this dataframe to an interactive table.\"\n",
              "              style=\"display:none;\">\n",
              "        \n",
              "  <svg xmlns=\"http://www.w3.org/2000/svg\" height=\"24px\"viewBox=\"0 0 24 24\"\n",
              "       width=\"24px\">\n",
              "    <path d=\"M0 0h24v24H0V0z\" fill=\"none\"/>\n",
              "    <path d=\"M18.56 5.44l.94 2.06.94-2.06 2.06-.94-2.06-.94-.94-2.06-.94 2.06-2.06.94zm-11 1L8.5 8.5l.94-2.06 2.06-.94-2.06-.94L8.5 2.5l-.94 2.06-2.06.94zm10 10l.94 2.06.94-2.06 2.06-.94-2.06-.94-.94-2.06-.94 2.06-2.06.94z\"/><path d=\"M17.41 7.96l-1.37-1.37c-.4-.4-.92-.59-1.43-.59-.52 0-1.04.2-1.43.59L10.3 9.45l-7.72 7.72c-.78.78-.78 2.05 0 2.83L4 21.41c.39.39.9.59 1.41.59.51 0 1.02-.2 1.41-.59l7.78-7.78 2.81-2.81c.8-.78.8-2.07 0-2.86zM5.41 20L4 18.59l7.72-7.72 1.47 1.35L5.41 20z\"/>\n",
              "  </svg>\n",
              "      </button>\n",
              "      \n",
              "  <style>\n",
              "    .colab-df-container {\n",
              "      display:flex;\n",
              "      flex-wrap:wrap;\n",
              "      gap: 12px;\n",
              "    }\n",
              "\n",
              "    .colab-df-convert {\n",
              "      background-color: #E8F0FE;\n",
              "      border: none;\n",
              "      border-radius: 50%;\n",
              "      cursor: pointer;\n",
              "      display: none;\n",
              "      fill: #1967D2;\n",
              "      height: 32px;\n",
              "      padding: 0 0 0 0;\n",
              "      width: 32px;\n",
              "    }\n",
              "\n",
              "    .colab-df-convert:hover {\n",
              "      background-color: #E2EBFA;\n",
              "      box-shadow: 0px 1px 2px rgba(60, 64, 67, 0.3), 0px 1px 3px 1px rgba(60, 64, 67, 0.15);\n",
              "      fill: #174EA6;\n",
              "    }\n",
              "\n",
              "    [theme=dark] .colab-df-convert {\n",
              "      background-color: #3B4455;\n",
              "      fill: #D2E3FC;\n",
              "    }\n",
              "\n",
              "    [theme=dark] .colab-df-convert:hover {\n",
              "      background-color: #434B5C;\n",
              "      box-shadow: 0px 1px 3px 1px rgba(0, 0, 0, 0.15);\n",
              "      filter: drop-shadow(0px 1px 2px rgba(0, 0, 0, 0.3));\n",
              "      fill: #FFFFFF;\n",
              "    }\n",
              "  </style>\n",
              "\n",
              "      <script>\n",
              "        const buttonEl =\n",
              "          document.querySelector('#df-d0022678-df9e-4147-9c5a-2546a9eb1c94 button.colab-df-convert');\n",
              "        buttonEl.style.display =\n",
              "          google.colab.kernel.accessAllowed ? 'block' : 'none';\n",
              "\n",
              "        async function convertToInteractive(key) {\n",
              "          const element = document.querySelector('#df-d0022678-df9e-4147-9c5a-2546a9eb1c94');\n",
              "          const dataTable =\n",
              "            await google.colab.kernel.invokeFunction('convertToInteractive',\n",
              "                                                     [key], {});\n",
              "          if (!dataTable) return;\n",
              "\n",
              "          const docLinkHtml = 'Like what you see? Visit the ' +\n",
              "            '<a target=\"_blank\" href=https://colab.research.google.com/notebooks/data_table.ipynb>data table notebook</a>'\n",
              "            + ' to learn more about interactive tables.';\n",
              "          element.innerHTML = '';\n",
              "          dataTable['output_type'] = 'display_data';\n",
              "          await google.colab.output.renderOutput(dataTable, element);\n",
              "          const docLink = document.createElement('div');\n",
              "          docLink.innerHTML = docLinkHtml;\n",
              "          element.appendChild(docLink);\n",
              "        }\n",
              "      </script>\n",
              "    </div>\n",
              "  </div>\n",
              "  "
            ]
          },
          "metadata": {},
          "execution_count": 36
        }
      ],
      "source": [
        "#Przetasowanie wierszy w tabeli (na potrzeby późniejszego train/test split)\n",
        "from sklearn.utils import shuffle\n",
        "\n",
        "balanced_df = shuffle(balanced_df)\n",
        "\n",
        "balanced_df.reset_index(drop=True, inplace=True)\n",
        "\n",
        "balanced_df.head()"
      ]
    },
    {
      "cell_type": "markdown",
      "metadata": {
        "id": "xfK2U8qljjp9"
      },
      "source": [
        "# Pre-processing"
      ]
    },
    {
      "cell_type": "code",
      "execution_count": null,
      "metadata": {
        "id": "kUFgENaykyRe",
        "colab": {
          "base_uri": "https://localhost:8080/"
        },
        "outputId": "78ec9519-2857-4d11-a62f-236c4f9732dc"
      },
      "outputs": [
        {
          "output_type": "stream",
          "name": "stderr",
          "text": [
            "[nltk_data] Downloading package punkt to /root/nltk_data...\n",
            "[nltk_data]   Package punkt is already up-to-date!\n",
            "[nltk_data] Downloading package stopwords to /root/nltk_data...\n",
            "[nltk_data]   Package stopwords is already up-to-date!\n"
          ]
        },
        {
          "output_type": "execute_result",
          "data": {
            "text/plain": [
              "True"
            ]
          },
          "metadata": {},
          "execution_count": 37
        }
      ],
      "source": [
        "import nltk.corpus\n",
        "import nltk\n",
        "nltk.download('punkt')\n",
        "from nltk.corpus import stopwords\n",
        "from nltk.tokenize import word_tokenize, sent_tokenize\n",
        "nltk.download('stopwords')\n"
      ]
    },
    {
      "cell_type": "markdown",
      "metadata": {
        "id": "LONR7joKoYYM"
      },
      "source": [
        "## Normalizacja tekstu"
      ]
    },
    {
      "cell_type": "markdown",
      "metadata": {
        "id": "kFbSxNCDzB2f"
      },
      "source": [
        "Text Normalization may include the following actions:\n",
        "- latter change to lower case\n",
        "- removing numbers\n",
        "- stemming\n",
        "- lemmization\n",
        "- removing whitespaces\n",
        "- removing stop words\n",
        "- acronyms look up\n",
        "- emoticons identification\n",
        "- and other."
      ]
    },
    {
      "cell_type": "markdown",
      "metadata": {
        "id": "KuTBujYTzG9i"
      },
      "source": [
        "Utworzenie kolumny 'comments_changed', dla której będą wprowadzane zmiany na komentarzach (kolumn bazowa 'comment_text' bez zmian)"
      ]
    },
    {
      "cell_type": "code",
      "execution_count": null,
      "metadata": {
        "id": "VGIDPW67zFyd",
        "colab": {
          "base_uri": "https://localhost:8080/",
          "height": 36
        },
        "outputId": "2b289cd6-4a24-41a2-89c8-e65ece9c2fe0"
      },
      "outputs": [
        {
          "output_type": "execute_result",
          "data": {
            "text/plain": [
              "\"Wait'll Trump grabs you by the p___y.\""
            ],
            "application/vnd.google.colaboratory.intrinsic+json": {
              "type": "string"
            }
          },
          "metadata": {},
          "execution_count": 38
        }
      ],
      "source": [
        "balanced_df['comments_changed'] = balanced_df.apply(lambda row: (row['comment_text']), axis=1)\n",
        "\n",
        "balanced_df['comments_changed'][0]"
      ]
    },
    {
      "cell_type": "markdown",
      "metadata": {
        "id": "CD7BnTkryzO_"
      },
      "source": [
        "### Tokenizacja słów"
      ]
    },
    {
      "cell_type": "code",
      "execution_count": null,
      "metadata": {
        "id": "c2pZK_2SlR3x"
      },
      "outputs": [],
      "source": [
        "#- tokenizacja słów\n",
        "#-zmiana wielkości liter na małe\n",
        "#-usunięcie znaków interpunkcyjnych\n",
        "#-usunięcie stopwords"
      ]
    },
    {
      "cell_type": "code",
      "execution_count": null,
      "metadata": {
        "id": "HBBIBNcynMOK",
        "colab": {
          "base_uri": "https://localhost:8080/",
          "height": 36
        },
        "outputId": "510a3369-ed58-40bc-8eb3-11d6a9593583"
      },
      "outputs": [
        {
          "output_type": "execute_result",
          "data": {
            "text/plain": [
              "\"Wait'll Trump grabs you by the p___y.\""
            ],
            "application/vnd.google.colaboratory.intrinsic+json": {
              "type": "string"
            }
          },
          "metadata": {},
          "execution_count": 40
        }
      ],
      "source": [
        "balanced_df['comment_text'][0]"
      ]
    },
    {
      "cell_type": "code",
      "execution_count": null,
      "metadata": {
        "id": "FzxwSE_bncMG",
        "colab": {
          "base_uri": "https://localhost:8080/"
        },
        "outputId": "797c8585-ff09-459b-f4e4-ce3d52eab92f"
      },
      "outputs": [
        {
          "output_type": "execute_result",
          "data": {
            "text/plain": [
              "['Wait', \"'ll\", 'Trump', 'grabs', 'you', 'by', 'the', 'p___y', '.']"
            ]
          },
          "metadata": {},
          "execution_count": 41
        }
      ],
      "source": [
        "#tokenizacja tekstu\n",
        "word_tokenize(balanced_df['comment_text'][0])"
      ]
    },
    {
      "cell_type": "code",
      "execution_count": null,
      "metadata": {
        "id": "7qOSKJ-6jxiG",
        "colab": {
          "base_uri": "https://localhost:8080/"
        },
        "outputId": "5b47138c-57b6-48aa-d49f-f87df6aa6c85"
      },
      "outputs": [
        {
          "output_type": "execute_result",
          "data": {
            "text/plain": [
              "['Wait', \"'ll\", 'Trump', 'grabs', 'p___y', '.']"
            ]
          },
          "metadata": {},
          "execution_count": 42
        }
      ],
      "source": [
        "#tokenizacja tekstu, zamiana liter na małe, usunięcie stopwords\n",
        "tokenized_comment=[word for word in word_tokenize(balanced_df['comment_text'][0]) if word.lower() not in stopwords.words(\"english\")]\n",
        "tokenized_comment"
      ]
    },
    {
      "cell_type": "markdown",
      "metadata": {
        "id": "TbHffUWsp6ri"
      },
      "source": [
        "### Punctuations"
      ]
    },
    {
      "cell_type": "code",
      "execution_count": null,
      "metadata": {
        "id": "xJQUqu-Up-Qo"
      },
      "outputs": [],
      "source": [
        "import string"
      ]
    },
    {
      "cell_type": "code",
      "execution_count": null,
      "metadata": {
        "id": "KnnXVa4Ap8rJ",
        "colab": {
          "base_uri": "https://localhost:8080/",
          "height": 36
        },
        "outputId": "574169bc-1078-47cc-d86a-fdb3bc564ea3"
      },
      "outputs": [
        {
          "output_type": "execute_result",
          "data": {
            "text/plain": [
              "'!\"#$%&\\'()*+,-./:;<=>?@[\\\\]^_`{|}~'"
            ],
            "application/vnd.google.colaboratory.intrinsic+json": {
              "type": "string"
            }
          },
          "metadata": {},
          "execution_count": 44
        }
      ],
      "source": [
        "string.punctuation"
      ]
    },
    {
      "cell_type": "code",
      "execution_count": null,
      "metadata": {
        "id": "qZ1v-fdCp__n",
        "colab": {
          "base_uri": "https://localhost:8080/",
          "height": 36
        },
        "outputId": "3656faab-c0ea-490b-9760-989b6c16ca1f"
      },
      "outputs": [
        {
          "output_type": "execute_result",
          "data": {
            "text/plain": [
              "\"Wait 'll Trump grabs p___y\""
            ],
            "application/vnd.google.colaboratory.intrinsic+json": {
              "type": "string"
            }
          },
          "metadata": {},
          "execution_count": 45
        }
      ],
      "source": [
        "tokenized_punct_comment=\" \".join([char for char in tokenized_comment if char not in string.punctuation])      #char- character - znak\n",
        "tokenized_punct_comment"
      ]
    },
    {
      "cell_type": "code",
      "execution_count": null,
      "metadata": {
        "id": "ZL6wi2pcvlzq"
      },
      "outputs": [],
      "source": [
        "#Replace all acronyms with their translation \n",
        "# https://betterprogramming.pub/twitter-sentiment-analysis-using-naive-bayes-and-n-gram-5df42ae4bfc6\n",
        "\n",
        "# acronyms = pd.read_csv('data/acronyms.csv')\n",
        "# acronyms.tail(5)"
      ]
    },
    {
      "cell_type": "code",
      "execution_count": null,
      "metadata": {
        "id": "vT-PBM1evnnv"
      },
      "outputs": [],
      "source": [
        "#An emoticon dictionary regrouping 132 of the most used emoticons in western with their sentiment, negative or positive\n",
        "# https://betterprogramming.pub/twitter-sentiment-analysis-using-naive-bayes-and-n-gram-5df42ae4bfc6\n",
        "\n",
        "# emoticons = pd.read_csv('data/smileys.csv')\n",
        "# positive_emoticons = emoticons[emoticons.Sentiment == 1]\n",
        "# negative_emoticons = emoticons[emoticons.Sentiment == 0]\n",
        "# emoticons.head(5)"
      ]
    },
    {
      "cell_type": "markdown",
      "metadata": {
        "id": "TJlUrlJcodtI"
      },
      "source": [
        "### Lematyzacja tekstu"
      ]
    },
    {
      "cell_type": "code",
      "execution_count": null,
      "metadata": {
        "id": "85ho4eCToa42",
        "colab": {
          "base_uri": "https://localhost:8080/"
        },
        "outputId": "9e0c8420-648c-4454-e5e1-3a0e89d02d58"
      },
      "outputs": [
        {
          "output_type": "stream",
          "name": "stderr",
          "text": [
            "[nltk_data] Downloading package wordnet to /root/nltk_data...\n",
            "[nltk_data]   Package wordnet is already up-to-date!\n",
            "[nltk_data] Downloading package omw-1.4 to /root/nltk_data...\n",
            "[nltk_data]   Package omw-1.4 is already up-to-date!\n"
          ]
        }
      ],
      "source": [
        "nltk.download('wordnet')\n",
        "nltk.download('omw-1.4')\n",
        "from nltk.corpus import wordnet as wn\n",
        "from nltk.stem import WordNetLemmatizer\n",
        "wordnet_lemmatizer = WordNetLemmatizer()"
      ]
    },
    {
      "cell_type": "code",
      "execution_count": null,
      "metadata": {
        "id": "_y4alBORo6Up",
        "colab": {
          "base_uri": "https://localhost:8080/"
        },
        "outputId": "d5aea205-cca4-4e70-bc97-791da83231e5"
      },
      "outputs": [
        {
          "output_type": "stream",
          "name": "stdout",
          "text": [
            "[['Wait', \"'ll\", 'Trump', 'grab', 'p___y']]\n"
          ]
        }
      ],
      "source": [
        "wordnet_lemmatizer = WordNetLemmatizer()\n",
        "\n",
        "print([[wordnet_lemmatizer.lemmatize(word) for word in word_tokenize(sent)] for sent in sent_tokenize(tokenized_punct_comment)])"
      ]
    },
    {
      "cell_type": "markdown",
      "metadata": {
        "id": "PtAgrdXp9u-r"
      },
      "source": [
        "## Definicja funkcji text_normalise"
      ]
    },
    {
      "cell_type": "code",
      "execution_count": null,
      "metadata": {
        "id": "qes7KJGR9uM0"
      },
      "outputs": [],
      "source": [
        "#połączenie w ciąg zadań wszystkich elementów przedstawionych powyżej i wykonanie funkcji dla całej kolumny 'comments_changed'\n",
        "\n",
        "def text_normalise(row):\n",
        "  \n",
        "  comment=row['comment_text']\n",
        "    \n",
        "  comment=[word for word in word_tokenize(comment) if word.lower() not in stopwords.words(\"english\")]     #tokenizer, lower, stopwords\n",
        "  \n",
        "  comment=\" \".join([char for char in comment if char not in string.punctuation])                        #punctuation\n",
        "    \n",
        "  comment=[wordnet_lemmatizer.lemmatize(word) for word in word_tokenize(comment)]                       #lemmatizer -zmiana do f-kcij lematyzacji wyżej\n",
        "                                                                                                         \n",
        "  comment=\" \".join([char for char in comment])                                                          #dodane, aby wyjść z listy do stringa\n",
        "\n",
        "  return comment"
      ]
    },
    {
      "cell_type": "code",
      "execution_count": null,
      "metadata": {
        "id": "1M__Ldxv95FA"
      },
      "outputs": [],
      "source": [
        "balanced_df['comments_changed'] = balanced_df.apply(text_normalise, axis=1)"
      ]
    },
    {
      "cell_type": "code",
      "execution_count": null,
      "metadata": {
        "id": "joNlSsiaeJj1",
        "colab": {
          "base_uri": "https://localhost:8080/",
          "height": 488
        },
        "outputId": "f83c0564-3c39-46ce-d273-20748b2aad40"
      },
      "outputs": [
        {
          "output_type": "execute_result",
          "data": {
            "text/plain": [
              "        id  target                                       comment_text  asian  \\\n",
              "0   585691     0.3              Wait'll Trump grabs you by the p___y.    0.0   \n",
              "1   366690     0.4  The law in Oregon makes it a lot easier. If th...    0.0   \n",
              "2  1041257     0.0  Sophistry Dermot Sophistry; u r better than that.    0.0   \n",
              "3  6265824     0.4  \"Meanwhile, the real America and Catholics lov...    0.0   \n",
              "4   578380     0.0  just for a second, imagine Alaska without the ...    0.0   \n",
              "\n",
              "   atheist  bisexual  black  buddhist  christian  female  ...  parent_id  \\\n",
              "0      0.0       0.0    0.0       0.0        0.0     0.0  ...   585645.0   \n",
              "1      0.0       0.0    0.0       0.0        0.0     0.0  ...   366242.0   \n",
              "2      0.0       0.0    0.0       0.0        0.0     0.0  ...  1040873.0   \n",
              "3      0.0       0.0    0.0       0.0        0.6     0.0  ...  6265203.0   \n",
              "4      0.0       0.0    0.0       0.0        0.0     0.0  ...        0.0   \n",
              "\n",
              "   article_id  funny  wow  sad  likes  disagree  short created_date  \\\n",
              "0      151042      0    0    0      0         0 2016-11-09 07:06:59   \n",
              "1      140043      0    0    0      0         0 2016-06-27 20:42:10   \n",
              "2      314624      0    0    0      0         0 2017-02-24 20:28:56   \n",
              "3      395749      0    0    0      0         0 2017-11-01 15:18:11   \n",
              "4      150454      0    0    0      0         0 2016-11-05 17:21:41   \n",
              "\n",
              "   rating_encode                                   comments_changed  \n",
              "0              1                          Wait 'll Trump grab p___y  \n",
              "1              0  law Oregon make lot easier house shoot dead qu...  \n",
              "2              1              Sophistry Dermot Sophistry u r better  \n",
              "3              1  `` Meanwhile real America Catholics love presi...  \n",
              "4              1  second imagine Alaska without eskimoes problem...  \n",
              "\n",
              "[5 rows x 38 columns]"
            ],
            "text/html": [
              "\n",
              "  <div id=\"df-253bd2c4-fede-4ee1-b696-e5626b1b2263\">\n",
              "    <div class=\"colab-df-container\">\n",
              "      <div>\n",
              "<style scoped>\n",
              "    .dataframe tbody tr th:only-of-type {\n",
              "        vertical-align: middle;\n",
              "    }\n",
              "\n",
              "    .dataframe tbody tr th {\n",
              "        vertical-align: top;\n",
              "    }\n",
              "\n",
              "    .dataframe thead th {\n",
              "        text-align: right;\n",
              "    }\n",
              "</style>\n",
              "<table border=\"1\" class=\"dataframe\">\n",
              "  <thead>\n",
              "    <tr style=\"text-align: right;\">\n",
              "      <th></th>\n",
              "      <th>id</th>\n",
              "      <th>target</th>\n",
              "      <th>comment_text</th>\n",
              "      <th>asian</th>\n",
              "      <th>atheist</th>\n",
              "      <th>bisexual</th>\n",
              "      <th>black</th>\n",
              "      <th>buddhist</th>\n",
              "      <th>christian</th>\n",
              "      <th>female</th>\n",
              "      <th>...</th>\n",
              "      <th>parent_id</th>\n",
              "      <th>article_id</th>\n",
              "      <th>funny</th>\n",
              "      <th>wow</th>\n",
              "      <th>sad</th>\n",
              "      <th>likes</th>\n",
              "      <th>disagree</th>\n",
              "      <th>short created_date</th>\n",
              "      <th>rating_encode</th>\n",
              "      <th>comments_changed</th>\n",
              "    </tr>\n",
              "  </thead>\n",
              "  <tbody>\n",
              "    <tr>\n",
              "      <th>0</th>\n",
              "      <td>585691</td>\n",
              "      <td>0.3</td>\n",
              "      <td>Wait'll Trump grabs you by the p___y.</td>\n",
              "      <td>0.0</td>\n",
              "      <td>0.0</td>\n",
              "      <td>0.0</td>\n",
              "      <td>0.0</td>\n",
              "      <td>0.0</td>\n",
              "      <td>0.0</td>\n",
              "      <td>0.0</td>\n",
              "      <td>...</td>\n",
              "      <td>585645.0</td>\n",
              "      <td>151042</td>\n",
              "      <td>0</td>\n",
              "      <td>0</td>\n",
              "      <td>0</td>\n",
              "      <td>0</td>\n",
              "      <td>0</td>\n",
              "      <td>2016-11-09 07:06:59</td>\n",
              "      <td>1</td>\n",
              "      <td>Wait 'll Trump grab p___y</td>\n",
              "    </tr>\n",
              "    <tr>\n",
              "      <th>1</th>\n",
              "      <td>366690</td>\n",
              "      <td>0.4</td>\n",
              "      <td>The law in Oregon makes it a lot easier. If th...</td>\n",
              "      <td>0.0</td>\n",
              "      <td>0.0</td>\n",
              "      <td>0.0</td>\n",
              "      <td>0.0</td>\n",
              "      <td>0.0</td>\n",
              "      <td>0.0</td>\n",
              "      <td>0.0</td>\n",
              "      <td>...</td>\n",
              "      <td>366242.0</td>\n",
              "      <td>140043</td>\n",
              "      <td>0</td>\n",
              "      <td>0</td>\n",
              "      <td>0</td>\n",
              "      <td>0</td>\n",
              "      <td>0</td>\n",
              "      <td>2016-06-27 20:42:10</td>\n",
              "      <td>0</td>\n",
              "      <td>law Oregon make lot easier house shoot dead qu...</td>\n",
              "    </tr>\n",
              "    <tr>\n",
              "      <th>2</th>\n",
              "      <td>1041257</td>\n",
              "      <td>0.0</td>\n",
              "      <td>Sophistry Dermot Sophistry; u r better than that.</td>\n",
              "      <td>0.0</td>\n",
              "      <td>0.0</td>\n",
              "      <td>0.0</td>\n",
              "      <td>0.0</td>\n",
              "      <td>0.0</td>\n",
              "      <td>0.0</td>\n",
              "      <td>0.0</td>\n",
              "      <td>...</td>\n",
              "      <td>1040873.0</td>\n",
              "      <td>314624</td>\n",
              "      <td>0</td>\n",
              "      <td>0</td>\n",
              "      <td>0</td>\n",
              "      <td>0</td>\n",
              "      <td>0</td>\n",
              "      <td>2017-02-24 20:28:56</td>\n",
              "      <td>1</td>\n",
              "      <td>Sophistry Dermot Sophistry u r better</td>\n",
              "    </tr>\n",
              "    <tr>\n",
              "      <th>3</th>\n",
              "      <td>6265824</td>\n",
              "      <td>0.4</td>\n",
              "      <td>\"Meanwhile, the real America and Catholics lov...</td>\n",
              "      <td>0.0</td>\n",
              "      <td>0.0</td>\n",
              "      <td>0.0</td>\n",
              "      <td>0.0</td>\n",
              "      <td>0.0</td>\n",
              "      <td>0.6</td>\n",
              "      <td>0.0</td>\n",
              "      <td>...</td>\n",
              "      <td>6265203.0</td>\n",
              "      <td>395749</td>\n",
              "      <td>0</td>\n",
              "      <td>0</td>\n",
              "      <td>0</td>\n",
              "      <td>0</td>\n",
              "      <td>0</td>\n",
              "      <td>2017-11-01 15:18:11</td>\n",
              "      <td>1</td>\n",
              "      <td>`` Meanwhile real America Catholics love presi...</td>\n",
              "    </tr>\n",
              "    <tr>\n",
              "      <th>4</th>\n",
              "      <td>578380</td>\n",
              "      <td>0.0</td>\n",
              "      <td>just for a second, imagine Alaska without the ...</td>\n",
              "      <td>0.0</td>\n",
              "      <td>0.0</td>\n",
              "      <td>0.0</td>\n",
              "      <td>0.0</td>\n",
              "      <td>0.0</td>\n",
              "      <td>0.0</td>\n",
              "      <td>0.0</td>\n",
              "      <td>...</td>\n",
              "      <td>0.0</td>\n",
              "      <td>150454</td>\n",
              "      <td>0</td>\n",
              "      <td>0</td>\n",
              "      <td>0</td>\n",
              "      <td>0</td>\n",
              "      <td>0</td>\n",
              "      <td>2016-11-05 17:21:41</td>\n",
              "      <td>1</td>\n",
              "      <td>second imagine Alaska without eskimoes problem...</td>\n",
              "    </tr>\n",
              "  </tbody>\n",
              "</table>\n",
              "<p>5 rows × 38 columns</p>\n",
              "</div>\n",
              "      <button class=\"colab-df-convert\" onclick=\"convertToInteractive('df-253bd2c4-fede-4ee1-b696-e5626b1b2263')\"\n",
              "              title=\"Convert this dataframe to an interactive table.\"\n",
              "              style=\"display:none;\">\n",
              "        \n",
              "  <svg xmlns=\"http://www.w3.org/2000/svg\" height=\"24px\"viewBox=\"0 0 24 24\"\n",
              "       width=\"24px\">\n",
              "    <path d=\"M0 0h24v24H0V0z\" fill=\"none\"/>\n",
              "    <path d=\"M18.56 5.44l.94 2.06.94-2.06 2.06-.94-2.06-.94-.94-2.06-.94 2.06-2.06.94zm-11 1L8.5 8.5l.94-2.06 2.06-.94-2.06-.94L8.5 2.5l-.94 2.06-2.06.94zm10 10l.94 2.06.94-2.06 2.06-.94-2.06-.94-.94-2.06-.94 2.06-2.06.94z\"/><path d=\"M17.41 7.96l-1.37-1.37c-.4-.4-.92-.59-1.43-.59-.52 0-1.04.2-1.43.59L10.3 9.45l-7.72 7.72c-.78.78-.78 2.05 0 2.83L4 21.41c.39.39.9.59 1.41.59.51 0 1.02-.2 1.41-.59l7.78-7.78 2.81-2.81c.8-.78.8-2.07 0-2.86zM5.41 20L4 18.59l7.72-7.72 1.47 1.35L5.41 20z\"/>\n",
              "  </svg>\n",
              "      </button>\n",
              "      \n",
              "  <style>\n",
              "    .colab-df-container {\n",
              "      display:flex;\n",
              "      flex-wrap:wrap;\n",
              "      gap: 12px;\n",
              "    }\n",
              "\n",
              "    .colab-df-convert {\n",
              "      background-color: #E8F0FE;\n",
              "      border: none;\n",
              "      border-radius: 50%;\n",
              "      cursor: pointer;\n",
              "      display: none;\n",
              "      fill: #1967D2;\n",
              "      height: 32px;\n",
              "      padding: 0 0 0 0;\n",
              "      width: 32px;\n",
              "    }\n",
              "\n",
              "    .colab-df-convert:hover {\n",
              "      background-color: #E2EBFA;\n",
              "      box-shadow: 0px 1px 2px rgba(60, 64, 67, 0.3), 0px 1px 3px 1px rgba(60, 64, 67, 0.15);\n",
              "      fill: #174EA6;\n",
              "    }\n",
              "\n",
              "    [theme=dark] .colab-df-convert {\n",
              "      background-color: #3B4455;\n",
              "      fill: #D2E3FC;\n",
              "    }\n",
              "\n",
              "    [theme=dark] .colab-df-convert:hover {\n",
              "      background-color: #434B5C;\n",
              "      box-shadow: 0px 1px 3px 1px rgba(0, 0, 0, 0.15);\n",
              "      filter: drop-shadow(0px 1px 2px rgba(0, 0, 0, 0.3));\n",
              "      fill: #FFFFFF;\n",
              "    }\n",
              "  </style>\n",
              "\n",
              "      <script>\n",
              "        const buttonEl =\n",
              "          document.querySelector('#df-253bd2c4-fede-4ee1-b696-e5626b1b2263 button.colab-df-convert');\n",
              "        buttonEl.style.display =\n",
              "          google.colab.kernel.accessAllowed ? 'block' : 'none';\n",
              "\n",
              "        async function convertToInteractive(key) {\n",
              "          const element = document.querySelector('#df-253bd2c4-fede-4ee1-b696-e5626b1b2263');\n",
              "          const dataTable =\n",
              "            await google.colab.kernel.invokeFunction('convertToInteractive',\n",
              "                                                     [key], {});\n",
              "          if (!dataTable) return;\n",
              "\n",
              "          const docLinkHtml = 'Like what you see? Visit the ' +\n",
              "            '<a target=\"_blank\" href=https://colab.research.google.com/notebooks/data_table.ipynb>data table notebook</a>'\n",
              "            + ' to learn more about interactive tables.';\n",
              "          element.innerHTML = '';\n",
              "          dataTable['output_type'] = 'display_data';\n",
              "          await google.colab.output.renderOutput(dataTable, element);\n",
              "          const docLink = document.createElement('div');\n",
              "          docLink.innerHTML = docLinkHtml;\n",
              "          element.appendChild(docLink);\n",
              "        }\n",
              "      </script>\n",
              "    </div>\n",
              "  </div>\n",
              "  "
            ]
          },
          "metadata": {},
          "execution_count": 52
        }
      ],
      "source": [
        "balanced_df.head()"
      ]
    },
    {
      "cell_type": "code",
      "source": [
        "balanced_df.columns"
      ],
      "metadata": {
        "id": "zGkRPgfc_Vn9",
        "colab": {
          "base_uri": "https://localhost:8080/"
        },
        "outputId": "4b405a38-2a70-4ce4-8bcc-f38c7bf697fd"
      },
      "execution_count": null,
      "outputs": [
        {
          "output_type": "execute_result",
          "data": {
            "text/plain": [
              "Index(['id', 'target', 'comment_text', 'asian', 'atheist', 'bisexual', 'black',\n",
              "       'buddhist', 'christian', 'female', 'heterosexual', 'hindu',\n",
              "       'homosexual_gay_or_lesbian', 'intellectual_or_learning_disability',\n",
              "       'jewish', 'latino', 'male', 'muslim', 'other_disability',\n",
              "       'other_gender', 'other_race_or_ethnicity', 'other_religion',\n",
              "       'other_sexual_orientation', 'physical_disability',\n",
              "       'psychiatric_or_mental_illness', 'transgender', 'white',\n",
              "       'publication_id', 'parent_id', 'article_id', 'funny', 'wow', 'sad',\n",
              "       'likes', 'disagree', 'short created_date', 'rating_encode',\n",
              "       'comments_changed'],\n",
              "      dtype='object')"
            ]
          },
          "metadata": {},
          "execution_count": 53
        }
      ]
    },
    {
      "cell_type": "code",
      "execution_count": null,
      "metadata": {
        "id": "9549lrLjehzg",
        "colab": {
          "base_uri": "https://localhost:8080/",
          "height": 1000
        },
        "outputId": "2c47a662-e258-4453-eb16-fa13c1605b78"
      },
      "outputs": [
        {
          "output_type": "execute_result",
          "data": {
            "text/plain": [
              "             id  target                                       comment_text  \\\n",
              "0        585691     0.3              Wait'll Trump grabs you by the p___y.   \n",
              "1        366690     0.4  The law in Oregon makes it a lot easier. If th...   \n",
              "2       1041257     0.0  Sophistry Dermot Sophistry; u r better than that.   \n",
              "3       6265824     0.4  \"Meanwhile, the real America and Catholics lov...   \n",
              "4        578380     0.0  just for a second, imagine Alaska without the ...   \n",
              "...         ...     ...                                                ...   \n",
              "240227   309235     0.0  I see the typical Government \"Do Gooders\" -- a...   \n",
              "240228   250737     0.0  The sign carried by Bundy's wife says that the...   \n",
              "240229   758109     0.5  Mr. Dawson, you are truly deplorable and have ...   \n",
              "240230   385758     0.0  They are taught by people who were taught by p...   \n",
              "240231   346976     0.0  Whether Trump can be \"controlled\" or reasoned ...   \n",
              "\n",
              "        asian  atheist  bisexual  black  buddhist  christian  female  ...  \\\n",
              "0         0.0      0.0       0.0    0.0       0.0        0.0     0.0  ...   \n",
              "1         0.0      0.0       0.0    0.0       0.0        0.0     0.0  ...   \n",
              "2         0.0      0.0       0.0    0.0       0.0        0.0     0.0  ...   \n",
              "3         0.0      0.0       0.0    0.0       0.0        0.6     0.0  ...   \n",
              "4         0.0      0.0       0.0    0.0       0.0        0.0     0.0  ...   \n",
              "...       ...      ...       ...    ...       ...        ...     ...  ...   \n",
              "240227    0.0      0.0       0.0    0.0       0.0        0.0     0.0  ...   \n",
              "240228    0.0      0.0       0.0    0.0       0.0        0.0     0.0  ...   \n",
              "240229    0.0      0.0       0.0    0.0       0.0        0.0     0.0  ...   \n",
              "240230    0.0      0.0       0.0    0.0       0.0        0.0     0.0  ...   \n",
              "240231    0.0      0.0       0.0    0.0       0.0        0.0     0.0  ...   \n",
              "\n",
              "        parent_id  article_id  funny  wow  sad  likes  disagree  \\\n",
              "0        585645.0      151042      0    0    0      0         0   \n",
              "1        366242.0      140043      0    0    0      0         0   \n",
              "2       1040873.0      314624      0    0    0      0         0   \n",
              "3       6265203.0      395749      0    0    0      0         0   \n",
              "4             0.0      150454      0    0    0      0         0   \n",
              "...           ...         ...    ...  ...  ...    ...       ...   \n",
              "240227        0.0       98775      0    0    0      1         0   \n",
              "240228        0.0       46566      0    0    0      3         0   \n",
              "240229        0.0      158537      0    0    0      0         0   \n",
              "240230   385752.0      141279      0    0    0      8         0   \n",
              "240231   343846.0      138394      0    0    0      0         0   \n",
              "\n",
              "        short created_date  rating_encode  \\\n",
              "0      2016-11-09 07:06:59              1   \n",
              "1      2016-06-27 20:42:10              0   \n",
              "2      2017-02-24 20:28:56              1   \n",
              "3      2017-11-01 15:18:11              1   \n",
              "4      2016-11-05 17:21:41              1   \n",
              "...                    ...            ...   \n",
              "240227 2016-05-10 00:26:36              0   \n",
              "240228 2016-03-11 22:24:50              0   \n",
              "240229 2016-12-27 03:11:22              1   \n",
              "240230 2016-07-13 06:17:18              0   \n",
              "240231 2016-06-12 00:44:49              0   \n",
              "\n",
              "                                         comments_changed  \n",
              "0                               Wait 'll Trump grab p___y  \n",
              "1       law Oregon make lot easier house shoot dead qu...  \n",
              "2                   Sophistry Dermot Sophistry u r better  \n",
              "3       `` Meanwhile real America Catholics love presi...  \n",
              "4       second imagine Alaska without eskimoes problem...  \n",
              "...                                                   ...  \n",
              "240227  see typical Government `` Gooders `` -- foamin...  \n",
              "240228  sign carried Bundy 's wife say land belongs ``...  \n",
              "240229  Mr. Dawson truly deplorable concept history Re...  \n",
              "240230  taught people taught people etc lot time n't e...  \n",
              "240231  Whether Trump `` controlled `` reasoned immate...  \n",
              "\n",
              "[240232 rows x 38 columns]"
            ],
            "text/html": [
              "\n",
              "  <div id=\"df-84a0d678-81a8-4202-bfd0-e270aed887f6\">\n",
              "    <div class=\"colab-df-container\">\n",
              "      <div>\n",
              "<style scoped>\n",
              "    .dataframe tbody tr th:only-of-type {\n",
              "        vertical-align: middle;\n",
              "    }\n",
              "\n",
              "    .dataframe tbody tr th {\n",
              "        vertical-align: top;\n",
              "    }\n",
              "\n",
              "    .dataframe thead th {\n",
              "        text-align: right;\n",
              "    }\n",
              "</style>\n",
              "<table border=\"1\" class=\"dataframe\">\n",
              "  <thead>\n",
              "    <tr style=\"text-align: right;\">\n",
              "      <th></th>\n",
              "      <th>id</th>\n",
              "      <th>target</th>\n",
              "      <th>comment_text</th>\n",
              "      <th>asian</th>\n",
              "      <th>atheist</th>\n",
              "      <th>bisexual</th>\n",
              "      <th>black</th>\n",
              "      <th>buddhist</th>\n",
              "      <th>christian</th>\n",
              "      <th>female</th>\n",
              "      <th>...</th>\n",
              "      <th>parent_id</th>\n",
              "      <th>article_id</th>\n",
              "      <th>funny</th>\n",
              "      <th>wow</th>\n",
              "      <th>sad</th>\n",
              "      <th>likes</th>\n",
              "      <th>disagree</th>\n",
              "      <th>short created_date</th>\n",
              "      <th>rating_encode</th>\n",
              "      <th>comments_changed</th>\n",
              "    </tr>\n",
              "  </thead>\n",
              "  <tbody>\n",
              "    <tr>\n",
              "      <th>0</th>\n",
              "      <td>585691</td>\n",
              "      <td>0.3</td>\n",
              "      <td>Wait'll Trump grabs you by the p___y.</td>\n",
              "      <td>0.0</td>\n",
              "      <td>0.0</td>\n",
              "      <td>0.0</td>\n",
              "      <td>0.0</td>\n",
              "      <td>0.0</td>\n",
              "      <td>0.0</td>\n",
              "      <td>0.0</td>\n",
              "      <td>...</td>\n",
              "      <td>585645.0</td>\n",
              "      <td>151042</td>\n",
              "      <td>0</td>\n",
              "      <td>0</td>\n",
              "      <td>0</td>\n",
              "      <td>0</td>\n",
              "      <td>0</td>\n",
              "      <td>2016-11-09 07:06:59</td>\n",
              "      <td>1</td>\n",
              "      <td>Wait 'll Trump grab p___y</td>\n",
              "    </tr>\n",
              "    <tr>\n",
              "      <th>1</th>\n",
              "      <td>366690</td>\n",
              "      <td>0.4</td>\n",
              "      <td>The law in Oregon makes it a lot easier. If th...</td>\n",
              "      <td>0.0</td>\n",
              "      <td>0.0</td>\n",
              "      <td>0.0</td>\n",
              "      <td>0.0</td>\n",
              "      <td>0.0</td>\n",
              "      <td>0.0</td>\n",
              "      <td>0.0</td>\n",
              "      <td>...</td>\n",
              "      <td>366242.0</td>\n",
              "      <td>140043</td>\n",
              "      <td>0</td>\n",
              "      <td>0</td>\n",
              "      <td>0</td>\n",
              "      <td>0</td>\n",
              "      <td>0</td>\n",
              "      <td>2016-06-27 20:42:10</td>\n",
              "      <td>0</td>\n",
              "      <td>law Oregon make lot easier house shoot dead qu...</td>\n",
              "    </tr>\n",
              "    <tr>\n",
              "      <th>2</th>\n",
              "      <td>1041257</td>\n",
              "      <td>0.0</td>\n",
              "      <td>Sophistry Dermot Sophistry; u r better than that.</td>\n",
              "      <td>0.0</td>\n",
              "      <td>0.0</td>\n",
              "      <td>0.0</td>\n",
              "      <td>0.0</td>\n",
              "      <td>0.0</td>\n",
              "      <td>0.0</td>\n",
              "      <td>0.0</td>\n",
              "      <td>...</td>\n",
              "      <td>1040873.0</td>\n",
              "      <td>314624</td>\n",
              "      <td>0</td>\n",
              "      <td>0</td>\n",
              "      <td>0</td>\n",
              "      <td>0</td>\n",
              "      <td>0</td>\n",
              "      <td>2017-02-24 20:28:56</td>\n",
              "      <td>1</td>\n",
              "      <td>Sophistry Dermot Sophistry u r better</td>\n",
              "    </tr>\n",
              "    <tr>\n",
              "      <th>3</th>\n",
              "      <td>6265824</td>\n",
              "      <td>0.4</td>\n",
              "      <td>\"Meanwhile, the real America and Catholics lov...</td>\n",
              "      <td>0.0</td>\n",
              "      <td>0.0</td>\n",
              "      <td>0.0</td>\n",
              "      <td>0.0</td>\n",
              "      <td>0.0</td>\n",
              "      <td>0.6</td>\n",
              "      <td>0.0</td>\n",
              "      <td>...</td>\n",
              "      <td>6265203.0</td>\n",
              "      <td>395749</td>\n",
              "      <td>0</td>\n",
              "      <td>0</td>\n",
              "      <td>0</td>\n",
              "      <td>0</td>\n",
              "      <td>0</td>\n",
              "      <td>2017-11-01 15:18:11</td>\n",
              "      <td>1</td>\n",
              "      <td>`` Meanwhile real America Catholics love presi...</td>\n",
              "    </tr>\n",
              "    <tr>\n",
              "      <th>4</th>\n",
              "      <td>578380</td>\n",
              "      <td>0.0</td>\n",
              "      <td>just for a second, imagine Alaska without the ...</td>\n",
              "      <td>0.0</td>\n",
              "      <td>0.0</td>\n",
              "      <td>0.0</td>\n",
              "      <td>0.0</td>\n",
              "      <td>0.0</td>\n",
              "      <td>0.0</td>\n",
              "      <td>0.0</td>\n",
              "      <td>...</td>\n",
              "      <td>0.0</td>\n",
              "      <td>150454</td>\n",
              "      <td>0</td>\n",
              "      <td>0</td>\n",
              "      <td>0</td>\n",
              "      <td>0</td>\n",
              "      <td>0</td>\n",
              "      <td>2016-11-05 17:21:41</td>\n",
              "      <td>1</td>\n",
              "      <td>second imagine Alaska without eskimoes problem...</td>\n",
              "    </tr>\n",
              "    <tr>\n",
              "      <th>...</th>\n",
              "      <td>...</td>\n",
              "      <td>...</td>\n",
              "      <td>...</td>\n",
              "      <td>...</td>\n",
              "      <td>...</td>\n",
              "      <td>...</td>\n",
              "      <td>...</td>\n",
              "      <td>...</td>\n",
              "      <td>...</td>\n",
              "      <td>...</td>\n",
              "      <td>...</td>\n",
              "      <td>...</td>\n",
              "      <td>...</td>\n",
              "      <td>...</td>\n",
              "      <td>...</td>\n",
              "      <td>...</td>\n",
              "      <td>...</td>\n",
              "      <td>...</td>\n",
              "      <td>...</td>\n",
              "      <td>...</td>\n",
              "      <td>...</td>\n",
              "    </tr>\n",
              "    <tr>\n",
              "      <th>240227</th>\n",
              "      <td>309235</td>\n",
              "      <td>0.0</td>\n",
              "      <td>I see the typical Government \"Do Gooders\" -- a...</td>\n",
              "      <td>0.0</td>\n",
              "      <td>0.0</td>\n",
              "      <td>0.0</td>\n",
              "      <td>0.0</td>\n",
              "      <td>0.0</td>\n",
              "      <td>0.0</td>\n",
              "      <td>0.0</td>\n",
              "      <td>...</td>\n",
              "      <td>0.0</td>\n",
              "      <td>98775</td>\n",
              "      <td>0</td>\n",
              "      <td>0</td>\n",
              "      <td>0</td>\n",
              "      <td>1</td>\n",
              "      <td>0</td>\n",
              "      <td>2016-05-10 00:26:36</td>\n",
              "      <td>0</td>\n",
              "      <td>see typical Government `` Gooders `` -- foamin...</td>\n",
              "    </tr>\n",
              "    <tr>\n",
              "      <th>240228</th>\n",
              "      <td>250737</td>\n",
              "      <td>0.0</td>\n",
              "      <td>The sign carried by Bundy's wife says that the...</td>\n",
              "      <td>0.0</td>\n",
              "      <td>0.0</td>\n",
              "      <td>0.0</td>\n",
              "      <td>0.0</td>\n",
              "      <td>0.0</td>\n",
              "      <td>0.0</td>\n",
              "      <td>0.0</td>\n",
              "      <td>...</td>\n",
              "      <td>0.0</td>\n",
              "      <td>46566</td>\n",
              "      <td>0</td>\n",
              "      <td>0</td>\n",
              "      <td>0</td>\n",
              "      <td>3</td>\n",
              "      <td>0</td>\n",
              "      <td>2016-03-11 22:24:50</td>\n",
              "      <td>0</td>\n",
              "      <td>sign carried Bundy 's wife say land belongs ``...</td>\n",
              "    </tr>\n",
              "    <tr>\n",
              "      <th>240229</th>\n",
              "      <td>758109</td>\n",
              "      <td>0.5</td>\n",
              "      <td>Mr. Dawson, you are truly deplorable and have ...</td>\n",
              "      <td>0.0</td>\n",
              "      <td>0.0</td>\n",
              "      <td>0.0</td>\n",
              "      <td>0.0</td>\n",
              "      <td>0.0</td>\n",
              "      <td>0.0</td>\n",
              "      <td>0.0</td>\n",
              "      <td>...</td>\n",
              "      <td>0.0</td>\n",
              "      <td>158537</td>\n",
              "      <td>0</td>\n",
              "      <td>0</td>\n",
              "      <td>0</td>\n",
              "      <td>0</td>\n",
              "      <td>0</td>\n",
              "      <td>2016-12-27 03:11:22</td>\n",
              "      <td>1</td>\n",
              "      <td>Mr. Dawson truly deplorable concept history Re...</td>\n",
              "    </tr>\n",
              "    <tr>\n",
              "      <th>240230</th>\n",
              "      <td>385758</td>\n",
              "      <td>0.0</td>\n",
              "      <td>They are taught by people who were taught by p...</td>\n",
              "      <td>0.0</td>\n",
              "      <td>0.0</td>\n",
              "      <td>0.0</td>\n",
              "      <td>0.0</td>\n",
              "      <td>0.0</td>\n",
              "      <td>0.0</td>\n",
              "      <td>0.0</td>\n",
              "      <td>...</td>\n",
              "      <td>385752.0</td>\n",
              "      <td>141279</td>\n",
              "      <td>0</td>\n",
              "      <td>0</td>\n",
              "      <td>0</td>\n",
              "      <td>8</td>\n",
              "      <td>0</td>\n",
              "      <td>2016-07-13 06:17:18</td>\n",
              "      <td>0</td>\n",
              "      <td>taught people taught people etc lot time n't e...</td>\n",
              "    </tr>\n",
              "    <tr>\n",
              "      <th>240231</th>\n",
              "      <td>346976</td>\n",
              "      <td>0.0</td>\n",
              "      <td>Whether Trump can be \"controlled\" or reasoned ...</td>\n",
              "      <td>0.0</td>\n",
              "      <td>0.0</td>\n",
              "      <td>0.0</td>\n",
              "      <td>0.0</td>\n",
              "      <td>0.0</td>\n",
              "      <td>0.0</td>\n",
              "      <td>0.0</td>\n",
              "      <td>...</td>\n",
              "      <td>343846.0</td>\n",
              "      <td>138394</td>\n",
              "      <td>0</td>\n",
              "      <td>0</td>\n",
              "      <td>0</td>\n",
              "      <td>0</td>\n",
              "      <td>0</td>\n",
              "      <td>2016-06-12 00:44:49</td>\n",
              "      <td>0</td>\n",
              "      <td>Whether Trump `` controlled `` reasoned immate...</td>\n",
              "    </tr>\n",
              "  </tbody>\n",
              "</table>\n",
              "<p>240232 rows × 38 columns</p>\n",
              "</div>\n",
              "      <button class=\"colab-df-convert\" onclick=\"convertToInteractive('df-84a0d678-81a8-4202-bfd0-e270aed887f6')\"\n",
              "              title=\"Convert this dataframe to an interactive table.\"\n",
              "              style=\"display:none;\">\n",
              "        \n",
              "  <svg xmlns=\"http://www.w3.org/2000/svg\" height=\"24px\"viewBox=\"0 0 24 24\"\n",
              "       width=\"24px\">\n",
              "    <path d=\"M0 0h24v24H0V0z\" fill=\"none\"/>\n",
              "    <path d=\"M18.56 5.44l.94 2.06.94-2.06 2.06-.94-2.06-.94-.94-2.06-.94 2.06-2.06.94zm-11 1L8.5 8.5l.94-2.06 2.06-.94-2.06-.94L8.5 2.5l-.94 2.06-2.06.94zm10 10l.94 2.06.94-2.06 2.06-.94-2.06-.94-.94-2.06-.94 2.06-2.06.94z\"/><path d=\"M17.41 7.96l-1.37-1.37c-.4-.4-.92-.59-1.43-.59-.52 0-1.04.2-1.43.59L10.3 9.45l-7.72 7.72c-.78.78-.78 2.05 0 2.83L4 21.41c.39.39.9.59 1.41.59.51 0 1.02-.2 1.41-.59l7.78-7.78 2.81-2.81c.8-.78.8-2.07 0-2.86zM5.41 20L4 18.59l7.72-7.72 1.47 1.35L5.41 20z\"/>\n",
              "  </svg>\n",
              "      </button>\n",
              "      \n",
              "  <style>\n",
              "    .colab-df-container {\n",
              "      display:flex;\n",
              "      flex-wrap:wrap;\n",
              "      gap: 12px;\n",
              "    }\n",
              "\n",
              "    .colab-df-convert {\n",
              "      background-color: #E8F0FE;\n",
              "      border: none;\n",
              "      border-radius: 50%;\n",
              "      cursor: pointer;\n",
              "      display: none;\n",
              "      fill: #1967D2;\n",
              "      height: 32px;\n",
              "      padding: 0 0 0 0;\n",
              "      width: 32px;\n",
              "    }\n",
              "\n",
              "    .colab-df-convert:hover {\n",
              "      background-color: #E2EBFA;\n",
              "      box-shadow: 0px 1px 2px rgba(60, 64, 67, 0.3), 0px 1px 3px 1px rgba(60, 64, 67, 0.15);\n",
              "      fill: #174EA6;\n",
              "    }\n",
              "\n",
              "    [theme=dark] .colab-df-convert {\n",
              "      background-color: #3B4455;\n",
              "      fill: #D2E3FC;\n",
              "    }\n",
              "\n",
              "    [theme=dark] .colab-df-convert:hover {\n",
              "      background-color: #434B5C;\n",
              "      box-shadow: 0px 1px 3px 1px rgba(0, 0, 0, 0.15);\n",
              "      filter: drop-shadow(0px 1px 2px rgba(0, 0, 0, 0.3));\n",
              "      fill: #FFFFFF;\n",
              "    }\n",
              "  </style>\n",
              "\n",
              "      <script>\n",
              "        const buttonEl =\n",
              "          document.querySelector('#df-84a0d678-81a8-4202-bfd0-e270aed887f6 button.colab-df-convert');\n",
              "        buttonEl.style.display =\n",
              "          google.colab.kernel.accessAllowed ? 'block' : 'none';\n",
              "\n",
              "        async function convertToInteractive(key) {\n",
              "          const element = document.querySelector('#df-84a0d678-81a8-4202-bfd0-e270aed887f6');\n",
              "          const dataTable =\n",
              "            await google.colab.kernel.invokeFunction('convertToInteractive',\n",
              "                                                     [key], {});\n",
              "          if (!dataTable) return;\n",
              "\n",
              "          const docLinkHtml = 'Like what you see? Visit the ' +\n",
              "            '<a target=\"_blank\" href=https://colab.research.google.com/notebooks/data_table.ipynb>data table notebook</a>'\n",
              "            + ' to learn more about interactive tables.';\n",
              "          element.innerHTML = '';\n",
              "          dataTable['output_type'] = 'display_data';\n",
              "          await google.colab.output.renderOutput(dataTable, element);\n",
              "          const docLink = document.createElement('div');\n",
              "          docLink.innerHTML = docLinkHtml;\n",
              "          element.appendChild(docLink);\n",
              "        }\n",
              "      </script>\n",
              "    </div>\n",
              "  </div>\n",
              "  "
            ]
          },
          "metadata": {},
          "execution_count": 54
        }
      ],
      "source": [
        "balanced_df"
      ]
    },
    {
      "cell_type": "markdown",
      "source": [
        "## Tworzenie tabeli z danymi, na podstawie których chcemy docelowo uczyć model "
      ],
      "metadata": {
        "id": "heK7MymWS_Gy"
      }
    },
    {
      "cell_type": "code",
      "source": [
        "X_balanced_df=balanced_df.drop(columns=['id'])"
      ],
      "metadata": {
        "id": "2_6uEtp-S-Hb"
      },
      "execution_count": null,
      "outputs": []
    },
    {
      "cell_type": "code",
      "source": [
        "X_balanced_df=balanced_df.drop(columns=['comment_text'])"
      ],
      "metadata": {
        "id": "tJYuCTH6YxW3"
      },
      "execution_count": null,
      "outputs": []
    },
    {
      "cell_type": "code",
      "source": [
        "X_balanced_df.reset_index(inplace=True)"
      ],
      "metadata": {
        "id": "gIS5V8XmYg7n"
      },
      "execution_count": null,
      "outputs": []
    },
    {
      "cell_type": "code",
      "source": [
        "X_balanced_df"
      ],
      "metadata": {
        "id": "ITFgZSfiXRZK",
        "colab": {
          "base_uri": "https://localhost:8080/",
          "height": 745
        },
        "outputId": "5f068b5c-92d9-468b-b23e-20550a448684"
      },
      "execution_count": null,
      "outputs": [
        {
          "output_type": "execute_result",
          "data": {
            "text/plain": [
              "         index       id  target  asian  atheist  bisexual  black  buddhist  \\\n",
              "0            0   585691     0.3    0.0      0.0       0.0    0.0       0.0   \n",
              "1            1   366690     0.4    0.0      0.0       0.0    0.0       0.0   \n",
              "2            2  1041257     0.0    0.0      0.0       0.0    0.0       0.0   \n",
              "3            3  6265824     0.4    0.0      0.0       0.0    0.0       0.0   \n",
              "4            4   578380     0.0    0.0      0.0       0.0    0.0       0.0   \n",
              "...        ...      ...     ...    ...      ...       ...    ...       ...   \n",
              "240227  240227   309235     0.0    0.0      0.0       0.0    0.0       0.0   \n",
              "240228  240228   250737     0.0    0.0      0.0       0.0    0.0       0.0   \n",
              "240229  240229   758109     0.5    0.0      0.0       0.0    0.0       0.0   \n",
              "240230  240230   385758     0.0    0.0      0.0       0.0    0.0       0.0   \n",
              "240231  240231   346976     0.0    0.0      0.0       0.0    0.0       0.0   \n",
              "\n",
              "        christian  female  ...  parent_id  article_id  funny  wow  sad  likes  \\\n",
              "0             0.0     0.0  ...   585645.0      151042      0    0    0      0   \n",
              "1             0.0     0.0  ...   366242.0      140043      0    0    0      0   \n",
              "2             0.0     0.0  ...  1040873.0      314624      0    0    0      0   \n",
              "3             0.6     0.0  ...  6265203.0      395749      0    0    0      0   \n",
              "4             0.0     0.0  ...        0.0      150454      0    0    0      0   \n",
              "...           ...     ...  ...        ...         ...    ...  ...  ...    ...   \n",
              "240227        0.0     0.0  ...        0.0       98775      0    0    0      1   \n",
              "240228        0.0     0.0  ...        0.0       46566      0    0    0      3   \n",
              "240229        0.0     0.0  ...        0.0      158537      0    0    0      0   \n",
              "240230        0.0     0.0  ...   385752.0      141279      0    0    0      8   \n",
              "240231        0.0     0.0  ...   343846.0      138394      0    0    0      0   \n",
              "\n",
              "        disagree  short created_date  rating_encode  \\\n",
              "0              0 2016-11-09 07:06:59              1   \n",
              "1              0 2016-06-27 20:42:10              0   \n",
              "2              0 2017-02-24 20:28:56              1   \n",
              "3              0 2017-11-01 15:18:11              1   \n",
              "4              0 2016-11-05 17:21:41              1   \n",
              "...          ...                 ...            ...   \n",
              "240227         0 2016-05-10 00:26:36              0   \n",
              "240228         0 2016-03-11 22:24:50              0   \n",
              "240229         0 2016-12-27 03:11:22              1   \n",
              "240230         0 2016-07-13 06:17:18              0   \n",
              "240231         0 2016-06-12 00:44:49              0   \n",
              "\n",
              "                                         comments_changed  \n",
              "0                               Wait 'll Trump grab p___y  \n",
              "1       law Oregon make lot easier house shoot dead qu...  \n",
              "2                   Sophistry Dermot Sophistry u r better  \n",
              "3       `` Meanwhile real America Catholics love presi...  \n",
              "4       second imagine Alaska without eskimoes problem...  \n",
              "...                                                   ...  \n",
              "240227  see typical Government `` Gooders `` -- foamin...  \n",
              "240228  sign carried Bundy 's wife say land belongs ``...  \n",
              "240229  Mr. Dawson truly deplorable concept history Re...  \n",
              "240230  taught people taught people etc lot time n't e...  \n",
              "240231  Whether Trump `` controlled `` reasoned immate...  \n",
              "\n",
              "[240232 rows x 38 columns]"
            ],
            "text/html": [
              "\n",
              "  <div id=\"df-d70e7779-6641-4211-bdd2-ea39b8aa84b1\">\n",
              "    <div class=\"colab-df-container\">\n",
              "      <div>\n",
              "<style scoped>\n",
              "    .dataframe tbody tr th:only-of-type {\n",
              "        vertical-align: middle;\n",
              "    }\n",
              "\n",
              "    .dataframe tbody tr th {\n",
              "        vertical-align: top;\n",
              "    }\n",
              "\n",
              "    .dataframe thead th {\n",
              "        text-align: right;\n",
              "    }\n",
              "</style>\n",
              "<table border=\"1\" class=\"dataframe\">\n",
              "  <thead>\n",
              "    <tr style=\"text-align: right;\">\n",
              "      <th></th>\n",
              "      <th>index</th>\n",
              "      <th>id</th>\n",
              "      <th>target</th>\n",
              "      <th>asian</th>\n",
              "      <th>atheist</th>\n",
              "      <th>bisexual</th>\n",
              "      <th>black</th>\n",
              "      <th>buddhist</th>\n",
              "      <th>christian</th>\n",
              "      <th>female</th>\n",
              "      <th>...</th>\n",
              "      <th>parent_id</th>\n",
              "      <th>article_id</th>\n",
              "      <th>funny</th>\n",
              "      <th>wow</th>\n",
              "      <th>sad</th>\n",
              "      <th>likes</th>\n",
              "      <th>disagree</th>\n",
              "      <th>short created_date</th>\n",
              "      <th>rating_encode</th>\n",
              "      <th>comments_changed</th>\n",
              "    </tr>\n",
              "  </thead>\n",
              "  <tbody>\n",
              "    <tr>\n",
              "      <th>0</th>\n",
              "      <td>0</td>\n",
              "      <td>585691</td>\n",
              "      <td>0.3</td>\n",
              "      <td>0.0</td>\n",
              "      <td>0.0</td>\n",
              "      <td>0.0</td>\n",
              "      <td>0.0</td>\n",
              "      <td>0.0</td>\n",
              "      <td>0.0</td>\n",
              "      <td>0.0</td>\n",
              "      <td>...</td>\n",
              "      <td>585645.0</td>\n",
              "      <td>151042</td>\n",
              "      <td>0</td>\n",
              "      <td>0</td>\n",
              "      <td>0</td>\n",
              "      <td>0</td>\n",
              "      <td>0</td>\n",
              "      <td>2016-11-09 07:06:59</td>\n",
              "      <td>1</td>\n",
              "      <td>Wait 'll Trump grab p___y</td>\n",
              "    </tr>\n",
              "    <tr>\n",
              "      <th>1</th>\n",
              "      <td>1</td>\n",
              "      <td>366690</td>\n",
              "      <td>0.4</td>\n",
              "      <td>0.0</td>\n",
              "      <td>0.0</td>\n",
              "      <td>0.0</td>\n",
              "      <td>0.0</td>\n",
              "      <td>0.0</td>\n",
              "      <td>0.0</td>\n",
              "      <td>0.0</td>\n",
              "      <td>...</td>\n",
              "      <td>366242.0</td>\n",
              "      <td>140043</td>\n",
              "      <td>0</td>\n",
              "      <td>0</td>\n",
              "      <td>0</td>\n",
              "      <td>0</td>\n",
              "      <td>0</td>\n",
              "      <td>2016-06-27 20:42:10</td>\n",
              "      <td>0</td>\n",
              "      <td>law Oregon make lot easier house shoot dead qu...</td>\n",
              "    </tr>\n",
              "    <tr>\n",
              "      <th>2</th>\n",
              "      <td>2</td>\n",
              "      <td>1041257</td>\n",
              "      <td>0.0</td>\n",
              "      <td>0.0</td>\n",
              "      <td>0.0</td>\n",
              "      <td>0.0</td>\n",
              "      <td>0.0</td>\n",
              "      <td>0.0</td>\n",
              "      <td>0.0</td>\n",
              "      <td>0.0</td>\n",
              "      <td>...</td>\n",
              "      <td>1040873.0</td>\n",
              "      <td>314624</td>\n",
              "      <td>0</td>\n",
              "      <td>0</td>\n",
              "      <td>0</td>\n",
              "      <td>0</td>\n",
              "      <td>0</td>\n",
              "      <td>2017-02-24 20:28:56</td>\n",
              "      <td>1</td>\n",
              "      <td>Sophistry Dermot Sophistry u r better</td>\n",
              "    </tr>\n",
              "    <tr>\n",
              "      <th>3</th>\n",
              "      <td>3</td>\n",
              "      <td>6265824</td>\n",
              "      <td>0.4</td>\n",
              "      <td>0.0</td>\n",
              "      <td>0.0</td>\n",
              "      <td>0.0</td>\n",
              "      <td>0.0</td>\n",
              "      <td>0.0</td>\n",
              "      <td>0.6</td>\n",
              "      <td>0.0</td>\n",
              "      <td>...</td>\n",
              "      <td>6265203.0</td>\n",
              "      <td>395749</td>\n",
              "      <td>0</td>\n",
              "      <td>0</td>\n",
              "      <td>0</td>\n",
              "      <td>0</td>\n",
              "      <td>0</td>\n",
              "      <td>2017-11-01 15:18:11</td>\n",
              "      <td>1</td>\n",
              "      <td>`` Meanwhile real America Catholics love presi...</td>\n",
              "    </tr>\n",
              "    <tr>\n",
              "      <th>4</th>\n",
              "      <td>4</td>\n",
              "      <td>578380</td>\n",
              "      <td>0.0</td>\n",
              "      <td>0.0</td>\n",
              "      <td>0.0</td>\n",
              "      <td>0.0</td>\n",
              "      <td>0.0</td>\n",
              "      <td>0.0</td>\n",
              "      <td>0.0</td>\n",
              "      <td>0.0</td>\n",
              "      <td>...</td>\n",
              "      <td>0.0</td>\n",
              "      <td>150454</td>\n",
              "      <td>0</td>\n",
              "      <td>0</td>\n",
              "      <td>0</td>\n",
              "      <td>0</td>\n",
              "      <td>0</td>\n",
              "      <td>2016-11-05 17:21:41</td>\n",
              "      <td>1</td>\n",
              "      <td>second imagine Alaska without eskimoes problem...</td>\n",
              "    </tr>\n",
              "    <tr>\n",
              "      <th>...</th>\n",
              "      <td>...</td>\n",
              "      <td>...</td>\n",
              "      <td>...</td>\n",
              "      <td>...</td>\n",
              "      <td>...</td>\n",
              "      <td>...</td>\n",
              "      <td>...</td>\n",
              "      <td>...</td>\n",
              "      <td>...</td>\n",
              "      <td>...</td>\n",
              "      <td>...</td>\n",
              "      <td>...</td>\n",
              "      <td>...</td>\n",
              "      <td>...</td>\n",
              "      <td>...</td>\n",
              "      <td>...</td>\n",
              "      <td>...</td>\n",
              "      <td>...</td>\n",
              "      <td>...</td>\n",
              "      <td>...</td>\n",
              "      <td>...</td>\n",
              "    </tr>\n",
              "    <tr>\n",
              "      <th>240227</th>\n",
              "      <td>240227</td>\n",
              "      <td>309235</td>\n",
              "      <td>0.0</td>\n",
              "      <td>0.0</td>\n",
              "      <td>0.0</td>\n",
              "      <td>0.0</td>\n",
              "      <td>0.0</td>\n",
              "      <td>0.0</td>\n",
              "      <td>0.0</td>\n",
              "      <td>0.0</td>\n",
              "      <td>...</td>\n",
              "      <td>0.0</td>\n",
              "      <td>98775</td>\n",
              "      <td>0</td>\n",
              "      <td>0</td>\n",
              "      <td>0</td>\n",
              "      <td>1</td>\n",
              "      <td>0</td>\n",
              "      <td>2016-05-10 00:26:36</td>\n",
              "      <td>0</td>\n",
              "      <td>see typical Government `` Gooders `` -- foamin...</td>\n",
              "    </tr>\n",
              "    <tr>\n",
              "      <th>240228</th>\n",
              "      <td>240228</td>\n",
              "      <td>250737</td>\n",
              "      <td>0.0</td>\n",
              "      <td>0.0</td>\n",
              "      <td>0.0</td>\n",
              "      <td>0.0</td>\n",
              "      <td>0.0</td>\n",
              "      <td>0.0</td>\n",
              "      <td>0.0</td>\n",
              "      <td>0.0</td>\n",
              "      <td>...</td>\n",
              "      <td>0.0</td>\n",
              "      <td>46566</td>\n",
              "      <td>0</td>\n",
              "      <td>0</td>\n",
              "      <td>0</td>\n",
              "      <td>3</td>\n",
              "      <td>0</td>\n",
              "      <td>2016-03-11 22:24:50</td>\n",
              "      <td>0</td>\n",
              "      <td>sign carried Bundy 's wife say land belongs ``...</td>\n",
              "    </tr>\n",
              "    <tr>\n",
              "      <th>240229</th>\n",
              "      <td>240229</td>\n",
              "      <td>758109</td>\n",
              "      <td>0.5</td>\n",
              "      <td>0.0</td>\n",
              "      <td>0.0</td>\n",
              "      <td>0.0</td>\n",
              "      <td>0.0</td>\n",
              "      <td>0.0</td>\n",
              "      <td>0.0</td>\n",
              "      <td>0.0</td>\n",
              "      <td>...</td>\n",
              "      <td>0.0</td>\n",
              "      <td>158537</td>\n",
              "      <td>0</td>\n",
              "      <td>0</td>\n",
              "      <td>0</td>\n",
              "      <td>0</td>\n",
              "      <td>0</td>\n",
              "      <td>2016-12-27 03:11:22</td>\n",
              "      <td>1</td>\n",
              "      <td>Mr. Dawson truly deplorable concept history Re...</td>\n",
              "    </tr>\n",
              "    <tr>\n",
              "      <th>240230</th>\n",
              "      <td>240230</td>\n",
              "      <td>385758</td>\n",
              "      <td>0.0</td>\n",
              "      <td>0.0</td>\n",
              "      <td>0.0</td>\n",
              "      <td>0.0</td>\n",
              "      <td>0.0</td>\n",
              "      <td>0.0</td>\n",
              "      <td>0.0</td>\n",
              "      <td>0.0</td>\n",
              "      <td>...</td>\n",
              "      <td>385752.0</td>\n",
              "      <td>141279</td>\n",
              "      <td>0</td>\n",
              "      <td>0</td>\n",
              "      <td>0</td>\n",
              "      <td>8</td>\n",
              "      <td>0</td>\n",
              "      <td>2016-07-13 06:17:18</td>\n",
              "      <td>0</td>\n",
              "      <td>taught people taught people etc lot time n't e...</td>\n",
              "    </tr>\n",
              "    <tr>\n",
              "      <th>240231</th>\n",
              "      <td>240231</td>\n",
              "      <td>346976</td>\n",
              "      <td>0.0</td>\n",
              "      <td>0.0</td>\n",
              "      <td>0.0</td>\n",
              "      <td>0.0</td>\n",
              "      <td>0.0</td>\n",
              "      <td>0.0</td>\n",
              "      <td>0.0</td>\n",
              "      <td>0.0</td>\n",
              "      <td>...</td>\n",
              "      <td>343846.0</td>\n",
              "      <td>138394</td>\n",
              "      <td>0</td>\n",
              "      <td>0</td>\n",
              "      <td>0</td>\n",
              "      <td>0</td>\n",
              "      <td>0</td>\n",
              "      <td>2016-06-12 00:44:49</td>\n",
              "      <td>0</td>\n",
              "      <td>Whether Trump `` controlled `` reasoned immate...</td>\n",
              "    </tr>\n",
              "  </tbody>\n",
              "</table>\n",
              "<p>240232 rows × 38 columns</p>\n",
              "</div>\n",
              "      <button class=\"colab-df-convert\" onclick=\"convertToInteractive('df-d70e7779-6641-4211-bdd2-ea39b8aa84b1')\"\n",
              "              title=\"Convert this dataframe to an interactive table.\"\n",
              "              style=\"display:none;\">\n",
              "        \n",
              "  <svg xmlns=\"http://www.w3.org/2000/svg\" height=\"24px\"viewBox=\"0 0 24 24\"\n",
              "       width=\"24px\">\n",
              "    <path d=\"M0 0h24v24H0V0z\" fill=\"none\"/>\n",
              "    <path d=\"M18.56 5.44l.94 2.06.94-2.06 2.06-.94-2.06-.94-.94-2.06-.94 2.06-2.06.94zm-11 1L8.5 8.5l.94-2.06 2.06-.94-2.06-.94L8.5 2.5l-.94 2.06-2.06.94zm10 10l.94 2.06.94-2.06 2.06-.94-2.06-.94-.94-2.06-.94 2.06-2.06.94z\"/><path d=\"M17.41 7.96l-1.37-1.37c-.4-.4-.92-.59-1.43-.59-.52 0-1.04.2-1.43.59L10.3 9.45l-7.72 7.72c-.78.78-.78 2.05 0 2.83L4 21.41c.39.39.9.59 1.41.59.51 0 1.02-.2 1.41-.59l7.78-7.78 2.81-2.81c.8-.78.8-2.07 0-2.86zM5.41 20L4 18.59l7.72-7.72 1.47 1.35L5.41 20z\"/>\n",
              "  </svg>\n",
              "      </button>\n",
              "      \n",
              "  <style>\n",
              "    .colab-df-container {\n",
              "      display:flex;\n",
              "      flex-wrap:wrap;\n",
              "      gap: 12px;\n",
              "    }\n",
              "\n",
              "    .colab-df-convert {\n",
              "      background-color: #E8F0FE;\n",
              "      border: none;\n",
              "      border-radius: 50%;\n",
              "      cursor: pointer;\n",
              "      display: none;\n",
              "      fill: #1967D2;\n",
              "      height: 32px;\n",
              "      padding: 0 0 0 0;\n",
              "      width: 32px;\n",
              "    }\n",
              "\n",
              "    .colab-df-convert:hover {\n",
              "      background-color: #E2EBFA;\n",
              "      box-shadow: 0px 1px 2px rgba(60, 64, 67, 0.3), 0px 1px 3px 1px rgba(60, 64, 67, 0.15);\n",
              "      fill: #174EA6;\n",
              "    }\n",
              "\n",
              "    [theme=dark] .colab-df-convert {\n",
              "      background-color: #3B4455;\n",
              "      fill: #D2E3FC;\n",
              "    }\n",
              "\n",
              "    [theme=dark] .colab-df-convert:hover {\n",
              "      background-color: #434B5C;\n",
              "      box-shadow: 0px 1px 3px 1px rgba(0, 0, 0, 0.15);\n",
              "      filter: drop-shadow(0px 1px 2px rgba(0, 0, 0, 0.3));\n",
              "      fill: #FFFFFF;\n",
              "    }\n",
              "  </style>\n",
              "\n",
              "      <script>\n",
              "        const buttonEl =\n",
              "          document.querySelector('#df-d70e7779-6641-4211-bdd2-ea39b8aa84b1 button.colab-df-convert');\n",
              "        buttonEl.style.display =\n",
              "          google.colab.kernel.accessAllowed ? 'block' : 'none';\n",
              "\n",
              "        async function convertToInteractive(key) {\n",
              "          const element = document.querySelector('#df-d70e7779-6641-4211-bdd2-ea39b8aa84b1');\n",
              "          const dataTable =\n",
              "            await google.colab.kernel.invokeFunction('convertToInteractive',\n",
              "                                                     [key], {});\n",
              "          if (!dataTable) return;\n",
              "\n",
              "          const docLinkHtml = 'Like what you see? Visit the ' +\n",
              "            '<a target=\"_blank\" href=https://colab.research.google.com/notebooks/data_table.ipynb>data table notebook</a>'\n",
              "            + ' to learn more about interactive tables.';\n",
              "          element.innerHTML = '';\n",
              "          dataTable['output_type'] = 'display_data';\n",
              "          await google.colab.output.renderOutput(dataTable, element);\n",
              "          const docLink = document.createElement('div');\n",
              "          docLink.innerHTML = docLinkHtml;\n",
              "          element.appendChild(docLink);\n",
              "        }\n",
              "      </script>\n",
              "    </div>\n",
              "  </div>\n",
              "  "
            ]
          },
          "metadata": {},
          "execution_count": 58
        }
      ]
    },
    {
      "cell_type": "markdown",
      "metadata": {
        "id": "xt-9a3NEue1h"
      },
      "source": [
        "# Feature Engineering"
      ]
    },
    {
      "cell_type": "markdown",
      "metadata": {
        "id": "fVWB4VYPuhxb"
      },
      "source": [
        "Feature Engineering\n",
        "\t- TFIDFVec\n",
        "\t- Word2Vec"
      ]
    },
    {
      "cell_type": "markdown",
      "metadata": {
        "id": "Yh4wZJKPrvKo"
      },
      "source": [
        "## TF-IDF"
      ]
    },
    {
      "cell_type": "code",
      "execution_count": null,
      "metadata": {
        "id": "QyyYIoREr_nX"
      },
      "outputs": [],
      "source": [
        "from sklearn.feature_extraction.text import TfidfVectorizer"
      ]
    },
    {
      "cell_type": "code",
      "execution_count": null,
      "metadata": {
        "id": "CQQwil7Ir_rd"
      },
      "outputs": [],
      "source": [
        "vectorizer = TfidfVectorizer()\n",
        "\n",
        "X = vectorizer.fit_transform(balanced_df['comments_changed'])"
      ]
    },
    {
      "cell_type": "code",
      "source": [
        "X.shape"
      ],
      "metadata": {
        "colab": {
          "base_uri": "https://localhost:8080/"
        },
        "id": "nlAraxgMwOWM",
        "outputId": "8be47bb7-e343-4737-f572-dbdd408c7d4b"
      },
      "execution_count": null,
      "outputs": [
        {
          "output_type": "execute_result",
          "data": {
            "text/plain": [
              "(240232, 105916)"
            ]
          },
          "metadata": {},
          "execution_count": 106
        }
      ]
    },
    {
      "cell_type": "code",
      "source": [
        "vectorizer.get_feature_names_out()"
      ],
      "metadata": {
        "colab": {
          "base_uri": "https://localhost:8080/"
        },
        "id": "KBTuduZcyxSL",
        "outputId": "2a781eb3-0e94-4453-ba90-80f50c5cda9b"
      },
      "execution_count": null,
      "outputs": [
        {
          "output_type": "execute_result",
          "data": {
            "text/plain": [
              "array(['00', '000', '0000', ..., '𝙮𝙚𝙖𝙧𝙨', '𝟔𝟎𝟎', '𝟭𝟭𝟰'], dtype=object)"
            ]
          },
          "metadata": {},
          "execution_count": 98
        }
      ]
    },
    {
      "cell_type": "markdown",
      "source": [],
      "metadata": {
        "id": "bOWDg8jA5q7y"
      }
    },
    {
      "cell_type": "code",
      "source": [
        "X2= X_balanced_df"
      ],
      "metadata": {
        "id": "xvwdlhi55rL5"
      },
      "execution_count": null,
      "outputs": []
    },
    {
      "cell_type": "code",
      "source": [
        "X2.shape"
      ],
      "metadata": {
        "colab": {
          "base_uri": "https://localhost:8080/"
        },
        "id": "rbCKEXE36xk5",
        "outputId": "338bab9b-5a29-4fc2-95bd-285a2806f100"
      },
      "execution_count": null,
      "outputs": [
        {
          "output_type": "execute_result",
          "data": {
            "text/plain": [
              "(240232, 38)"
            ]
          },
          "metadata": {},
          "execution_count": 105
        }
      ]
    },
    {
      "cell_type": "code",
      "source": [],
      "metadata": {
        "id": "5EanbRLy7TNM"
      },
      "execution_count": null,
      "outputs": []
    },
    {
      "cell_type": "markdown",
      "metadata": {
        "id": "D7ZXRbGgtb7a"
      },
      "source": [
        "## Embeddings"
      ]
    },
    {
      "cell_type": "code",
      "execution_count": null,
      "metadata": {
        "id": "w93VNt-jtXH5"
      },
      "outputs": [],
      "source": [
        "# !pip install gensim==4.1.2\n",
        "# from gensim.test.utils import common_texts\n",
        "# from gensim.models import Word2Vec\n",
        "\n",
        "# model = Word2Vec(sentences=sentences, vector_size=100, window=5, min_count=1, workers=4)        #vector_size lub size , zależy od biblioteki nowszej starszej\n",
        "# model.build_vocab(sentences)\n",
        "\n",
        "# model.train(sentences,total_examples=model.corpus_count, epochs=10)\n",
        "# model.save(\"word2vec.model\")\n"
      ]
    },
    {
      "cell_type": "markdown",
      "metadata": {
        "id": "kkWxjGMOt3T_"
      },
      "source": [
        "# MODELLING"
      ]
    },
    {
      "cell_type": "markdown",
      "metadata": {
        "id": "mc3za1UJLQTQ"
      },
      "source": [
        "Problem do rozwiązania: Czy dany tekst jest hejtem, czy nie jest hejtem (0-1)? \n",
        "\n",
        "Rozwiązanie:\n",
        "- przewidywanie za pomocą regresji liniowej\n",
        "- przewidywanie za pomocą drzew decyzjnych"
      ]
    },
    {
      "cell_type": "markdown",
      "metadata": {
        "id": "Y4yP9biRCUKT"
      },
      "source": [
        "## Train/Test split"
      ]
    },
    {
      "cell_type": "code",
      "execution_count": null,
      "metadata": {
        "id": "2B7f6oSXtzRy"
      },
      "outputs": [],
      "source": [
        "from sklearn.model_selection import train_test_split"
      ]
    },
    {
      "cell_type": "code",
      "source": [
        "x= X     \n",
        "\n",
        "y= X_balanced_df[\"target\"]\n",
        "\n",
        "x_train, x_test, y_train, y_test = train_test_split(x, y, test_size=0.2, random_state=0)"
      ],
      "metadata": {
        "id": "qrFRYnie16UR"
      },
      "execution_count": null,
      "outputs": []
    },
    {
      "cell_type": "code",
      "source": [
        "x"
      ],
      "metadata": {
        "colab": {
          "base_uri": "https://localhost:8080/"
        },
        "id": "-xmcS0sXvrGa",
        "outputId": "9c9b5e00-9eaa-4339-d7bb-5deac1f1ea10"
      },
      "execution_count": null,
      "outputs": [
        {
          "output_type": "execute_result",
          "data": {
            "text/plain": [
              "<240232x105916 sparse matrix of type '<class 'numpy.float64'>'\n",
              "\twith 5456930 stored elements in Compressed Sparse Row format>"
            ]
          },
          "metadata": {},
          "execution_count": 95
        }
      ]
    },
    {
      "cell_type": "code",
      "source": [
        "y"
      ],
      "metadata": {
        "colab": {
          "base_uri": "https://localhost:8080/"
        },
        "id": "nSkLQrW6wIrc",
        "outputId": "9c43e918-f42d-4cad-e368-76d23825bae8"
      },
      "execution_count": null,
      "outputs": [
        {
          "output_type": "execute_result",
          "data": {
            "text/plain": [
              "0         0.3\n",
              "1         0.4\n",
              "2         0.0\n",
              "3         0.4\n",
              "4         0.0\n",
              "         ... \n",
              "240227    0.0\n",
              "240228    0.0\n",
              "240229    0.5\n",
              "240230    0.0\n",
              "240231    0.0\n",
              "Name: target, Length: 240232, dtype: float64"
            ]
          },
          "metadata": {},
          "execution_count": 87
        }
      ]
    },
    {
      "cell_type": "code",
      "execution_count": null,
      "metadata": {
        "id": "Mg3q1pkeCqkO",
        "colab": {
          "base_uri": "https://localhost:8080/"
        },
        "outputId": "d7dc2c9f-e805-4dad-eca5-9080091b7510"
      },
      "outputs": [
        {
          "output_type": "stream",
          "name": "stdout",
          "text": [
            "średnia ważona z y: 0.17062874416948998 , Odchylenie standardowe z y:  0.258144171778021\n"
          ]
        }
      ],
      "source": [
        "print(\"średnia ważona z y:\",y.mean(), \",\", \"Odchylenie standardowe z y: \", y.std())"
      ]
    },
    {
      "cell_type": "markdown",
      "metadata": {
        "id": "aqbQFEYqFLOk"
      },
      "source": [
        "## Regresja liniowa model liniowy"
      ]
    },
    {
      "cell_type": "code",
      "execution_count": null,
      "metadata": {
        "id": "10Snc49GFOxh"
      },
      "outputs": [],
      "source": [
        "from sklearn import linear_model\n",
        "from sklearn.metrics import mean_squared_error, r2_score"
      ]
    },
    {
      "cell_type": "code",
      "execution_count": null,
      "metadata": {
        "id": "sAmsy-yqFiFl",
        "colab": {
          "base_uri": "https://localhost:8080/"
        },
        "outputId": "42648677-7528-42db-972c-601d6dd2b5f3"
      },
      "outputs": [
        {
          "output_type": "execute_result",
          "data": {
            "text/plain": [
              "LinearRegression()"
            ]
          },
          "metadata": {},
          "execution_count": 65
        }
      ],
      "source": [
        "regr = linear_model.LinearRegression()\n",
        "\n",
        "regr.fit(x_train, y_train)"
      ]
    },
    {
      "cell_type": "code",
      "execution_count": null,
      "metadata": {
        "id": "KRaDpQVYFux8"
      },
      "outputs": [],
      "source": [
        "y_train_pred = regr.predict(x_train)\n",
        "y_test_pred = regr.predict(x_test)"
      ]
    },
    {
      "cell_type": "code",
      "execution_count": null,
      "metadata": {
        "id": "EV8zmqU2GA32",
        "colab": {
          "base_uri": "https://localhost:8080/"
        },
        "outputId": "213b7448-cd11-4ac1-e58a-3c0a41df73b4"
      },
      "outputs": [
        {
          "output_type": "stream",
          "name": "stdout",
          "text": [
            "RMSE na próbkach uczących: 0.122, testowych: 0.222\n"
          ]
        }
      ],
      "source": [
        "print('RMSE na próbkach uczących: %.3f, testowych: %.3f' % (\n",
        "        mean_squared_error(y_train, y_train_pred, squared=False),  \n",
        "        mean_squared_error(y_test, y_test_pred, squared=False)))  \n"
      ]
    },
    {
      "cell_type": "code",
      "execution_count": null,
      "metadata": {
        "id": "HBcwBrGEGUL-",
        "colab": {
          "base_uri": "https://localhost:8080/"
        },
        "outputId": "7312c469-3000-4df5-d46e-445037a8c2b6"
      },
      "outputs": [
        {
          "output_type": "stream",
          "name": "stdout",
          "text": [
            "Współczynnik R^2 dla danych uczących: 0.777, testowych: 0.263\n"
          ]
        }
      ],
      "source": [
        "print('Współczynnik R^2 dla danych uczących: %.3f, testowych: %.3f' % (\n",
        "        r2_score(y_train, y_train_pred),\n",
        "        r2_score(y_test, y_test_pred)))"
      ]
    },
    {
      "cell_type": "markdown",
      "metadata": {
        "id": "wmd6g22mI_Zi"
      },
      "source": [
        "## Regresja liniowa model Lasso z CV"
      ]
    },
    {
      "cell_type": "code",
      "execution_count": null,
      "metadata": {
        "id": "3okuIfX0JUAE"
      },
      "outputs": [],
      "source": [
        "from sklearn.model_selection import cross_val_score\n",
        "import warnings\n",
        "warnings.filterwarnings('ignore')"
      ]
    },
    {
      "cell_type": "code",
      "execution_count": null,
      "metadata": {
        "id": "DyIxmjYnJUCX"
      },
      "outputs": [],
      "source": [
        "lasso = linear_model.Lasso(alpha=0.1)\n",
        "\n",
        "lasso.fit(x_train, y_train)\n",
        "\n",
        "y_train_pred = regr.predict(x_train)\n",
        "y_test_pred = regr.predict(x_test)"
      ]
    },
    {
      "cell_type": "code",
      "execution_count": null,
      "metadata": {
        "id": "HT7ukJpWPIsA",
        "colab": {
          "base_uri": "https://localhost:8080/"
        },
        "outputId": "6fdec8d6-f500-4952-9381-dff0b0898205"
      },
      "outputs": [
        {
          "output_type": "stream",
          "name": "stdout",
          "text": [
            "[-6.11354651e-05 -8.20222569e-07 -4.32214219e-06 -5.64673683e-07\n",
            " -1.63935468e-05]\n"
          ]
        }
      ],
      "source": [
        "print(cross_val_score(lasso, x, y, cv=5))"
      ]
    },
    {
      "cell_type": "code",
      "execution_count": null,
      "metadata": {
        "id": "h7fnpBwdRQY3"
      },
      "outputs": [],
      "source": [
        "#jak zinterpretować ten wynik cross val score? Co on znaczy? Czy do tego też zastosować RMSE, r^2?"
      ]
    },
    {
      "cell_type": "markdown",
      "metadata": {
        "id": "SOgC1cznQ-9w"
      },
      "source": [
        "## Decision Tree Regression"
      ]
    },
    {
      "cell_type": "code",
      "execution_count": null,
      "metadata": {
        "id": "U9QJ6SaHPhXQ"
      },
      "outputs": [],
      "source": [
        "from sklearn.tree import DecisionTreeRegressor"
      ]
    },
    {
      "cell_type": "code",
      "execution_count": null,
      "metadata": {
        "id": "ScmC9sRpRpdK",
        "colab": {
          "base_uri": "https://localhost:8080/"
        },
        "outputId": "1217ac3c-bea3-4b18-bd51-09ea46a103c6"
      },
      "outputs": [
        {
          "output_type": "execute_result",
          "data": {
            "text/plain": [
              "DecisionTreeRegressor(max_depth=5)"
            ]
          },
          "metadata": {},
          "execution_count": 74
        }
      ],
      "source": [
        "regr_tree1 = DecisionTreeRegressor(max_depth=2)\n",
        "regr_tree2 = DecisionTreeRegressor(max_depth=5)\n",
        "\n",
        "regr_tree1.fit(x_train, y_train)\n",
        "regr_tree2.fit(x_train, y_train)"
      ]
    },
    {
      "cell_type": "code",
      "execution_count": null,
      "metadata": {
        "id": "mZ94zI4BRwoi"
      },
      "outputs": [],
      "source": [
        "y_train_pred1 = regr_tree1.predict(x_test)\n",
        "y_train_pred2 = regr_tree2.predict(x_test)"
      ]
    },
    {
      "cell_type": "code",
      "execution_count": null,
      "metadata": {
        "id": "5S34yYysSHW6"
      },
      "outputs": [],
      "source": [
        "import matplotlib.pyplot as plt"
      ]
    },
    {
      "cell_type": "code",
      "execution_count": null,
      "metadata": {
        "id": "bgvabZggSLYo",
        "colab": {
          "base_uri": "https://localhost:8080/",
          "height": 647
        },
        "outputId": "0fdbad16-ccef-4fd1-9c0a-7f000cd8fb02"
      },
      "outputs": [
        {
          "output_type": "error",
          "ename": "ValueError",
          "evalue": "ignored",
          "traceback": [
            "\u001b[0;31m---------------------------------------------------------------------------\u001b[0m",
            "\u001b[0;31mValueError\u001b[0m                                Traceback (most recent call last)",
            "\u001b[0;32m<ipython-input-77-9a997917c5c2>\u001b[0m in \u001b[0;36m<module>\u001b[0;34m\u001b[0m\n\u001b[1;32m      1\u001b[0m \u001b[0mplt\u001b[0m\u001b[0;34m.\u001b[0m\u001b[0mfigure\u001b[0m\u001b[0;34m(\u001b[0m\u001b[0;34m)\u001b[0m\u001b[0;34m\u001b[0m\u001b[0;34m\u001b[0m\u001b[0m\n\u001b[0;32m----> 2\u001b[0;31m \u001b[0mplt\u001b[0m\u001b[0;34m.\u001b[0m\u001b[0mscatter\u001b[0m\u001b[0;34m(\u001b[0m\u001b[0mx\u001b[0m\u001b[0;34m,\u001b[0m \u001b[0my\u001b[0m\u001b[0;34m,\u001b[0m \u001b[0ms\u001b[0m\u001b[0;34m=\u001b[0m\u001b[0;36m20\u001b[0m\u001b[0;34m,\u001b[0m \u001b[0medgecolor\u001b[0m\u001b[0;34m=\u001b[0m\u001b[0;34m\"black\"\u001b[0m\u001b[0;34m,\u001b[0m \u001b[0mc\u001b[0m\u001b[0;34m=\u001b[0m\u001b[0;34m\"darkorange\"\u001b[0m\u001b[0;34m,\u001b[0m \u001b[0mlabel\u001b[0m\u001b[0;34m=\u001b[0m\u001b[0;34m\"data\"\u001b[0m\u001b[0;34m)\u001b[0m\u001b[0;34m\u001b[0m\u001b[0;34m\u001b[0m\u001b[0m\n\u001b[0m\u001b[1;32m      3\u001b[0m \u001b[0mplt\u001b[0m\u001b[0;34m.\u001b[0m\u001b[0mplot\u001b[0m\u001b[0;34m(\u001b[0m\u001b[0mx_test\u001b[0m\u001b[0;34m,\u001b[0m \u001b[0my_train_pred1\u001b[0m\u001b[0;34m,\u001b[0m \u001b[0mcolor\u001b[0m\u001b[0;34m=\u001b[0m\u001b[0;34m\"cornflowerblue\"\u001b[0m\u001b[0;34m,\u001b[0m \u001b[0mlabel\u001b[0m\u001b[0;34m=\u001b[0m\u001b[0;34m\"max_depth=2\"\u001b[0m\u001b[0;34m,\u001b[0m \u001b[0mlinewidth\u001b[0m\u001b[0;34m=\u001b[0m\u001b[0;36m2\u001b[0m\u001b[0;34m)\u001b[0m\u001b[0;34m\u001b[0m\u001b[0;34m\u001b[0m\u001b[0m\n\u001b[1;32m      4\u001b[0m \u001b[0mplt\u001b[0m\u001b[0;34m.\u001b[0m\u001b[0mplot\u001b[0m\u001b[0;34m(\u001b[0m\u001b[0mx_test\u001b[0m\u001b[0;34m,\u001b[0m \u001b[0my_train_pred2\u001b[0m\u001b[0;34m,\u001b[0m \u001b[0mcolor\u001b[0m\u001b[0;34m=\u001b[0m\u001b[0;34m\"yellowgreen\"\u001b[0m\u001b[0;34m,\u001b[0m \u001b[0mlabel\u001b[0m\u001b[0;34m=\u001b[0m\u001b[0;34m\"max_depth=5\"\u001b[0m\u001b[0;34m,\u001b[0m \u001b[0mlinewidth\u001b[0m\u001b[0;34m=\u001b[0m\u001b[0;36m2\u001b[0m\u001b[0;34m)\u001b[0m\u001b[0;34m\u001b[0m\u001b[0;34m\u001b[0m\u001b[0m\n\u001b[1;32m      5\u001b[0m \u001b[0mplt\u001b[0m\u001b[0;34m.\u001b[0m\u001b[0mxlabel\u001b[0m\u001b[0;34m(\u001b[0m\u001b[0;34m\"data\"\u001b[0m\u001b[0;34m)\u001b[0m\u001b[0;34m\u001b[0m\u001b[0;34m\u001b[0m\u001b[0m\n",
            "\u001b[0;32m/usr/local/lib/python3.7/dist-packages/matplotlib/pyplot.py\u001b[0m in \u001b[0;36mscatter\u001b[0;34m(x, y, s, c, marker, cmap, norm, vmin, vmax, alpha, linewidths, verts, edgecolors, plotnonfinite, data, **kwargs)\u001b[0m\n\u001b[1;32m   2814\u001b[0m         \u001b[0mverts\u001b[0m\u001b[0;34m=\u001b[0m\u001b[0mverts\u001b[0m\u001b[0;34m,\u001b[0m \u001b[0medgecolors\u001b[0m\u001b[0;34m=\u001b[0m\u001b[0medgecolors\u001b[0m\u001b[0;34m,\u001b[0m\u001b[0;34m\u001b[0m\u001b[0;34m\u001b[0m\u001b[0m\n\u001b[1;32m   2815\u001b[0m         plotnonfinite=plotnonfinite, **({\"data\": data} if data is not\n\u001b[0;32m-> 2816\u001b[0;31m         None else {}), **kwargs)\n\u001b[0m\u001b[1;32m   2817\u001b[0m     \u001b[0msci\u001b[0m\u001b[0;34m(\u001b[0m\u001b[0m__ret\u001b[0m\u001b[0;34m)\u001b[0m\u001b[0;34m\u001b[0m\u001b[0;34m\u001b[0m\u001b[0m\n\u001b[1;32m   2818\u001b[0m     \u001b[0;32mreturn\u001b[0m \u001b[0m__ret\u001b[0m\u001b[0;34m\u001b[0m\u001b[0;34m\u001b[0m\u001b[0m\n",
            "\u001b[0;32m/usr/local/lib/python3.7/dist-packages/matplotlib/__init__.py\u001b[0m in \u001b[0;36minner\u001b[0;34m(ax, data, *args, **kwargs)\u001b[0m\n\u001b[1;32m   1563\u001b[0m     \u001b[0;32mdef\u001b[0m \u001b[0minner\u001b[0m\u001b[0;34m(\u001b[0m\u001b[0max\u001b[0m\u001b[0;34m,\u001b[0m \u001b[0;34m*\u001b[0m\u001b[0margs\u001b[0m\u001b[0;34m,\u001b[0m \u001b[0mdata\u001b[0m\u001b[0;34m=\u001b[0m\u001b[0;32mNone\u001b[0m\u001b[0;34m,\u001b[0m \u001b[0;34m**\u001b[0m\u001b[0mkwargs\u001b[0m\u001b[0;34m)\u001b[0m\u001b[0;34m:\u001b[0m\u001b[0;34m\u001b[0m\u001b[0;34m\u001b[0m\u001b[0m\n\u001b[1;32m   1564\u001b[0m         \u001b[0;32mif\u001b[0m \u001b[0mdata\u001b[0m \u001b[0;32mis\u001b[0m \u001b[0;32mNone\u001b[0m\u001b[0;34m:\u001b[0m\u001b[0;34m\u001b[0m\u001b[0;34m\u001b[0m\u001b[0m\n\u001b[0;32m-> 1565\u001b[0;31m             \u001b[0;32mreturn\u001b[0m \u001b[0mfunc\u001b[0m\u001b[0;34m(\u001b[0m\u001b[0max\u001b[0m\u001b[0;34m,\u001b[0m \u001b[0;34m*\u001b[0m\u001b[0mmap\u001b[0m\u001b[0;34m(\u001b[0m\u001b[0msanitize_sequence\u001b[0m\u001b[0;34m,\u001b[0m \u001b[0margs\u001b[0m\u001b[0;34m)\u001b[0m\u001b[0;34m,\u001b[0m \u001b[0;34m**\u001b[0m\u001b[0mkwargs\u001b[0m\u001b[0;34m)\u001b[0m\u001b[0;34m\u001b[0m\u001b[0;34m\u001b[0m\u001b[0m\n\u001b[0m\u001b[1;32m   1566\u001b[0m \u001b[0;34m\u001b[0m\u001b[0m\n\u001b[1;32m   1567\u001b[0m         \u001b[0mbound\u001b[0m \u001b[0;34m=\u001b[0m \u001b[0mnew_sig\u001b[0m\u001b[0;34m.\u001b[0m\u001b[0mbind\u001b[0m\u001b[0;34m(\u001b[0m\u001b[0max\u001b[0m\u001b[0;34m,\u001b[0m \u001b[0;34m*\u001b[0m\u001b[0margs\u001b[0m\u001b[0;34m,\u001b[0m \u001b[0;34m**\u001b[0m\u001b[0mkwargs\u001b[0m\u001b[0;34m)\u001b[0m\u001b[0;34m\u001b[0m\u001b[0;34m\u001b[0m\u001b[0m\n",
            "\u001b[0;32m/usr/local/lib/python3.7/dist-packages/matplotlib/cbook/deprecation.py\u001b[0m in \u001b[0;36mwrapper\u001b[0;34m(*args, **kwargs)\u001b[0m\n\u001b[1;32m    356\u001b[0m                 \u001b[0;34mf\"%(removal)s.  If any parameter follows {name!r}, they \"\u001b[0m\u001b[0;34m\u001b[0m\u001b[0;34m\u001b[0m\u001b[0m\n\u001b[1;32m    357\u001b[0m                 f\"should be pass as keyword, not positionally.\")\n\u001b[0;32m--> 358\u001b[0;31m         \u001b[0;32mreturn\u001b[0m \u001b[0mfunc\u001b[0m\u001b[0;34m(\u001b[0m\u001b[0;34m*\u001b[0m\u001b[0margs\u001b[0m\u001b[0;34m,\u001b[0m \u001b[0;34m**\u001b[0m\u001b[0mkwargs\u001b[0m\u001b[0;34m)\u001b[0m\u001b[0;34m\u001b[0m\u001b[0;34m\u001b[0m\u001b[0m\n\u001b[0m\u001b[1;32m    359\u001b[0m \u001b[0;34m\u001b[0m\u001b[0m\n\u001b[1;32m    360\u001b[0m     \u001b[0;32mreturn\u001b[0m \u001b[0mwrapper\u001b[0m\u001b[0;34m\u001b[0m\u001b[0;34m\u001b[0m\u001b[0m\n",
            "\u001b[0;32m/usr/local/lib/python3.7/dist-packages/matplotlib/axes/_axes.py\u001b[0m in \u001b[0;36mscatter\u001b[0;34m(self, x, y, s, c, marker, cmap, norm, vmin, vmax, alpha, linewidths, verts, edgecolors, plotnonfinite, **kwargs)\u001b[0m\n\u001b[1;32m   4389\u001b[0m         \u001b[0my\u001b[0m \u001b[0;34m=\u001b[0m \u001b[0mnp\u001b[0m\u001b[0;34m.\u001b[0m\u001b[0mma\u001b[0m\u001b[0;34m.\u001b[0m\u001b[0mravel\u001b[0m\u001b[0;34m(\u001b[0m\u001b[0my\u001b[0m\u001b[0;34m)\u001b[0m\u001b[0;34m\u001b[0m\u001b[0;34m\u001b[0m\u001b[0m\n\u001b[1;32m   4390\u001b[0m         \u001b[0;32mif\u001b[0m \u001b[0mx\u001b[0m\u001b[0;34m.\u001b[0m\u001b[0msize\u001b[0m \u001b[0;34m!=\u001b[0m \u001b[0my\u001b[0m\u001b[0;34m.\u001b[0m\u001b[0msize\u001b[0m\u001b[0;34m:\u001b[0m\u001b[0;34m\u001b[0m\u001b[0;34m\u001b[0m\u001b[0m\n\u001b[0;32m-> 4391\u001b[0;31m             \u001b[0;32mraise\u001b[0m \u001b[0mValueError\u001b[0m\u001b[0;34m(\u001b[0m\u001b[0;34m\"x and y must be the same size\"\u001b[0m\u001b[0;34m)\u001b[0m\u001b[0;34m\u001b[0m\u001b[0;34m\u001b[0m\u001b[0m\n\u001b[0m\u001b[1;32m   4392\u001b[0m \u001b[0;34m\u001b[0m\u001b[0m\n\u001b[1;32m   4393\u001b[0m         \u001b[0;32mif\u001b[0m \u001b[0ms\u001b[0m \u001b[0;32mis\u001b[0m \u001b[0;32mNone\u001b[0m\u001b[0;34m:\u001b[0m\u001b[0;34m\u001b[0m\u001b[0;34m\u001b[0m\u001b[0m\n",
            "\u001b[0;31mValueError\u001b[0m: x and y must be the same size"
          ]
        },
        {
          "output_type": "display_data",
          "data": {
            "text/plain": [
              "<Figure size 432x288 with 1 Axes>"
            ],
            "image/png": "[encoded data removed]"
          },
          "metadata": {
            "needs_background": "light"
          }
        }
      ],
      "source": [
        "plt.figure()\n",
        "plt.scatter(x, y, s=20, edgecolor=\"black\", c=\"darkorange\", label=\"data\")\n",
        "plt.plot(x_test, y_train_pred1, color=\"cornflowerblue\", label=\"max_depth=2\", linewidth=2)\n",
        "plt.plot(x_test, y_train_pred2, color=\"yellowgreen\", label=\"max_depth=5\", linewidth=2)\n",
        "plt.xlabel(\"data\")\n",
        "plt.ylabel(\"target\")\n",
        "plt.title(\"Decision Tree Regression\")\n",
        "plt.legend()\n",
        "plt.show()"
      ]
    },
    {
      "cell_type": "code",
      "execution_count": null,
      "metadata": {
        "id": "d3NsT2bZTbdl"
      },
      "outputs": [],
      "source": [
        "from sklearn.model_selection import cross_val_score"
      ]
    },
    {
      "cell_type": "code",
      "execution_count": null,
      "metadata": {
        "id": "mdJog5a5Tk8A"
      },
      "outputs": [],
      "source": [
        "regressor = DecisionTreeRegressor(random_state=0)\n",
        "\n",
        "cross_val_score(regressor, x, y, cv=3)"
      ]
    },
    {
      "cell_type": "code",
      "execution_count": null,
      "metadata": {
        "id": "sJANNaspUKgL"
      },
      "outputs": [],
      "source": [
        "#jak zinterpretować ten wynik cross val score? co on znaczy?"
      ]
    }
  ],
  "metadata": {
    "colab": {
      "collapsed_sections": [],
      "provenance": [],
      "authorship_tag": "ABX9TyMXmcDQsK++dwCOHje5UI6u",
      "include_colab_link": true
    },
    "kernelspec": {
      "display_name": "Python 3",
      "name": "python3"
    },
    "language_info": {
      "name": "python"
    }
  },
  "nbformat": 4,
  "nbformat_minor": 0
}